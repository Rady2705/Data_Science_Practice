{
 "cells": [
  {
   "cell_type": "code",
   "execution_count": 1,
   "id": "9a2052ed",
   "metadata": {},
   "outputs": [],
   "source": [
    "import pandas as pd\n",
    "import numpy as np\n",
    "from numpy import mean, std\n",
    "import matplotlib.pyplot as plt\n",
    "import seaborn as sb\n",
    "from sklearn.model_selection import cross_val_score, train_test_split, RepeatedKFold, KFold, RepeatedStratifiedKFold, GridSearchCV\n",
    "from sklearn.preprocessing import LabelEncoder, MinMaxScaler, StandardScaler, FunctionTransformer, PowerTransformer\n",
    "from sklearn.linear_model import LogisticRegression\n",
    "from sklearn.metrics import mean_squared_error\n",
    "from sklearn.metrics import mean_absolute_error\n",
    "from sklearn.datasets import make_regression\n",
    "from sklearn.ensemble import AdaBoostClassifier\n",
    "from sklearn.ensemble import RandomForestClassifier\n",
    "from sklearn.neighbors import KNeighborsClassifier\n",
    "from sklearn.svm import SVC\n",
    "from sklearn.naive_bayes import GaussianNB\n",
    "from sklearn.tree import DecisionTreeClassifier\n",
    "from sklearn.ensemble import StackingClassifier\n",
    "from sklearn.metrics import roc_curve\n",
    "from sklearn.metrics import roc_auc_score\n",
    "from matplotlib import pyplot\n",
    "from sklearn.metrics import recall_score\n",
    "from sklearn.metrics import f1_score\n",
    "from sklearn.metrics import accuracy_score\n",
    "from sklearn.metrics import precision_score, confusion_matrix, plot_confusion_matrix\n",
    "import warnings\n",
    "warnings.filterwarnings(\"ignore\")"
   ]
  },
  {
   "cell_type": "markdown",
   "id": "7f845579",
   "metadata": {},
   "source": [
    "# DATA EXPLORATION"
   ]
  },
  {
   "cell_type": "code",
   "execution_count": 2,
   "id": "dce4caa7",
   "metadata": {},
   "outputs": [
    {
     "data": {
      "text/html": [
       "<div>\n",
       "<style scoped>\n",
       "    .dataframe tbody tr th:only-of-type {\n",
       "        vertical-align: middle;\n",
       "    }\n",
       "\n",
       "    .dataframe tbody tr th {\n",
       "        vertical-align: top;\n",
       "    }\n",
       "\n",
       "    .dataframe thead th {\n",
       "        text-align: right;\n",
       "    }\n",
       "</style>\n",
       "<table border=\"1\" class=\"dataframe\">\n",
       "  <thead>\n",
       "    <tr style=\"text-align: right;\">\n",
       "      <th></th>\n",
       "      <th>Id</th>\n",
       "      <th>Area(total)</th>\n",
       "      <th>Trooms</th>\n",
       "      <th>Nbedrooms</th>\n",
       "      <th>Nbwashrooms</th>\n",
       "      <th>Twashrooms</th>\n",
       "      <th>roof</th>\n",
       "      <th>Roof(Area)</th>\n",
       "      <th>Lawn(Area)</th>\n",
       "      <th>Nfloors</th>\n",
       "      <th>API</th>\n",
       "      <th>ANB</th>\n",
       "      <th>Expected price</th>\n",
       "      <th>Grade</th>\n",
       "    </tr>\n",
       "  </thead>\n",
       "  <tbody>\n",
       "    <tr>\n",
       "      <th>0</th>\n",
       "      <td>1</td>\n",
       "      <td>339</td>\n",
       "      <td>6</td>\n",
       "      <td>5</td>\n",
       "      <td>4</td>\n",
       "      <td>6</td>\n",
       "      <td>NO</td>\n",
       "      <td>0</td>\n",
       "      <td>76</td>\n",
       "      <td>2</td>\n",
       "      <td>79</td>\n",
       "      <td>6</td>\n",
       "      <td>3481</td>\n",
       "      <td>D</td>\n",
       "    </tr>\n",
       "    <tr>\n",
       "      <th>1</th>\n",
       "      <td>2</td>\n",
       "      <td>358</td>\n",
       "      <td>5</td>\n",
       "      <td>4</td>\n",
       "      <td>3</td>\n",
       "      <td>4</td>\n",
       "      <td>YES</td>\n",
       "      <td>71</td>\n",
       "      <td>96</td>\n",
       "      <td>3</td>\n",
       "      <td>72</td>\n",
       "      <td>4</td>\n",
       "      <td>3510</td>\n",
       "      <td>D</td>\n",
       "    </tr>\n",
       "    <tr>\n",
       "      <th>2</th>\n",
       "      <td>3</td>\n",
       "      <td>324</td>\n",
       "      <td>7</td>\n",
       "      <td>5</td>\n",
       "      <td>4</td>\n",
       "      <td>5</td>\n",
       "      <td>YES</td>\n",
       "      <td>101</td>\n",
       "      <td>117</td>\n",
       "      <td>5</td>\n",
       "      <td>64</td>\n",
       "      <td>3</td>\n",
       "      <td>3748</td>\n",
       "      <td>C</td>\n",
       "    </tr>\n",
       "    <tr>\n",
       "      <th>3</th>\n",
       "      <td>4</td>\n",
       "      <td>330</td>\n",
       "      <td>6</td>\n",
       "      <td>4</td>\n",
       "      <td>3</td>\n",
       "      <td>5</td>\n",
       "      <td>YES</td>\n",
       "      <td>101</td>\n",
       "      <td>82</td>\n",
       "      <td>2</td>\n",
       "      <td>59</td>\n",
       "      <td>2</td>\n",
       "      <td>3134</td>\n",
       "      <td>D</td>\n",
       "    </tr>\n",
       "    <tr>\n",
       "      <th>4</th>\n",
       "      <td>5</td>\n",
       "      <td>320</td>\n",
       "      <td>7</td>\n",
       "      <td>4</td>\n",
       "      <td>4</td>\n",
       "      <td>5</td>\n",
       "      <td>NO</td>\n",
       "      <td>0</td>\n",
       "      <td>75</td>\n",
       "      <td>3</td>\n",
       "      <td>40</td>\n",
       "      <td>1</td>\n",
       "      <td>3843</td>\n",
       "      <td>D</td>\n",
       "    </tr>\n",
       "    <tr>\n",
       "      <th>...</th>\n",
       "      <td>...</td>\n",
       "      <td>...</td>\n",
       "      <td>...</td>\n",
       "      <td>...</td>\n",
       "      <td>...</td>\n",
       "      <td>...</td>\n",
       "      <td>...</td>\n",
       "      <td>...</td>\n",
       "      <td>...</td>\n",
       "      <td>...</td>\n",
       "      <td>...</td>\n",
       "      <td>...</td>\n",
       "      <td>...</td>\n",
       "      <td>...</td>\n",
       "    </tr>\n",
       "    <tr>\n",
       "      <th>2995</th>\n",
       "      <td>2996</td>\n",
       "      <td>341</td>\n",
       "      <td>9</td>\n",
       "      <td>6</td>\n",
       "      <td>5</td>\n",
       "      <td>7</td>\n",
       "      <td>YES</td>\n",
       "      <td>95</td>\n",
       "      <td>115</td>\n",
       "      <td>5</td>\n",
       "      <td>90</td>\n",
       "      <td>2</td>\n",
       "      <td>4246</td>\n",
       "      <td>B</td>\n",
       "    </tr>\n",
       "    <tr>\n",
       "      <th>2996</th>\n",
       "      <td>2997</td>\n",
       "      <td>292</td>\n",
       "      <td>9</td>\n",
       "      <td>8</td>\n",
       "      <td>7</td>\n",
       "      <td>8</td>\n",
       "      <td>YES</td>\n",
       "      <td>116</td>\n",
       "      <td>87</td>\n",
       "      <td>7</td>\n",
       "      <td>97</td>\n",
       "      <td>4</td>\n",
       "      <td>3753</td>\n",
       "      <td>A</td>\n",
       "    </tr>\n",
       "    <tr>\n",
       "      <th>2997</th>\n",
       "      <td>2998</td>\n",
       "      <td>328</td>\n",
       "      <td>7</td>\n",
       "      <td>4</td>\n",
       "      <td>3</td>\n",
       "      <td>5</td>\n",
       "      <td>NO</td>\n",
       "      <td>0</td>\n",
       "      <td>78</td>\n",
       "      <td>5</td>\n",
       "      <td>95</td>\n",
       "      <td>6</td>\n",
       "      <td>3607</td>\n",
       "      <td>D</td>\n",
       "    </tr>\n",
       "    <tr>\n",
       "      <th>2998</th>\n",
       "      <td>2999</td>\n",
       "      <td>293</td>\n",
       "      <td>9</td>\n",
       "      <td>7</td>\n",
       "      <td>7</td>\n",
       "      <td>8</td>\n",
       "      <td>NO</td>\n",
       "      <td>0</td>\n",
       "      <td>78</td>\n",
       "      <td>7</td>\n",
       "      <td>51</td>\n",
       "      <td>3</td>\n",
       "      <td>4198</td>\n",
       "      <td>B</td>\n",
       "    </tr>\n",
       "    <tr>\n",
       "      <th>2999</th>\n",
       "      <td>3000</td>\n",
       "      <td>343</td>\n",
       "      <td>7</td>\n",
       "      <td>6</td>\n",
       "      <td>6</td>\n",
       "      <td>8</td>\n",
       "      <td>NO</td>\n",
       "      <td>0</td>\n",
       "      <td>108</td>\n",
       "      <td>5</td>\n",
       "      <td>95</td>\n",
       "      <td>3</td>\n",
       "      <td>4105</td>\n",
       "      <td>C</td>\n",
       "    </tr>\n",
       "  </tbody>\n",
       "</table>\n",
       "<p>3000 rows × 14 columns</p>\n",
       "</div>"
      ],
      "text/plain": [
       "        Id  Area(total)  Trooms  Nbedrooms  Nbwashrooms  Twashrooms roof  \\\n",
       "0        1          339       6          5            4           6   NO   \n",
       "1        2          358       5          4            3           4  YES   \n",
       "2        3          324       7          5            4           5  YES   \n",
       "3        4          330       6          4            3           5  YES   \n",
       "4        5          320       7          4            4           5   NO   \n",
       "...    ...          ...     ...        ...          ...         ...  ...   \n",
       "2995  2996          341       9          6            5           7  YES   \n",
       "2996  2997          292       9          8            7           8  YES   \n",
       "2997  2998          328       7          4            3           5   NO   \n",
       "2998  2999          293       9          7            7           8   NO   \n",
       "2999  3000          343       7          6            6           8   NO   \n",
       "\n",
       "      Roof(Area)  Lawn(Area)  Nfloors  API  ANB  Expected price Grade  \n",
       "0              0          76        2   79    6            3481     D  \n",
       "1             71          96        3   72    4            3510     D  \n",
       "2            101         117        5   64    3            3748     C  \n",
       "3            101          82        2   59    2            3134     D  \n",
       "4              0          75        3   40    1            3843     D  \n",
       "...          ...         ...      ...  ...  ...             ...   ...  \n",
       "2995          95         115        5   90    2            4246     B  \n",
       "2996         116          87        7   97    4            3753     A  \n",
       "2997           0          78        5   95    6            3607     D  \n",
       "2998           0          78        7   51    3            4198     B  \n",
       "2999           0         108        5   95    3            4105     C  \n",
       "\n",
       "[3000 rows x 14 columns]"
      ]
     },
     "execution_count": 2,
     "metadata": {},
     "output_type": "execute_result"
    }
   ],
   "source": [
    "house_df = pd.read_csv('DS3_C6_S2_Classification_HouseGrade_Data_Project.csv')\n",
    "house_df"
   ]
  },
  {
   "cell_type": "code",
   "execution_count": 3,
   "id": "e710b473",
   "metadata": {},
   "outputs": [
    {
     "name": "stdout",
     "output_type": "stream",
     "text": [
      "Shape of the dataframe : (3000, 14)\n",
      "\n",
      "Summary of the dataframe : \n",
      "\n",
      "                Id  Area(total)       Trooms    Nbedrooms  Nbwashrooms  \\\n",
      "count  3000.000000  3000.000000  3000.000000  3000.000000  3000.000000   \n",
      "mean   1500.500000   325.117000     7.021667     5.023000     4.513667   \n",
      "std     866.169729    20.507742     1.421221     1.634838     1.715263   \n",
      "min       1.000000   290.000000     5.000000     2.000000     1.000000   \n",
      "25%     750.750000   308.000000     6.000000     4.000000     3.000000   \n",
      "50%    1500.500000   325.000000     7.000000     5.000000     4.000000   \n",
      "75%    2250.250000   343.000000     8.000000     6.000000     6.000000   \n",
      "max    3000.000000   360.000000     9.000000     8.000000     8.000000   \n",
      "\n",
      "        Twashrooms   Roof(Area)   Lawn(Area)      Nfloors          API  \\\n",
      "count  3000.000000  3000.000000  3000.000000  3000.000000  3000.000000   \n",
      "mean      6.010667    48.980667    95.609333     4.013333    70.190667   \n",
      "std       1.786136    48.746641    14.837388     1.621532    17.563460   \n",
      "min       2.000000     0.000000    70.000000     1.000000    40.000000   \n",
      "25%       5.000000     0.000000    83.000000     3.000000    55.000000   \n",
      "50%       6.000000    71.000000    96.000000     4.000000    70.000000   \n",
      "75%       7.000000    96.000000   109.000000     5.000000    85.000000   \n",
      "max      10.000000   120.000000   120.000000     7.000000   100.000000   \n",
      "\n",
      "              ANB  Expected price  \n",
      "count  3000.00000     3000.000000  \n",
      "mean      3.47900     3782.938333  \n",
      "std       1.69426      567.189995  \n",
      "min       1.00000     2504.000000  \n",
      "25%       2.00000     3354.000000  \n",
      "50%       4.00000     3771.000000  \n",
      "75%       5.00000     4208.000000  \n",
      "max       6.00000     5216.000000  \n",
      "\n",
      "<class 'pandas.core.frame.DataFrame'>\n",
      "RangeIndex: 3000 entries, 0 to 2999\n",
      "Data columns (total 14 columns):\n",
      " #   Column          Non-Null Count  Dtype \n",
      "---  ------          --------------  ----- \n",
      " 0   Id              3000 non-null   int64 \n",
      " 1   Area(total)     3000 non-null   int64 \n",
      " 2   Trooms          3000 non-null   int64 \n",
      " 3   Nbedrooms       3000 non-null   int64 \n",
      " 4   Nbwashrooms     3000 non-null   int64 \n",
      " 5   Twashrooms      3000 non-null   int64 \n",
      " 6   roof            3000 non-null   object\n",
      " 7   Roof(Area)      3000 non-null   int64 \n",
      " 8   Lawn(Area)      3000 non-null   int64 \n",
      " 9   Nfloors         3000 non-null   int64 \n",
      " 10  API             3000 non-null   int64 \n",
      " 11  ANB             3000 non-null   int64 \n",
      " 12  Expected price  3000 non-null   int64 \n",
      " 13  Grade           3000 non-null   object\n",
      "dtypes: int64(12), object(2)\n",
      "memory usage: 328.2+ KB\n",
      "\n",
      "Information about the dataframe : \n",
      "None\n",
      "\n",
      "\n",
      "Null values is the dataframe : \n",
      "\n",
      "Id                0\n",
      "Area(total)       0\n",
      "Trooms            0\n",
      "Nbedrooms         0\n",
      "Nbwashrooms       0\n",
      "Twashrooms        0\n",
      "roof              0\n",
      "Roof(Area)        0\n",
      "Lawn(Area)        0\n",
      "Nfloors           0\n",
      "API               0\n",
      "ANB               0\n",
      "Expected price    0\n",
      "Grade             0\n",
      "dtype: int64\n",
      "\n"
     ]
    }
   ],
   "source": [
    "print(f\"Shape of the dataframe : {house_df.shape}\\n\")\n",
    "print(f\"Summary of the dataframe : \\n\\n{house_df.describe()}\\n\")\n",
    "print(f\"\\nInformation about the dataframe : \\n{house_df.info()}\\n\")\n",
    "print(f\"\\nNull values is the dataframe : \\n\\n{house_df.isnull().sum()}\\n\")"
   ]
  },
  {
   "cell_type": "code",
   "execution_count": 4,
   "id": "7dbdf481",
   "metadata": {},
   "outputs": [
    {
     "name": "stdout",
     "output_type": "stream",
     "text": [
      "0\n"
     ]
    }
   ],
   "source": [
    "for i in house_df:\n",
    "    if house_df[i].dtype == 'int64' or house_df[i].dtype == 'float64':\n",
    "        if house_df[i].isnull().sum() > 0:\n",
    "            house_df[i].fillna(house_df[i].mean(), inplace = True)\n",
    "print(house_df[i].isnull().sum())"
   ]
  },
  {
   "cell_type": "code",
   "execution_count": 5,
   "id": "1d2ea93c",
   "metadata": {},
   "outputs": [
    {
     "data": {
      "text/plain": [
       "['roof', 'Grade']"
      ]
     },
     "execution_count": 5,
     "metadata": {},
     "output_type": "execute_result"
    }
   ],
   "source": [
    "cat_col = list(house_df.select_dtypes(include='object'))\n",
    "cat_col"
   ]
  },
  {
   "cell_type": "markdown",
   "id": "caccd06a",
   "metadata": {},
   "source": [
    "# EXPLORATORY DATA ANALYSIS"
   ]
  },
  {
   "cell_type": "code",
   "execution_count": 6,
   "id": "35fb840b",
   "metadata": {},
   "outputs": [],
   "source": [
    "def bar_percentage(ax,count='number of rows in data'):\n",
    "    for bar in ax.patches:                                           \n",
    "        percentage = f\"{round((bar.get_height() /count)*100, 2)}%\"\n",
    "        x = bar.get_x() + bar.get_width() /2\n",
    "        y = bar.get_height()\n",
    "        ax.annotate(percentage, (x, y), va = \"bottom\", ha =\"center\" )"
   ]
  },
  {
   "cell_type": "code",
   "execution_count": 7,
   "id": "893a4e9b",
   "metadata": {},
   "outputs": [
    {
     "data": {
      "text/plain": [
       "(array([0, 1, 2, 3, 4, 5, 6]),\n",
       " [Text(0, 0, '1'),\n",
       "  Text(1, 0, '2'),\n",
       "  Text(2, 0, '3'),\n",
       "  Text(3, 0, '4'),\n",
       "  Text(4, 0, '5'),\n",
       "  Text(5, 0, '6'),\n",
       "  Text(6, 0, '7')])"
      ]
     },
     "execution_count": 7,
     "metadata": {},
     "output_type": "execute_result"
    },
    {
     "data": {
      "image/png": "[encoded data removed]",
      "text/plain": [
       "<Figure size 2160x864 with 6 Axes>"
      ]
     },
     "metadata": {
      "needs_background": "light"
     },
     "output_type": "display_data"
    }
   ],
   "source": [
    "# Plotting the countplot for univariate analysis\n",
    "\n",
    "fig, ax = plt.subplots(2,3, tight_layout=True ,figsize=(30,12))\n",
    "bar_percentage(sb.countplot(house_df['Grade'], palette='Set2', ax=ax[0][0]), len(house_df))\n",
    "bar_percentage(sb.countplot(house_df['Trooms'], palette='Set2', ax=ax[0][1]), len(house_df))\n",
    "bar_percentage(sb.countplot(house_df['Nbedrooms'], palette=\"Set2\", ax=ax[0][2]), len(house_df))\n",
    "data = house_df['roof'].value_counts()\n",
    "ax[1][0].pie(data,autopct='%.2f%%',labels=house_df['roof'].unique())\n",
    "ax[1][0].set_title('Roof')\n",
    "bar_percentage(sb.countplot(house_df['Twashrooms'], palette=\"Set2\", ax=ax[1][1]), len(house_df))\n",
    "bar_percentage(sb.countplot(house_df['Nfloors'], palette=\"Set2\", ax=ax[1][2]), len(house_df))\n",
    "plt.xticks(rotation=90)"
   ]
  },
  {
   "cell_type": "markdown",
   "id": "281f37d9",
   "metadata": {},
   "source": [
    "1. D grade houses are mostly available\n",
    "\n",
    "2. Houses with 9 rooms are available mostly\n",
    "\n",
    "3. Maximum of 4 bedrooms are avaialble in most of the houses\n",
    "\n",
    "4. Almost houses with roof and roofless are equally available\n",
    "\n",
    "5. Almost many houses have total of 5 washrooms\n",
    "\n",
    "6. Mostly houses with 3 floors are highly available"
   ]
  },
  {
   "cell_type": "code",
   "execution_count": 8,
   "id": "c67a38bd",
   "metadata": {},
   "outputs": [
    {
     "data": {
      "image/png": "[encoded data removed]",
      "text/plain": [
       "<Figure size 1440x576 with 12 Axes>"
      ]
     },
     "metadata": {},
     "output_type": "display_data"
    }
   ],
   "source": [
    "# For numerical Colums\n",
    "numerics = ['int16', 'int32', 'int64', 'float16', 'float32', 'float64']\n",
    "new_df = house_df.select_dtypes(include=numerics)\n",
    "numeric_cols=new_df.columns\n",
    "num_cols=3\n",
    "n_bins = 10\n",
    "sb.set(style=\"darkgrid\")\n",
    "\n",
    "# Num of Rows\n",
    "num_rows= int(len(numeric_cols)/num_cols)\n",
    "fig, axs = plt.subplots(num_rows, num_cols, tight_layout=True,figsize=(20,8))\n",
    "\n",
    "# For visualizing the data usig histogram\n",
    "for col, ax in zip(numeric_cols,axs.flatten()[:len(numeric_cols)]):\n",
    "    ax.hist(new_df[col],bins=n_bins,density=True,color = \"g\")\n",
    "    ax.set_title(col)\n",
    "\n",
    "plt.show()"
   ]
  },
  {
   "cell_type": "markdown",
   "id": "eb59a406",
   "metadata": {},
   "source": [
    "More over area of the house an API are uniformly distributed and expected price is normally distributed."
   ]
  },
  {
   "cell_type": "code",
   "execution_count": 9,
   "id": "b1a96660",
   "metadata": {},
   "outputs": [
    {
     "data": {
      "text/plain": [
       "(array([0, 1, 2, 3, 4]),\n",
       " [Text(0, 0, 'D'),\n",
       "  Text(1, 0, 'C'),\n",
       "  Text(2, 0, 'B'),\n",
       "  Text(3, 0, 'A'),\n",
       "  Text(4, 0, 'E')])"
      ]
     },
     "execution_count": 9,
     "metadata": {},
     "output_type": "execute_result"
    },
    {
     "data": {
      "image/png": "[encoded data removed]",
      "text/plain": [
       "<Figure size 2160x1296 with 9 Axes>"
      ]
     },
     "metadata": {},
     "output_type": "display_data"
    }
   ],
   "source": [
    "# Plotting the barplot for bivariate analysis\n",
    "\n",
    "fig, ax = plt.subplots(3,3, tight_layout=True ,figsize=(30,18))\n",
    "bar_percentage(sb.barplot(x=house_df['Grade'], y = house_df['Trooms'],palette='Set2', ax=ax[0][0]), len(house_df))\n",
    "bar_percentage(sb.barplot(x=house_df['Grade'], y=house_df['Nbedrooms'],palette='Set2', ax=ax[0][1]), len(house_df))\n",
    "bar_percentage(sb.barplot(house_df['Grade'],y=house_df['Twashrooms'], palette=\"Set2\", ax=ax[0][2]), len(house_df))\n",
    "bar_percentage(sb.barplot(house_df['Grade'],y=house_df['Lawn(Area)'], palette=\"Set2\", ax=ax[1][0]), len(house_df))\n",
    "bar_percentage(sb.barplot(house_df['Grade'],y=house_df['Nfloors'], palette=\"Set2\", ax=ax[1][1]), len(house_df))\n",
    "sb.regplot(x=house_df['Area(total)'],y=house_df['Expected price'],line_kws={'color':'red'},ax=ax[1][2])\n",
    "bar_percentage(sb.barplot(house_df['Grade'],y=house_df['Nbwashrooms'], palette=\"Set2\", ax=ax[2][0]), len(house_df))\n",
    "bar_percentage(sb.barplot(house_df['Grade'],y=house_df['API'], palette=\"Set2\", ax=ax[2][1]), len(house_df))\n",
    "bar_percentage(sb.barplot(house_df['Grade'],y=house_df['Roof(Area)'], palette=\"Set2\", ax=ax[2][2]), len(house_df))\n",
    "plt.xticks(rotation=90)"
   ]
  },
  {
   "cell_type": "markdown",
   "id": "2080958a",
   "metadata": {},
   "source": [
    "7. A grade houses tops the chart in all category in which no of rooms, washrooms, floors, roof area and lawn area and which is also higher is budget"
   ]
  },
  {
   "cell_type": "code",
   "execution_count": 10,
   "id": "af7234c7",
   "metadata": {},
   "outputs": [
    {
     "data": {
      "image/png": "[encoded data removed]",
      "text/plain": [
       "<Figure size 2160x1188 with 4 Axes>"
      ]
     },
     "metadata": {},
     "output_type": "display_data"
    }
   ],
   "source": [
    "# Plotting the barplot for multivariate analysis\n",
    "\n",
    "fig, ax = plt.subplots(2,2, tight_layout=True ,figsize=(30,16.5))\n",
    "bar_percentage(sb.barplot(hue=house_df['roof'],x=house_df['Grade'], y = house_df['Expected price'],palette='Set2', ax=ax[0][0]), len(house_df))\n",
    "bar_percentage(sb.barplot(hue=house_df['Nfloors'],x=house_df['Grade'], y=house_df['Expected price'],palette='Set2', ax=ax[0][1]), len(house_df))\n",
    "bar_percentage(sb.barplot(hue=house_df['Trooms'],x=house_df['Grade'],y=house_df['Expected price'], palette=\"Set2\", ax=ax[1][0]), len(house_df))\n",
    "bar_percentage(sb.barplot(hue=house_df['Twashrooms'],x=house_df['Grade'],y=house_df['Expected price'], palette=\"Set2\", ax=ax[1][1]), len(house_df))"
   ]
  },
  {
   "cell_type": "markdown",
   "id": "d6bad374",
   "metadata": {},
   "source": [
    "8. For a person who is looking for the affordable and good set of houses where wide variety of rooms, washrooms and bedrooms available C category can be legible and affordable with a reasonable price."
   ]
  },
  {
   "cell_type": "markdown",
   "id": "07dbc460",
   "metadata": {},
   "source": [
    "# DATA PREPROCESSING"
   ]
  },
  {
   "cell_type": "code",
   "execution_count": 11,
   "id": "3e212ea2",
   "metadata": {},
   "outputs": [
    {
     "name": "stdout",
     "output_type": "stream",
     "text": [
      "<class 'pandas.core.frame.DataFrame'>\n",
      "RangeIndex: 3000 entries, 0 to 2999\n",
      "Data columns (total 16 columns):\n",
      " #   Column          Non-Null Count  Dtype   \n",
      "---  ------          --------------  -----   \n",
      " 0   Id              3000 non-null   int64   \n",
      " 1   Area(total)     3000 non-null   int64   \n",
      " 2   Trooms          3000 non-null   int64   \n",
      " 3   Nbedrooms       3000 non-null   int64   \n",
      " 4   Nbwashrooms     3000 non-null   int64   \n",
      " 5   Twashrooms      3000 non-null   int64   \n",
      " 6   roof            3000 non-null   category\n",
      " 7   Roof(Area)      3000 non-null   int64   \n",
      " 8   Lawn(Area)      3000 non-null   int64   \n",
      " 9   Nfloors         3000 non-null   int64   \n",
      " 10  API             3000 non-null   int64   \n",
      " 11  ANB             3000 non-null   int64   \n",
      " 12  Expected price  3000 non-null   int64   \n",
      " 13  Grade           3000 non-null   category\n",
      " 14  roof_encoded    3000 non-null   int32   \n",
      " 15  Grade_encoded   3000 non-null   int32   \n",
      "dtypes: category(2), int32(2), int64(12)\n",
      "memory usage: 311.0 KB\n"
     ]
    }
   ],
   "source": [
    "# FOR TRAIN AND VALIDATION DATA\n",
    "\n",
    "for i in house_df:\n",
    "    if house_df[i].dtype == 'object':\n",
    "        house_df[i] = house_df[i].astype('category')\n",
    "        house_df[i+'_encoded'] = LabelEncoder().fit_transform(house_df[i])\n",
    "house_df.info()"
   ]
  },
  {
   "cell_type": "markdown",
   "id": "a1f13411",
   "metadata": {},
   "source": [
    "# FEATURE SCALING AND SELECTION"
   ]
  },
  {
   "cell_type": "code",
   "execution_count": 12,
   "id": "7ab2682b",
   "metadata": {},
   "outputs": [
    {
     "data": {
      "text/html": [
       "<style type=\"text/css\">\n",
       "#T_33315_row0_col0, #T_33315_row1_col1, #T_33315_row2_col2, #T_33315_row3_col3, #T_33315_row4_col4, #T_33315_row5_col5, #T_33315_row6_col6, #T_33315_row7_col7, #T_33315_row8_col8, #T_33315_row9_col9, #T_33315_row10_col10, #T_33315_row11_col11, #T_33315_row12_col12, #T_33315_row13_col13 {\n",
       "  background-color: #b40426;\n",
       "  color: #f1f1f1;\n",
       "}\n",
       "#T_33315_row0_col1, #T_33315_row1_col12, #T_33315_row8_col12, #T_33315_row11_col6 {\n",
       "  background-color: #6b8df0;\n",
       "  color: #f1f1f1;\n",
       "}\n",
       "#T_33315_row0_col2, #T_33315_row0_col3, #T_33315_row6_col5, #T_33315_row9_col3, #T_33315_row9_col4, #T_33315_row12_col5 {\n",
       "  background-color: #d4dbe6;\n",
       "  color: #000000;\n",
       "}\n",
       "#T_33315_row0_col4, #T_33315_row9_col5, #T_33315_row10_col5 {\n",
       "  background-color: #d2dbe8;\n",
       "  color: #000000;\n",
       "}\n",
       "#T_33315_row0_col5, #T_33315_row1_col8, #T_33315_row10_col8 {\n",
       "  background-color: #cfdaea;\n",
       "  color: #000000;\n",
       "}\n",
       "#T_33315_row0_col6, #T_33315_row1_col6, #T_33315_row8_col6 {\n",
       "  background-color: #6c8ff1;\n",
       "  color: #f1f1f1;\n",
       "}\n",
       "#T_33315_row0_col7, #T_33315_row2_col7, #T_33315_row4_col7, #T_33315_row5_col7 {\n",
       "  background-color: #4b64d5;\n",
       "  color: #f1f1f1;\n",
       "}\n",
       "#T_33315_row0_col8, #T_33315_row0_col11, #T_33315_row6_col11, #T_33315_row12_col11 {\n",
       "  background-color: #cbd8ee;\n",
       "  color: #000000;\n",
       "}\n",
       "#T_33315_row0_col9, #T_33315_row8_col9 {\n",
       "  background-color: #5572df;\n",
       "  color: #f1f1f1;\n",
       "}\n",
       "#T_33315_row0_col10, #T_33315_row1_col10, #T_33315_row4_col13, #T_33315_row5_col0 {\n",
       "  background-color: #3e51c5;\n",
       "  color: #f1f1f1;\n",
       "}\n",
       "#T_33315_row0_col12, #T_33315_row7_col1, #T_33315_row9_col1, #T_33315_row11_col12 {\n",
       "  background-color: #6a8bef;\n",
       "  color: #f1f1f1;\n",
       "}\n",
       "#T_33315_row0_col13, #T_33315_row7_col3, #T_33315_row7_col4, #T_33315_row10_col4 {\n",
       "  background-color: #d3dbe7;\n",
       "  color: #000000;\n",
       "}\n",
       "#T_33315_row1_col0, #T_33315_row2_col0, #T_33315_row3_col0, #T_33315_row4_col0, #T_33315_row7_col0 {\n",
       "  background-color: #3f53c6;\n",
       "  color: #f1f1f1;\n",
       "}\n",
       "#T_33315_row1_col2, #T_33315_row6_col3, #T_33315_row12_col2 {\n",
       "  background-color: #d7dce3;\n",
       "  color: #000000;\n",
       "}\n",
       "#T_33315_row1_col3, #T_33315_row6_col2 {\n",
       "  background-color: #d8dce2;\n",
       "  color: #000000;\n",
       "}\n",
       "#T_33315_row1_col4, #T_33315_row6_col4, #T_33315_row12_col3, #T_33315_row12_col4 {\n",
       "  background-color: #d6dce4;\n",
       "  color: #000000;\n",
       "}\n",
       "#T_33315_row1_col5, #T_33315_row7_col2, #T_33315_row9_col2, #T_33315_row10_col2, #T_33315_row10_col3 {\n",
       "  background-color: #d5dbe5;\n",
       "  color: #000000;\n",
       "}\n",
       "#T_33315_row1_col7, #T_33315_row8_col10, #T_33315_row8_col13, #T_33315_row12_col7 {\n",
       "  background-color: #485fd1;\n",
       "  color: #f1f1f1;\n",
       "}\n",
       "#T_33315_row1_col9, #T_33315_row3_col9 {\n",
       "  background-color: #5673e0;\n",
       "  color: #f1f1f1;\n",
       "}\n",
       "#T_33315_row1_col11 {\n",
       "  background-color: #f0cdbb;\n",
       "  color: #000000;\n",
       "}\n",
       "#T_33315_row1_col13 {\n",
       "  background-color: #b7cff9;\n",
       "  color: #000000;\n",
       "}\n",
       "#T_33315_row2_col1, #T_33315_row2_col12, #T_33315_row3_col6, #T_33315_row4_col12, #T_33315_row5_col12, #T_33315_row6_col1, #T_33315_row8_col1 {\n",
       "  background-color: #6f92f3;\n",
       "  color: #f1f1f1;\n",
       "}\n",
       "#T_33315_row2_col3, #T_33315_row3_col2, #T_33315_row8_col2 {\n",
       "  background-color: #cd423b;\n",
       "  color: #f1f1f1;\n",
       "}\n",
       "#T_33315_row2_col4, #T_33315_row4_col2 {\n",
       "  background-color: #d44e41;\n",
       "  color: #f1f1f1;\n",
       "}\n",
       "#T_33315_row2_col5, #T_33315_row5_col2 {\n",
       "  background-color: #d95847;\n",
       "  color: #f1f1f1;\n",
       "}\n",
       "#T_33315_row2_col6, #T_33315_row4_col6, #T_33315_row5_col6 {\n",
       "  background-color: #7093f3;\n",
       "  color: #f1f1f1;\n",
       "}\n",
       "#T_33315_row2_col8 {\n",
       "  background-color: #cf453c;\n",
       "  color: #f1f1f1;\n",
       "}\n",
       "#T_33315_row2_col9 {\n",
       "  background-color: #5875e1;\n",
       "  color: #f1f1f1;\n",
       "}\n",
       "#T_33315_row2_col10, #T_33315_row4_col10 {\n",
       "  background-color: #445acc;\n",
       "  color: #f1f1f1;\n",
       "}\n",
       "#T_33315_row2_col11 {\n",
       "  background-color: #d75445;\n",
       "  color: #f1f1f1;\n",
       "}\n",
       "#T_33315_row2_col13, #T_33315_row8_col0, #T_33315_row9_col10, #T_33315_row10_col0, #T_33315_row13_col1, #T_33315_row13_col2, #T_33315_row13_col3, #T_33315_row13_col4, #T_33315_row13_col5, #T_33315_row13_col6, #T_33315_row13_col7, #T_33315_row13_col8, #T_33315_row13_col9, #T_33315_row13_col10, #T_33315_row13_col11, #T_33315_row13_col12 {\n",
       "  background-color: #3b4cc0;\n",
       "  color: #f1f1f1;\n",
       "}\n",
       "#T_33315_row3_col1, #T_33315_row4_col1 {\n",
       "  background-color: #7396f5;\n",
       "  color: #f1f1f1;\n",
       "}\n",
       "#T_33315_row3_col4 {\n",
       "  background-color: #bd1f2d;\n",
       "  color: #f1f1f1;\n",
       "}\n",
       "#T_33315_row3_col5, #T_33315_row5_col3 {\n",
       "  background-color: #c43032;\n",
       "  color: #f1f1f1;\n",
       "}\n",
       "#T_33315_row3_col7, #T_33315_row7_col10 {\n",
       "  background-color: #4961d2;\n",
       "  color: #f1f1f1;\n",
       "}\n",
       "#T_33315_row3_col8 {\n",
       "  background-color: #e26952;\n",
       "  color: #f1f1f1;\n",
       "}\n",
       "#T_33315_row3_col10, #T_33315_row5_col10, #T_33315_row6_col7, #T_33315_row11_col10 {\n",
       "  background-color: #465ecf;\n",
       "  color: #f1f1f1;\n",
       "}\n",
       "#T_33315_row3_col11, #T_33315_row4_col8, #T_33315_row8_col11 {\n",
       "  background-color: #e67259;\n",
       "  color: #f1f1f1;\n",
       "}\n",
       "#T_33315_row3_col12, #T_33315_row12_col1 {\n",
       "  background-color: #6e90f2;\n",
       "  color: #f1f1f1;\n",
       "}\n",
       "#T_33315_row3_col13, #T_33315_row12_col10, #T_33315_row13_col0 {\n",
       "  background-color: #3c4ec2;\n",
       "  color: #f1f1f1;\n",
       "}\n",
       "#T_33315_row4_col3, #T_33315_row4_col5, #T_33315_row5_col4, #T_33315_row6_col12, #T_33315_row12_col6 {\n",
       "  background-color: #bb1b2c;\n",
       "  color: #f1f1f1;\n",
       "}\n",
       "#T_33315_row4_col9, #T_33315_row5_col9, #T_33315_row7_col9 {\n",
       "  background-color: #5977e3;\n",
       "  color: #f1f1f1;\n",
       "}\n",
       "#T_33315_row4_col11, #T_33315_row5_col8 {\n",
       "  background-color: #e97a5f;\n",
       "  color: #f1f1f1;\n",
       "}\n",
       "#T_33315_row5_col1 {\n",
       "  background-color: #7597f6;\n",
       "  color: #f1f1f1;\n",
       "}\n",
       "#T_33315_row5_col11 {\n",
       "  background-color: #ed8366;\n",
       "  color: #f1f1f1;\n",
       "}\n",
       "#T_33315_row5_col13 {\n",
       "  background-color: #4358cb;\n",
       "  color: #f1f1f1;\n",
       "}\n",
       "#T_33315_row6_col0, #T_33315_row12_col0 {\n",
       "  background-color: #4257c9;\n",
       "  color: #f1f1f1;\n",
       "}\n",
       "#T_33315_row6_col8, #T_33315_row7_col8, #T_33315_row12_col8 {\n",
       "  background-color: #cedaeb;\n",
       "  color: #000000;\n",
       "}\n",
       "#T_33315_row6_col9, #T_33315_row12_col9 {\n",
       "  background-color: #5470de;\n",
       "  color: #f1f1f1;\n",
       "}\n",
       "#T_33315_row6_col10, #T_33315_row9_col0 {\n",
       "  background-color: #3d50c3;\n",
       "  color: #f1f1f1;\n",
       "}\n",
       "#T_33315_row6_col13, #T_33315_row12_col13 {\n",
       "  background-color: #b9d0f9;\n",
       "  color: #000000;\n",
       "}\n",
       "#T_33315_row7_col5, #T_33315_row10_col13 {\n",
       "  background-color: #d1dae9;\n",
       "  color: #000000;\n",
       "}\n",
       "#T_33315_row7_col6, #T_33315_row7_col12, #T_33315_row9_col6 {\n",
       "  background-color: #6687ed;\n",
       "  color: #f1f1f1;\n",
       "}\n",
       "#T_33315_row7_col11, #T_33315_row7_col13, #T_33315_row9_col8, #T_33315_row10_col11 {\n",
       "  background-color: #ccd9ed;\n",
       "  color: #000000;\n",
       "}\n",
       "#T_33315_row8_col3 {\n",
       "  background-color: #e16751;\n",
       "  color: #f1f1f1;\n",
       "}\n",
       "#T_33315_row8_col4, #T_33315_row11_col3 {\n",
       "  background-color: #e46e56;\n",
       "  color: #f1f1f1;\n",
       "}\n",
       "#T_33315_row8_col5 {\n",
       "  background-color: #e9785d;\n",
       "  color: #f1f1f1;\n",
       "}\n",
       "#T_33315_row8_col7, #T_33315_row9_col7, #T_33315_row11_col7, #T_33315_row11_col13 {\n",
       "  background-color: #4c66d6;\n",
       "  color: #f1f1f1;\n",
       "}\n",
       "#T_33315_row9_col11 {\n",
       "  background-color: #cdd9ec;\n",
       "  color: #000000;\n",
       "}\n",
       "#T_33315_row9_col12 {\n",
       "  background-color: #6485ec;\n",
       "  color: #f1f1f1;\n",
       "}\n",
       "#T_33315_row9_col13 {\n",
       "  background-color: #c4d5f3;\n",
       "  color: #000000;\n",
       "}\n",
       "#T_33315_row10_col1 {\n",
       "  background-color: #6788ee;\n",
       "  color: #f1f1f1;\n",
       "}\n",
       "#T_33315_row10_col6 {\n",
       "  background-color: #6384eb;\n",
       "  color: #f1f1f1;\n",
       "}\n",
       "#T_33315_row10_col7 {\n",
       "  background-color: #506bda;\n",
       "  color: #f1f1f1;\n",
       "}\n",
       "#T_33315_row10_col9 {\n",
       "  background-color: #4f69d9;\n",
       "  color: #f1f1f1;\n",
       "}\n",
       "#T_33315_row10_col12 {\n",
       "  background-color: #6282ea;\n",
       "  color: #f1f1f1;\n",
       "}\n",
       "#T_33315_row11_col0 {\n",
       "  background-color: #4055c8;\n",
       "  color: #f1f1f1;\n",
       "}\n",
       "#T_33315_row11_col1 {\n",
       "  background-color: #bbd1f8;\n",
       "  color: #000000;\n",
       "}\n",
       "#T_33315_row11_col2 {\n",
       "  background-color: #d55042;\n",
       "  color: #f1f1f1;\n",
       "}\n",
       "#T_33315_row11_col4 {\n",
       "  background-color: #e8765c;\n",
       "  color: #f1f1f1;\n",
       "}\n",
       "#T_33315_row11_col5 {\n",
       "  background-color: #ec7f63;\n",
       "  color: #f1f1f1;\n",
       "}\n",
       "#T_33315_row11_col8 {\n",
       "  background-color: #e57058;\n",
       "  color: #f1f1f1;\n",
       "}\n",
       "#T_33315_row11_col9 {\n",
       "  background-color: #5a78e4;\n",
       "  color: #f1f1f1;\n",
       "}\n",
       "</style>\n",
       "<table id=\"T_33315_\">\n",
       "  <thead>\n",
       "    <tr>\n",
       "      <th class=\"blank level0\" >&nbsp;</th>\n",
       "      <th class=\"col_heading level0 col0\" >Id</th>\n",
       "      <th class=\"col_heading level0 col1\" >Area(total)</th>\n",
       "      <th class=\"col_heading level0 col2\" >Trooms</th>\n",
       "      <th class=\"col_heading level0 col3\" >Nbedrooms</th>\n",
       "      <th class=\"col_heading level0 col4\" >Nbwashrooms</th>\n",
       "      <th class=\"col_heading level0 col5\" >Twashrooms</th>\n",
       "      <th class=\"col_heading level0 col6\" >Roof(Area)</th>\n",
       "      <th class=\"col_heading level0 col7\" >Lawn(Area)</th>\n",
       "      <th class=\"col_heading level0 col8\" >Nfloors</th>\n",
       "      <th class=\"col_heading level0 col9\" >API</th>\n",
       "      <th class=\"col_heading level0 col10\" >ANB</th>\n",
       "      <th class=\"col_heading level0 col11\" >Expected price</th>\n",
       "      <th class=\"col_heading level0 col12\" >roof_encoded</th>\n",
       "      <th class=\"col_heading level0 col13\" >Grade_encoded</th>\n",
       "    </tr>\n",
       "  </thead>\n",
       "  <tbody>\n",
       "    <tr>\n",
       "      <th id=\"T_33315_level0_row0\" class=\"row_heading level0 row0\" >Id</th>\n",
       "      <td id=\"T_33315_row0_col0\" class=\"data row0 col0\" >1.000000</td>\n",
       "      <td id=\"T_33315_row0_col1\" class=\"data row0 col1\" >0.003186</td>\n",
       "      <td id=\"T_33315_row0_col2\" class=\"data row0 col2\" >0.003165</td>\n",
       "      <td id=\"T_33315_row0_col3\" class=\"data row0 col3\" >0.004814</td>\n",
       "      <td id=\"T_33315_row0_col4\" class=\"data row0 col4\" >0.003496</td>\n",
       "      <td id=\"T_33315_row0_col5\" class=\"data row0 col5\" >0.001092</td>\n",
       "      <td id=\"T_33315_row0_col6\" class=\"data row0 col6\" >0.013046</td>\n",
       "      <td id=\"T_33315_row0_col7\" class=\"data row0 col7\" >0.006309</td>\n",
       "      <td id=\"T_33315_row0_col8\" class=\"data row0 col8\" >-0.010939</td>\n",
       "      <td id=\"T_33315_row0_col9\" class=\"data row0 col9\" >-0.003739</td>\n",
       "      <td id=\"T_33315_row0_col10\" class=\"data row0 col10\" >-0.013219</td>\n",
       "      <td id=\"T_33315_row0_col11\" class=\"data row0 col11\" >0.009216</td>\n",
       "      <td id=\"T_33315_row0_col12\" class=\"data row0 col12\" >0.011059</td>\n",
       "      <td id=\"T_33315_row0_col13\" class=\"data row0 col13\" >-0.006074</td>\n",
       "    </tr>\n",
       "    <tr>\n",
       "      <th id=\"T_33315_level0_row1\" class=\"row_heading level0 row1\" >Area(total)</th>\n",
       "      <td id=\"T_33315_row1_col0\" class=\"data row1 col0\" >0.003186</td>\n",
       "      <td id=\"T_33315_row1_col1\" class=\"data row1 col1\" >1.000000</td>\n",
       "      <td id=\"T_33315_row1_col2\" class=\"data row1 col2\" >0.019041</td>\n",
       "      <td id=\"T_33315_row1_col3\" class=\"data row1 col3\" >0.031328</td>\n",
       "      <td id=\"T_33315_row1_col4\" class=\"data row1 col4\" >0.031819</td>\n",
       "      <td id=\"T_33315_row1_col5\" class=\"data row1 col5\" >0.038509</td>\n",
       "      <td id=\"T_33315_row1_col6\" class=\"data row1 col6\" >0.017029</td>\n",
       "      <td id=\"T_33315_row1_col7\" class=\"data row1 col7\" >-0.002118</td>\n",
       "      <td id=\"T_33315_row1_col8\" class=\"data row1 col8\" >0.016819</td>\n",
       "      <td id=\"T_33315_row1_col9\" class=\"data row1 col9\" >-0.000182</td>\n",
       "      <td id=\"T_33315_row1_col10\" class=\"data row1 col10\" >-0.010846</td>\n",
       "      <td id=\"T_33315_row1_col11\" class=\"data row1 col11\" >0.274507</td>\n",
       "      <td id=\"T_33315_row1_col12\" class=\"data row1 col12\" >0.014229</td>\n",
       "      <td id=\"T_33315_row1_col13\" class=\"data row1 col13\" >-0.177332</td>\n",
       "    </tr>\n",
       "    <tr>\n",
       "      <th id=\"T_33315_level0_row2\" class=\"row_heading level0 row2\" >Trooms</th>\n",
       "      <td id=\"T_33315_row2_col0\" class=\"data row2 col0\" >0.003165</td>\n",
       "      <td id=\"T_33315_row2_col1\" class=\"data row2 col1\" >0.019041</td>\n",
       "      <td id=\"T_33315_row2_col2\" class=\"data row2 col2\" >1.000000</td>\n",
       "      <td id=\"T_33315_row2_col3\" class=\"data row2 col3\" >0.865878</td>\n",
       "      <td id=\"T_33315_row2_col4\" class=\"data row2 col4\" >0.827072</td>\n",
       "      <td id=\"T_33315_row2_col5\" class=\"data row2 col5\" >0.794870</td>\n",
       "      <td id=\"T_33315_row2_col6\" class=\"data row2 col6\" >0.026550</td>\n",
       "      <td id=\"T_33315_row2_col7\" class=\"data row2 col7\" >0.009557</td>\n",
       "      <td id=\"T_33315_row2_col8\" class=\"data row2 col8\" >0.862367</td>\n",
       "      <td id=\"T_33315_row2_col9\" class=\"data row2 col9\" >0.007502</td>\n",
       "      <td id=\"T_33315_row2_col10\" class=\"data row2 col10\" >0.007321</td>\n",
       "      <td id=\"T_33315_row2_col11\" class=\"data row2 col11\" >0.820170</td>\n",
       "      <td id=\"T_33315_row2_col12\" class=\"data row2 col12\" >0.025142</td>\n",
       "      <td id=\"T_33315_row2_col13\" class=\"data row2 col13\" >-0.875145</td>\n",
       "    </tr>\n",
       "    <tr>\n",
       "      <th id=\"T_33315_level0_row3\" class=\"row_heading level0 row3\" >Nbedrooms</th>\n",
       "      <td id=\"T_33315_row3_col0\" class=\"data row3 col0\" >0.004814</td>\n",
       "      <td id=\"T_33315_row3_col1\" class=\"data row3 col1\" >0.031328</td>\n",
       "      <td id=\"T_33315_row3_col2\" class=\"data row3 col2\" >0.865878</td>\n",
       "      <td id=\"T_33315_row3_col3\" class=\"data row3 col3\" >1.000000</td>\n",
       "      <td id=\"T_33315_row3_col4\" class=\"data row3 col4\" >0.956578</td>\n",
       "      <td id=\"T_33315_row3_col5\" class=\"data row3 col5\" >0.919158</td>\n",
       "      <td id=\"T_33315_row3_col6\" class=\"data row3 col6\" >0.025073</td>\n",
       "      <td id=\"T_33315_row3_col7\" class=\"data row3 col7\" >0.000054</td>\n",
       "      <td id=\"T_33315_row3_col8\" class=\"data row3 col8\" >0.742132</td>\n",
       "      <td id=\"T_33315_row3_col9\" class=\"data row3 col9\" >0.002820</td>\n",
       "      <td id=\"T_33315_row3_col10\" class=\"data row3 col10\" >0.015403</td>\n",
       "      <td id=\"T_33315_row3_col11\" class=\"data row3 col11\" >0.715687</td>\n",
       "      <td id=\"T_33315_row3_col12\" class=\"data row3 col12\" >0.023058</td>\n",
       "      <td id=\"T_33315_row3_col13\" class=\"data row3 col13\" >-0.865389</td>\n",
       "    </tr>\n",
       "    <tr>\n",
       "      <th id=\"T_33315_level0_row4\" class=\"row_heading level0 row4\" >Nbwashrooms</th>\n",
       "      <td id=\"T_33315_row4_col0\" class=\"data row4 col0\" >0.003496</td>\n",
       "      <td id=\"T_33315_row4_col1\" class=\"data row4 col1\" >0.031819</td>\n",
       "      <td id=\"T_33315_row4_col2\" class=\"data row4 col2\" >0.827072</td>\n",
       "      <td id=\"T_33315_row4_col3\" class=\"data row4 col3\" >0.956578</td>\n",
       "      <td id=\"T_33315_row4_col4\" class=\"data row4 col4\" >1.000000</td>\n",
       "      <td id=\"T_33315_row4_col5\" class=\"data row4 col5\" >0.960007</td>\n",
       "      <td id=\"T_33315_row4_col6\" class=\"data row4 col6\" >0.028832</td>\n",
       "      <td id=\"T_33315_row4_col7\" class=\"data row4 col7\" >0.006617</td>\n",
       "      <td id=\"T_33315_row4_col8\" class=\"data row4 col8\" >0.711936</td>\n",
       "      <td id=\"T_33315_row4_col9\" class=\"data row4 col9\" >0.011413</td>\n",
       "      <td id=\"T_33315_row4_col10\" class=\"data row4 col10\" >0.008475</td>\n",
       "      <td id=\"T_33315_row4_col11\" class=\"data row4 col11\" >0.683659</td>\n",
       "      <td id=\"T_33315_row4_col12\" class=\"data row4 col12\" >0.028549</td>\n",
       "      <td id=\"T_33315_row4_col13\" class=\"data row4 col13\" >-0.847319</td>\n",
       "    </tr>\n",
       "    <tr>\n",
       "      <th id=\"T_33315_level0_row5\" class=\"row_heading level0 row5\" >Twashrooms</th>\n",
       "      <td id=\"T_33315_row5_col0\" class=\"data row5 col0\" >0.001092</td>\n",
       "      <td id=\"T_33315_row5_col1\" class=\"data row5 col1\" >0.038509</td>\n",
       "      <td id=\"T_33315_row5_col2\" class=\"data row5 col2\" >0.794870</td>\n",
       "      <td id=\"T_33315_row5_col3\" class=\"data row5 col3\" >0.919158</td>\n",
       "      <td id=\"T_33315_row5_col4\" class=\"data row5 col4\" >0.960007</td>\n",
       "      <td id=\"T_33315_row5_col5\" class=\"data row5 col5\" >1.000000</td>\n",
       "      <td id=\"T_33315_row5_col6\" class=\"data row5 col6\" >0.028763</td>\n",
       "      <td id=\"T_33315_row5_col7\" class=\"data row5 col7\" >0.008386</td>\n",
       "      <td id=\"T_33315_row5_col8\" class=\"data row5 col8\" >0.684966</td>\n",
       "      <td id=\"T_33315_row5_col9\" class=\"data row5 col9\" >0.012361</td>\n",
       "      <td id=\"T_33315_row5_col10\" class=\"data row5 col10\" >0.016492</td>\n",
       "      <td id=\"T_33315_row5_col11\" class=\"data row5 col11\" >0.654627</td>\n",
       "      <td id=\"T_33315_row5_col12\" class=\"data row5 col12\" >0.028212</td>\n",
       "      <td id=\"T_33315_row5_col13\" class=\"data row5 col13\" >-0.819280</td>\n",
       "    </tr>\n",
       "    <tr>\n",
       "      <th id=\"T_33315_level0_row6\" class=\"row_heading level0 row6\" >Roof(Area)</th>\n",
       "      <td id=\"T_33315_row6_col0\" class=\"data row6 col0\" >0.013046</td>\n",
       "      <td id=\"T_33315_row6_col1\" class=\"data row6 col1\" >0.017029</td>\n",
       "      <td id=\"T_33315_row6_col2\" class=\"data row6 col2\" >0.026550</td>\n",
       "      <td id=\"T_33315_row6_col3\" class=\"data row6 col3\" >0.025073</td>\n",
       "      <td id=\"T_33315_row6_col4\" class=\"data row6 col4\" >0.028832</td>\n",
       "      <td id=\"T_33315_row6_col5\" class=\"data row6 col5\" >0.028763</td>\n",
       "      <td id=\"T_33315_row6_col6\" class=\"data row6 col6\" >1.000000</td>\n",
       "      <td id=\"T_33315_row6_col7\" class=\"data row6 col7\" >-0.006831</td>\n",
       "      <td id=\"T_33315_row6_col8\" class=\"data row6 col8\" >0.013840</td>\n",
       "      <td id=\"T_33315_row6_col9\" class=\"data row6 col9\" >-0.006331</td>\n",
       "      <td id=\"T_33315_row6_col10\" class=\"data row6 col10\" >-0.015529</td>\n",
       "      <td id=\"T_33315_row6_col11\" class=\"data row6 col11\" >0.009346</td>\n",
       "      <td id=\"T_33315_row6_col12\" class=\"data row6 col12\" >0.976561</td>\n",
       "      <td id=\"T_33315_row6_col13\" class=\"data row6 col13\" >-0.170259</td>\n",
       "    </tr>\n",
       "    <tr>\n",
       "      <th id=\"T_33315_level0_row7\" class=\"row_heading level0 row7\" >Lawn(Area)</th>\n",
       "      <td id=\"T_33315_row7_col0\" class=\"data row7 col0\" >0.006309</td>\n",
       "      <td id=\"T_33315_row7_col1\" class=\"data row7 col1\" >-0.002118</td>\n",
       "      <td id=\"T_33315_row7_col2\" class=\"data row7 col2\" >0.009557</td>\n",
       "      <td id=\"T_33315_row7_col3\" class=\"data row7 col3\" >0.000054</td>\n",
       "      <td id=\"T_33315_row7_col4\" class=\"data row7 col4\" >0.006617</td>\n",
       "      <td id=\"T_33315_row7_col5\" class=\"data row7 col5\" >0.008386</td>\n",
       "      <td id=\"T_33315_row7_col6\" class=\"data row7 col6\" >-0.006831</td>\n",
       "      <td id=\"T_33315_row7_col7\" class=\"data row7 col7\" >1.000000</td>\n",
       "      <td id=\"T_33315_row7_col8\" class=\"data row7 col8\" >0.013771</td>\n",
       "      <td id=\"T_33315_row7_col9\" class=\"data row7 col9\" >0.011477</td>\n",
       "      <td id=\"T_33315_row7_col10\" class=\"data row7 col10\" >0.025751</td>\n",
       "      <td id=\"T_33315_row7_col11\" class=\"data row7 col11\" >0.011561</td>\n",
       "      <td id=\"T_33315_row7_col12\" class=\"data row7 col12\" >-0.004640</td>\n",
       "      <td id=\"T_33315_row7_col13\" class=\"data row7 col13\" >-0.051200</td>\n",
       "    </tr>\n",
       "    <tr>\n",
       "      <th id=\"T_33315_level0_row8\" class=\"row_heading level0 row8\" >Nfloors</th>\n",
       "      <td id=\"T_33315_row8_col0\" class=\"data row8 col0\" >-0.010939</td>\n",
       "      <td id=\"T_33315_row8_col1\" class=\"data row8 col1\" >0.016819</td>\n",
       "      <td id=\"T_33315_row8_col2\" class=\"data row8 col2\" >0.862367</td>\n",
       "      <td id=\"T_33315_row8_col3\" class=\"data row8 col3\" >0.742132</td>\n",
       "      <td id=\"T_33315_row8_col4\" class=\"data row8 col4\" >0.711936</td>\n",
       "      <td id=\"T_33315_row8_col5\" class=\"data row8 col5\" >0.684966</td>\n",
       "      <td id=\"T_33315_row8_col6\" class=\"data row8 col6\" >0.013840</td>\n",
       "      <td id=\"T_33315_row8_col7\" class=\"data row8 col7\" >0.013771</td>\n",
       "      <td id=\"T_33315_row8_col8\" class=\"data row8 col8\" >1.000000</td>\n",
       "      <td id=\"T_33315_row8_col9\" class=\"data row8 col9\" >-0.002255</td>\n",
       "      <td id=\"T_33315_row8_col10\" class=\"data row8 col10\" >0.020614</td>\n",
       "      <td id=\"T_33315_row8_col11\" class=\"data row8 col11\" >0.714598</td>\n",
       "      <td id=\"T_33315_row8_col12\" class=\"data row8 col12\" >0.014985</td>\n",
       "      <td id=\"T_33315_row8_col13\" class=\"data row8 col13\" >-0.787623</td>\n",
       "    </tr>\n",
       "    <tr>\n",
       "      <th id=\"T_33315_level0_row9\" class=\"row_heading level0 row9\" >API</th>\n",
       "      <td id=\"T_33315_row9_col0\" class=\"data row9 col0\" >-0.003739</td>\n",
       "      <td id=\"T_33315_row9_col1\" class=\"data row9 col1\" >-0.000182</td>\n",
       "      <td id=\"T_33315_row9_col2\" class=\"data row9 col2\" >0.007502</td>\n",
       "      <td id=\"T_33315_row9_col3\" class=\"data row9 col3\" >0.002820</td>\n",
       "      <td id=\"T_33315_row9_col4\" class=\"data row9 col4\" >0.011413</td>\n",
       "      <td id=\"T_33315_row9_col5\" class=\"data row9 col5\" >0.012361</td>\n",
       "      <td id=\"T_33315_row9_col6\" class=\"data row9 col6\" >-0.006331</td>\n",
       "      <td id=\"T_33315_row9_col7\" class=\"data row9 col7\" >0.011477</td>\n",
       "      <td id=\"T_33315_row9_col8\" class=\"data row9 col8\" >-0.002255</td>\n",
       "      <td id=\"T_33315_row9_col9\" class=\"data row9 col9\" >1.000000</td>\n",
       "      <td id=\"T_33315_row9_col10\" class=\"data row9 col10\" >-0.025694</td>\n",
       "      <td id=\"T_33315_row9_col11\" class=\"data row9 col11\" >0.016575</td>\n",
       "      <td id=\"T_33315_row9_col12\" class=\"data row9 col12\" >-0.007983</td>\n",
       "      <td id=\"T_33315_row9_col13\" class=\"data row9 col13\" >-0.099000</td>\n",
       "    </tr>\n",
       "    <tr>\n",
       "      <th id=\"T_33315_level0_row10\" class=\"row_heading level0 row10\" >ANB</th>\n",
       "      <td id=\"T_33315_row10_col0\" class=\"data row10 col0\" >-0.013219</td>\n",
       "      <td id=\"T_33315_row10_col1\" class=\"data row10 col1\" >-0.010846</td>\n",
       "      <td id=\"T_33315_row10_col2\" class=\"data row10 col2\" >0.007321</td>\n",
       "      <td id=\"T_33315_row10_col3\" class=\"data row10 col3\" >0.015403</td>\n",
       "      <td id=\"T_33315_row10_col4\" class=\"data row10 col4\" >0.008475</td>\n",
       "      <td id=\"T_33315_row10_col5\" class=\"data row10 col5\" >0.016492</td>\n",
       "      <td id=\"T_33315_row10_col6\" class=\"data row10 col6\" >-0.015529</td>\n",
       "      <td id=\"T_33315_row10_col7\" class=\"data row10 col7\" >0.025751</td>\n",
       "      <td id=\"T_33315_row10_col8\" class=\"data row10 col8\" >0.020614</td>\n",
       "      <td id=\"T_33315_row10_col9\" class=\"data row10 col9\" >-0.025694</td>\n",
       "      <td id=\"T_33315_row10_col10\" class=\"data row10 col10\" >1.000000</td>\n",
       "      <td id=\"T_33315_row10_col11\" class=\"data row10 col11\" >0.015583</td>\n",
       "      <td id=\"T_33315_row10_col12\" class=\"data row10 col12\" >-0.020511</td>\n",
       "      <td id=\"T_33315_row10_col13\" class=\"data row10 col13\" >-0.024025</td>\n",
       "    </tr>\n",
       "    <tr>\n",
       "      <th id=\"T_33315_level0_row11\" class=\"row_heading level0 row11\" >Expected price</th>\n",
       "      <td id=\"T_33315_row11_col0\" class=\"data row11 col0\" >0.009216</td>\n",
       "      <td id=\"T_33315_row11_col1\" class=\"data row11 col1\" >0.274507</td>\n",
       "      <td id=\"T_33315_row11_col2\" class=\"data row11 col2\" >0.820170</td>\n",
       "      <td id=\"T_33315_row11_col3\" class=\"data row11 col3\" >0.715687</td>\n",
       "      <td id=\"T_33315_row11_col4\" class=\"data row11 col4\" >0.683659</td>\n",
       "      <td id=\"T_33315_row11_col5\" class=\"data row11 col5\" >0.654627</td>\n",
       "      <td id=\"T_33315_row11_col6\" class=\"data row11 col6\" >0.009346</td>\n",
       "      <td id=\"T_33315_row11_col7\" class=\"data row11 col7\" >0.011561</td>\n",
       "      <td id=\"T_33315_row11_col8\" class=\"data row11 col8\" >0.714598</td>\n",
       "      <td id=\"T_33315_row11_col9\" class=\"data row11 col9\" >0.016575</td>\n",
       "      <td id=\"T_33315_row11_col10\" class=\"data row11 col10\" >0.015583</td>\n",
       "      <td id=\"T_33315_row11_col11\" class=\"data row11 col11\" >1.000000</td>\n",
       "      <td id=\"T_33315_row11_col12\" class=\"data row11 col12\" >0.007880</td>\n",
       "      <td id=\"T_33315_row11_col13\" class=\"data row11 col13\" >-0.760820</td>\n",
       "    </tr>\n",
       "    <tr>\n",
       "      <th id=\"T_33315_level0_row12\" class=\"row_heading level0 row12\" >roof_encoded</th>\n",
       "      <td id=\"T_33315_row12_col0\" class=\"data row12 col0\" >0.011059</td>\n",
       "      <td id=\"T_33315_row12_col1\" class=\"data row12 col1\" >0.014229</td>\n",
       "      <td id=\"T_33315_row12_col2\" class=\"data row12 col2\" >0.025142</td>\n",
       "      <td id=\"T_33315_row12_col3\" class=\"data row12 col3\" >0.023058</td>\n",
       "      <td id=\"T_33315_row12_col4\" class=\"data row12 col4\" >0.028549</td>\n",
       "      <td id=\"T_33315_row12_col5\" class=\"data row12 col5\" >0.028212</td>\n",
       "      <td id=\"T_33315_row12_col6\" class=\"data row12 col6\" >0.976561</td>\n",
       "      <td id=\"T_33315_row12_col7\" class=\"data row12 col7\" >-0.004640</td>\n",
       "      <td id=\"T_33315_row12_col8\" class=\"data row12 col8\" >0.014985</td>\n",
       "      <td id=\"T_33315_row12_col9\" class=\"data row12 col9\" >-0.007983</td>\n",
       "      <td id=\"T_33315_row12_col10\" class=\"data row12 col10\" >-0.020511</td>\n",
       "      <td id=\"T_33315_row12_col11\" class=\"data row12 col11\" >0.007880</td>\n",
       "      <td id=\"T_33315_row12_col12\" class=\"data row12 col12\" >1.000000</td>\n",
       "      <td id=\"T_33315_row12_col13\" class=\"data row12 col13\" >-0.166635</td>\n",
       "    </tr>\n",
       "    <tr>\n",
       "      <th id=\"T_33315_level0_row13\" class=\"row_heading level0 row13\" >Grade_encoded</th>\n",
       "      <td id=\"T_33315_row13_col0\" class=\"data row13 col0\" >-0.006074</td>\n",
       "      <td id=\"T_33315_row13_col1\" class=\"data row13 col1\" >-0.177332</td>\n",
       "      <td id=\"T_33315_row13_col2\" class=\"data row13 col2\" >-0.875145</td>\n",
       "      <td id=\"T_33315_row13_col3\" class=\"data row13 col3\" >-0.865389</td>\n",
       "      <td id=\"T_33315_row13_col4\" class=\"data row13 col4\" >-0.847319</td>\n",
       "      <td id=\"T_33315_row13_col5\" class=\"data row13 col5\" >-0.819280</td>\n",
       "      <td id=\"T_33315_row13_col6\" class=\"data row13 col6\" >-0.170259</td>\n",
       "      <td id=\"T_33315_row13_col7\" class=\"data row13 col7\" >-0.051200</td>\n",
       "      <td id=\"T_33315_row13_col8\" class=\"data row13 col8\" >-0.787623</td>\n",
       "      <td id=\"T_33315_row13_col9\" class=\"data row13 col9\" >-0.099000</td>\n",
       "      <td id=\"T_33315_row13_col10\" class=\"data row13 col10\" >-0.024025</td>\n",
       "      <td id=\"T_33315_row13_col11\" class=\"data row13 col11\" >-0.760820</td>\n",
       "      <td id=\"T_33315_row13_col12\" class=\"data row13 col12\" >-0.166635</td>\n",
       "      <td id=\"T_33315_row13_col13\" class=\"data row13 col13\" >1.000000</td>\n",
       "    </tr>\n",
       "  </tbody>\n",
       "</table>\n"
      ],
      "text/plain": [
       "<pandas.io.formats.style.Styler at 0x1eb6f897370>"
      ]
     },
     "execution_count": 12,
     "metadata": {},
     "output_type": "execute_result"
    }
   ],
   "source": [
    "numeric = ['int64', 'int32', 'float64']\n",
    "df_after_scaling = pd.DataFrame(MinMaxScaler().fit_transform(house_df[list(house_df.select_dtypes(include=numeric))].to_numpy()), columns = house_df[list(house_df.select_dtypes(include=numeric))].columns)\n",
    "df_after_scaling.drop(columns=['Grade_encoded'],axis=1,inplace=True)\n",
    "df_after_scaling = pd.concat([df_after_scaling, house_df['Grade_encoded']],axis=1)\n",
    "corr = df_after_scaling.corr().style.background_gradient(cmap='coolwarm')\n",
    "corr"
   ]
  },
  {
   "cell_type": "code",
   "execution_count": 13,
   "id": "1272c937",
   "metadata": {},
   "outputs": [
    {
     "data": {
      "text/html": [
       "<div>\n",
       "<style scoped>\n",
       "    .dataframe tbody tr th:only-of-type {\n",
       "        vertical-align: middle;\n",
       "    }\n",
       "\n",
       "    .dataframe tbody tr th {\n",
       "        vertical-align: top;\n",
       "    }\n",
       "\n",
       "    .dataframe thead th {\n",
       "        text-align: right;\n",
       "    }\n",
       "</style>\n",
       "<table border=\"1\" class=\"dataframe\">\n",
       "  <thead>\n",
       "    <tr style=\"text-align: right;\">\n",
       "      <th></th>\n",
       "      <th>Id</th>\n",
       "      <th>Area(total)</th>\n",
       "      <th>Trooms</th>\n",
       "      <th>Nbedrooms</th>\n",
       "      <th>Nbwashrooms</th>\n",
       "      <th>Twashrooms</th>\n",
       "      <th>Roof(Area)</th>\n",
       "      <th>Lawn(Area)</th>\n",
       "      <th>Nfloors</th>\n",
       "      <th>API</th>\n",
       "      <th>ANB</th>\n",
       "      <th>Expected price</th>\n",
       "      <th>roof_encoded</th>\n",
       "      <th>Grade_encoded</th>\n",
       "    </tr>\n",
       "  </thead>\n",
       "  <tbody>\n",
       "    <tr>\n",
       "      <th>0</th>\n",
       "      <td>0.000000</td>\n",
       "      <td>0.700000</td>\n",
       "      <td>0.25</td>\n",
       "      <td>0.500000</td>\n",
       "      <td>0.428571</td>\n",
       "      <td>0.500</td>\n",
       "      <td>0.000000</td>\n",
       "      <td>0.12</td>\n",
       "      <td>0.166667</td>\n",
       "      <td>0.650000</td>\n",
       "      <td>1.0</td>\n",
       "      <td>0.360251</td>\n",
       "      <td>0.0</td>\n",
       "      <td>3</td>\n",
       "    </tr>\n",
       "    <tr>\n",
       "      <th>1</th>\n",
       "      <td>0.000333</td>\n",
       "      <td>0.971429</td>\n",
       "      <td>0.00</td>\n",
       "      <td>0.333333</td>\n",
       "      <td>0.285714</td>\n",
       "      <td>0.250</td>\n",
       "      <td>0.591667</td>\n",
       "      <td>0.52</td>\n",
       "      <td>0.333333</td>\n",
       "      <td>0.533333</td>\n",
       "      <td>0.6</td>\n",
       "      <td>0.370944</td>\n",
       "      <td>1.0</td>\n",
       "      <td>3</td>\n",
       "    </tr>\n",
       "    <tr>\n",
       "      <th>2</th>\n",
       "      <td>0.000667</td>\n",
       "      <td>0.485714</td>\n",
       "      <td>0.50</td>\n",
       "      <td>0.500000</td>\n",
       "      <td>0.428571</td>\n",
       "      <td>0.375</td>\n",
       "      <td>0.841667</td>\n",
       "      <td>0.94</td>\n",
       "      <td>0.666667</td>\n",
       "      <td>0.400000</td>\n",
       "      <td>0.4</td>\n",
       "      <td>0.458702</td>\n",
       "      <td>1.0</td>\n",
       "      <td>2</td>\n",
       "    </tr>\n",
       "    <tr>\n",
       "      <th>3</th>\n",
       "      <td>0.001000</td>\n",
       "      <td>0.571429</td>\n",
       "      <td>0.25</td>\n",
       "      <td>0.333333</td>\n",
       "      <td>0.285714</td>\n",
       "      <td>0.375</td>\n",
       "      <td>0.841667</td>\n",
       "      <td>0.24</td>\n",
       "      <td>0.166667</td>\n",
       "      <td>0.316667</td>\n",
       "      <td>0.2</td>\n",
       "      <td>0.232301</td>\n",
       "      <td>1.0</td>\n",
       "      <td>3</td>\n",
       "    </tr>\n",
       "    <tr>\n",
       "      <th>4</th>\n",
       "      <td>0.001334</td>\n",
       "      <td>0.428571</td>\n",
       "      <td>0.50</td>\n",
       "      <td>0.333333</td>\n",
       "      <td>0.428571</td>\n",
       "      <td>0.375</td>\n",
       "      <td>0.000000</td>\n",
       "      <td>0.10</td>\n",
       "      <td>0.333333</td>\n",
       "      <td>0.000000</td>\n",
       "      <td>0.0</td>\n",
       "      <td>0.493732</td>\n",
       "      <td>0.0</td>\n",
       "      <td>3</td>\n",
       "    </tr>\n",
       "    <tr>\n",
       "      <th>...</th>\n",
       "      <td>...</td>\n",
       "      <td>...</td>\n",
       "      <td>...</td>\n",
       "      <td>...</td>\n",
       "      <td>...</td>\n",
       "      <td>...</td>\n",
       "      <td>...</td>\n",
       "      <td>...</td>\n",
       "      <td>...</td>\n",
       "      <td>...</td>\n",
       "      <td>...</td>\n",
       "      <td>...</td>\n",
       "      <td>...</td>\n",
       "      <td>...</td>\n",
       "    </tr>\n",
       "    <tr>\n",
       "      <th>2995</th>\n",
       "      <td>0.998666</td>\n",
       "      <td>0.728571</td>\n",
       "      <td>1.00</td>\n",
       "      <td>0.666667</td>\n",
       "      <td>0.571429</td>\n",
       "      <td>0.625</td>\n",
       "      <td>0.791667</td>\n",
       "      <td>0.90</td>\n",
       "      <td>0.666667</td>\n",
       "      <td>0.833333</td>\n",
       "      <td>0.2</td>\n",
       "      <td>0.642330</td>\n",
       "      <td>1.0</td>\n",
       "      <td>1</td>\n",
       "    </tr>\n",
       "    <tr>\n",
       "      <th>2996</th>\n",
       "      <td>0.999000</td>\n",
       "      <td>0.028571</td>\n",
       "      <td>1.00</td>\n",
       "      <td>1.000000</td>\n",
       "      <td>0.857143</td>\n",
       "      <td>0.750</td>\n",
       "      <td>0.966667</td>\n",
       "      <td>0.34</td>\n",
       "      <td>1.000000</td>\n",
       "      <td>0.950000</td>\n",
       "      <td>0.6</td>\n",
       "      <td>0.460546</td>\n",
       "      <td>1.0</td>\n",
       "      <td>0</td>\n",
       "    </tr>\n",
       "    <tr>\n",
       "      <th>2997</th>\n",
       "      <td>0.999333</td>\n",
       "      <td>0.542857</td>\n",
       "      <td>0.50</td>\n",
       "      <td>0.333333</td>\n",
       "      <td>0.285714</td>\n",
       "      <td>0.375</td>\n",
       "      <td>0.000000</td>\n",
       "      <td>0.16</td>\n",
       "      <td>0.666667</td>\n",
       "      <td>0.916667</td>\n",
       "      <td>1.0</td>\n",
       "      <td>0.406711</td>\n",
       "      <td>0.0</td>\n",
       "      <td>3</td>\n",
       "    </tr>\n",
       "    <tr>\n",
       "      <th>2998</th>\n",
       "      <td>0.999667</td>\n",
       "      <td>0.042857</td>\n",
       "      <td>1.00</td>\n",
       "      <td>0.833333</td>\n",
       "      <td>0.857143</td>\n",
       "      <td>0.750</td>\n",
       "      <td>0.000000</td>\n",
       "      <td>0.16</td>\n",
       "      <td>1.000000</td>\n",
       "      <td>0.183333</td>\n",
       "      <td>0.4</td>\n",
       "      <td>0.624631</td>\n",
       "      <td>0.0</td>\n",
       "      <td>1</td>\n",
       "    </tr>\n",
       "    <tr>\n",
       "      <th>2999</th>\n",
       "      <td>1.000000</td>\n",
       "      <td>0.757143</td>\n",
       "      <td>0.50</td>\n",
       "      <td>0.666667</td>\n",
       "      <td>0.714286</td>\n",
       "      <td>0.750</td>\n",
       "      <td>0.000000</td>\n",
       "      <td>0.76</td>\n",
       "      <td>0.666667</td>\n",
       "      <td>0.916667</td>\n",
       "      <td>0.4</td>\n",
       "      <td>0.590339</td>\n",
       "      <td>0.0</td>\n",
       "      <td>2</td>\n",
       "    </tr>\n",
       "  </tbody>\n",
       "</table>\n",
       "<p>3000 rows × 14 columns</p>\n",
       "</div>"
      ],
      "text/plain": [
       "            Id  Area(total)  Trooms  Nbedrooms  Nbwashrooms  Twashrooms  \\\n",
       "0     0.000000     0.700000    0.25   0.500000     0.428571       0.500   \n",
       "1     0.000333     0.971429    0.00   0.333333     0.285714       0.250   \n",
       "2     0.000667     0.485714    0.50   0.500000     0.428571       0.375   \n",
       "3     0.001000     0.571429    0.25   0.333333     0.285714       0.375   \n",
       "4     0.001334     0.428571    0.50   0.333333     0.428571       0.375   \n",
       "...        ...          ...     ...        ...          ...         ...   \n",
       "2995  0.998666     0.728571    1.00   0.666667     0.571429       0.625   \n",
       "2996  0.999000     0.028571    1.00   1.000000     0.857143       0.750   \n",
       "2997  0.999333     0.542857    0.50   0.333333     0.285714       0.375   \n",
       "2998  0.999667     0.042857    1.00   0.833333     0.857143       0.750   \n",
       "2999  1.000000     0.757143    0.50   0.666667     0.714286       0.750   \n",
       "\n",
       "      Roof(Area)  Lawn(Area)   Nfloors       API  ANB  Expected price  \\\n",
       "0       0.000000        0.12  0.166667  0.650000  1.0        0.360251   \n",
       "1       0.591667        0.52  0.333333  0.533333  0.6        0.370944   \n",
       "2       0.841667        0.94  0.666667  0.400000  0.4        0.458702   \n",
       "3       0.841667        0.24  0.166667  0.316667  0.2        0.232301   \n",
       "4       0.000000        0.10  0.333333  0.000000  0.0        0.493732   \n",
       "...          ...         ...       ...       ...  ...             ...   \n",
       "2995    0.791667        0.90  0.666667  0.833333  0.2        0.642330   \n",
       "2996    0.966667        0.34  1.000000  0.950000  0.6        0.460546   \n",
       "2997    0.000000        0.16  0.666667  0.916667  1.0        0.406711   \n",
       "2998    0.000000        0.16  1.000000  0.183333  0.4        0.624631   \n",
       "2999    0.000000        0.76  0.666667  0.916667  0.4        0.590339   \n",
       "\n",
       "      roof_encoded  Grade_encoded  \n",
       "0              0.0              3  \n",
       "1              1.0              3  \n",
       "2              1.0              2  \n",
       "3              1.0              3  \n",
       "4              0.0              3  \n",
       "...            ...            ...  \n",
       "2995           1.0              1  \n",
       "2996           1.0              0  \n",
       "2997           0.0              3  \n",
       "2998           0.0              1  \n",
       "2999           0.0              2  \n",
       "\n",
       "[3000 rows x 14 columns]"
      ]
     },
     "execution_count": 13,
     "metadata": {},
     "output_type": "execute_result"
    }
   ],
   "source": [
    "l1 = []\n",
    "\n",
    "for i in df_after_scaling:\n",
    "    if abs(df_after_scaling[i].corr(df_after_scaling['Grade_encoded'])) > 0.1:\n",
    "        l1.append(i)\n",
    "\n",
    "# New dataframe created\n",
    "\n",
    "new_scaled_df = df_after_scaling\n",
    "new_scaled_df"
   ]
  },
  {
   "cell_type": "markdown",
   "id": "beb2c92c",
   "metadata": {},
   "source": [
    "# DATA SPLITTING"
   ]
  },
  {
   "cell_type": "code",
   "execution_count": 14,
   "id": "5b227462",
   "metadata": {},
   "outputs": [],
   "source": [
    "X = new_scaled_df.loc[:,new_scaled_df.columns!='Grade_encoded']\n",
    "y = new_scaled_df['Grade_encoded']\n",
    "X_train,X_test,y_train,y_test=train_test_split(X,y,test_size=0.2,random_state=10)"
   ]
  },
  {
   "cell_type": "code",
   "execution_count": 15,
   "id": "20700945",
   "metadata": {},
   "outputs": [
    {
     "data": {
      "text/plain": [
       "((2400, 13), (600, 13), (2400,), (600,))"
      ]
     },
     "execution_count": 15,
     "metadata": {},
     "output_type": "execute_result"
    }
   ],
   "source": [
    "X_train.shape, X_test.shape, y_train.shape, y_test.shape #, X1.shape, y1.shape"
   ]
  },
  {
   "cell_type": "markdown",
   "id": "6a4769e8",
   "metadata": {},
   "source": [
    "# LOGISTIC REGRESSION"
   ]
  },
  {
   "cell_type": "code",
   "execution_count": 16,
   "id": "bd031b57",
   "metadata": {},
   "outputs": [
    {
     "data": {
      "text/plain": [
       "array([3, 3, 2, 3, 1, 3, 3, 3, 3, 3, 4, 2, 0, 1, 2, 2, 2, 2, 3, 2, 3, 3,\n",
       "       3, 3, 2, 2, 0, 3, 3, 1, 3, 3, 0, 3, 3, 3, 3, 3, 0, 1, 3, 1, 0, 1,\n",
       "       1, 3, 3, 3, 3, 3, 1, 1, 3, 1, 3, 3, 3, 0, 1, 3, 1, 2, 2, 3, 2, 3,\n",
       "       2, 3, 1, 4, 3, 3, 2, 1, 2, 1, 2, 2, 1, 3, 2, 1, 0, 3, 3, 3, 3, 2,\n",
       "       1, 1, 3, 3, 2, 3, 3, 3, 2, 0, 2, 3, 2, 3, 3, 1, 1, 0, 0, 3, 3, 3,\n",
       "       2, 1, 3, 2, 0, 4, 3, 3, 3, 3, 3, 3, 2, 3, 0, 3, 3, 2, 2, 0, 1, 3,\n",
       "       2, 2, 2, 0, 3, 2, 3, 3, 2, 1, 2, 3, 2, 3, 3, 1, 2, 3, 2, 2, 3, 2,\n",
       "       3, 1, 2, 2, 3, 2, 2, 3, 1, 1, 2, 3, 3, 3, 3, 2, 3, 2, 2, 0, 1, 3,\n",
       "       3, 3, 3, 3, 3, 0, 0, 2, 3, 3, 3, 0, 1, 3, 3, 3, 3, 4, 0, 3, 3, 4,\n",
       "       3, 3, 0, 1, 3, 2, 3, 0, 3, 2, 1, 3, 2, 2, 2, 3, 1, 3, 1, 3, 0, 2,\n",
       "       3, 4, 0, 2, 2, 1, 3, 3, 3, 2, 3, 3, 1, 3, 3, 3, 1, 2, 3, 2, 3, 0,\n",
       "       2, 2, 2, 2, 1, 3, 3, 3, 1, 3, 2, 1, 3, 3, 3, 1, 3, 1, 0, 1, 3, 3,\n",
       "       1, 3, 2, 1, 3, 2, 1, 3, 2, 3, 2, 0, 2, 2, 3, 3, 0, 3, 2, 4, 4, 0,\n",
       "       3, 0, 2, 3, 3, 2, 3, 3, 4, 1, 2, 2, 3, 0, 3, 1, 1, 2, 1, 0, 0, 3,\n",
       "       3, 0, 3, 3, 4, 0, 3, 1, 3, 1, 2, 2, 1, 3, 3, 0, 1, 0, 3, 3, 1, 3,\n",
       "       2, 2, 3, 2, 0, 3, 0, 1, 1, 2, 2, 2, 3, 3, 2, 3, 3, 2, 3, 2, 1, 3,\n",
       "       2, 1, 2, 3, 3, 0, 2, 2, 3, 3, 2, 0, 3, 1, 2, 1, 2, 0, 2, 2, 1, 3,\n",
       "       3, 4, 4, 3, 4, 2, 4, 2, 1, 1, 1, 1, 1, 3, 3, 3, 2, 2, 2, 2, 3, 3,\n",
       "       1, 3, 3, 0, 1, 0, 4, 3, 0, 3, 1, 2, 3, 3, 1, 2, 1, 2, 2, 2, 2, 3,\n",
       "       2, 4, 1, 2, 3, 3, 3, 3, 1, 3, 1, 1, 3, 3, 3, 1, 0, 2, 1, 4, 3, 4,\n",
       "       3, 3, 2, 3, 3, 3, 3, 2, 1, 3, 2, 3, 3, 0, 1, 3, 0, 3, 0, 2, 3, 3,\n",
       "       1, 0, 0, 3, 1, 3, 3, 2, 3, 1, 0, 2, 3, 3, 3, 1, 3, 3, 2, 2, 2, 3,\n",
       "       3, 2, 3, 2, 1, 2, 2, 4, 3, 3, 0, 3, 1, 4, 2, 2, 3, 0, 0, 2, 3, 2,\n",
       "       0, 1, 1, 2, 3, 0, 1, 1, 3, 0, 2, 1, 2, 0, 1, 3, 0, 0, 3, 0, 2, 3,\n",
       "       3, 3, 1, 1, 1, 3, 3, 3, 3, 1, 3, 1, 1, 3, 2, 3, 2, 1, 3, 4, 3, 2,\n",
       "       0, 3, 3, 1, 1, 1, 0, 3, 3, 3, 3, 3, 1, 2, 3, 3, 3, 2, 2, 3, 1, 1,\n",
       "       1, 3, 1, 2, 0, 3, 2, 2, 2, 3, 2, 3, 2, 2, 3, 2, 3, 3, 0, 1, 3, 3,\n",
       "       3, 2, 3, 0, 3, 1])"
      ]
     },
     "execution_count": 16,
     "metadata": {},
     "output_type": "execute_result"
    }
   ],
   "source": [
    "logistic = LogisticRegression(C=100.0).fit(X_train, y_train)\n",
    "logistic_val = logistic.predict(X_test)\n",
    "logistic_val"
   ]
  },
  {
   "cell_type": "code",
   "execution_count": 17,
   "id": "12954f5a",
   "metadata": {},
   "outputs": [
    {
     "name": "stdout",
     "output_type": "stream",
     "text": [
      "LogisticRegression(C=100.0)\n"
     ]
    }
   ],
   "source": [
    "param_grid_lr = [{\n",
    "    'C': [0.001, 0.01, 0.05, 0.1, 0.5, 1.0, 10.0, 50.0, 100.0, 500.0]\n",
    "}]\n",
    "grid1 = GridSearchCV(estimator=logistic, param_grid=param_grid_lr, cv=5, scoring='accuracy')\n",
    "grid1.fit(X_train, y_train)\n",
    "print(grid1.best_estimator_)"
   ]
  },
  {
   "cell_type": "code",
   "execution_count": 18,
   "id": "865efba6",
   "metadata": {},
   "outputs": [
    {
     "name": "stdout",
     "output_type": "stream",
     "text": [
      "ACCURACY OF TRAIN SET : 0.97375\n",
      "RECALL SCORE: 0.97375 \n",
      "F1 SCORE: 0.9737036422301406 \n",
      "PRECISION: 0.9737829598982055\n"
     ]
    }
   ],
   "source": [
    "print(f\"ACCURACY OF TRAIN SET : {logistic.score(X_train, y_train)}\")\n",
    "logt_recall = recall_score(y_train, logistic.predict(X_train), average='weighted')\n",
    "logt_f1 = f1_score(y_train, logistic.predict(X_train), average='weighted')\n",
    "logt_precision = precision_score(y_train, logistic.predict(X_train), average='weighted')\n",
    "print(f\"RECALL SCORE: {logt_recall} \\nF1 SCORE: {logt_f1} \\nPRECISION: {logt_precision}\")"
   ]
  },
  {
   "cell_type": "code",
   "execution_count": 19,
   "id": "15342c28",
   "metadata": {},
   "outputs": [
    {
     "name": "stdout",
     "output_type": "stream",
     "text": [
      "ACCURACY OF TEST SET : 0.9533333333333334\n",
      "RECALL SCORE: 0.9533333333333334 \n",
      "F1 SCORE: 0.9532772227271696 \n",
      "PRECISION: 0.953594704458232\n"
     ]
    }
   ],
   "source": [
    "logistic_acc = accuracy_score(y_test, logistic_val)\n",
    "print(f\"ACCURACY OF TEST SET : {logistic_acc}\")\n",
    "log_recall = recall_score(y_test, logistic_val, average='weighted')\n",
    "log_f1 = f1_score(y_test, logistic_val, average='weighted')\n",
    "log_precision = precision_score(y_test, logistic_val, average='weighted')\n",
    "print(f\"RECALL SCORE: {log_recall} \\nF1 SCORE: {log_f1} \\nPRECISION: {log_precision}\")"
   ]
  },
  {
   "cell_type": "code",
   "execution_count": 20,
   "id": "dd290862",
   "metadata": {},
   "outputs": [
    {
     "data": {
      "text/html": [
       "<div>\n",
       "<style scoped>\n",
       "    .dataframe tbody tr th:only-of-type {\n",
       "        vertical-align: middle;\n",
       "    }\n",
       "\n",
       "    .dataframe tbody tr th {\n",
       "        vertical-align: top;\n",
       "    }\n",
       "\n",
       "    .dataframe thead tr th {\n",
       "        text-align: left;\n",
       "    }\n",
       "</style>\n",
       "<table border=\"1\" class=\"dataframe\">\n",
       "  <thead>\n",
       "    <tr>\n",
       "      <th></th>\n",
       "      <th>Actual</th>\n",
       "      <th>Predicted</th>\n",
       "    </tr>\n",
       "  </thead>\n",
       "  <tbody>\n",
       "    <tr>\n",
       "      <th>0</th>\n",
       "      <td>3</td>\n",
       "      <td>3</td>\n",
       "    </tr>\n",
       "    <tr>\n",
       "      <th>1</th>\n",
       "      <td>3</td>\n",
       "      <td>3</td>\n",
       "    </tr>\n",
       "    <tr>\n",
       "      <th>2</th>\n",
       "      <td>2</td>\n",
       "      <td>2</td>\n",
       "    </tr>\n",
       "    <tr>\n",
       "      <th>3</th>\n",
       "      <td>3</td>\n",
       "      <td>3</td>\n",
       "    </tr>\n",
       "    <tr>\n",
       "      <th>4</th>\n",
       "      <td>1</td>\n",
       "      <td>1</td>\n",
       "    </tr>\n",
       "    <tr>\n",
       "      <th>...</th>\n",
       "      <td>...</td>\n",
       "      <td>...</td>\n",
       "    </tr>\n",
       "    <tr>\n",
       "      <th>595</th>\n",
       "      <td>2</td>\n",
       "      <td>2</td>\n",
       "    </tr>\n",
       "    <tr>\n",
       "      <th>596</th>\n",
       "      <td>3</td>\n",
       "      <td>3</td>\n",
       "    </tr>\n",
       "    <tr>\n",
       "      <th>597</th>\n",
       "      <td>0</td>\n",
       "      <td>0</td>\n",
       "    </tr>\n",
       "    <tr>\n",
       "      <th>598</th>\n",
       "      <td>3</td>\n",
       "      <td>3</td>\n",
       "    </tr>\n",
       "    <tr>\n",
       "      <th>599</th>\n",
       "      <td>1</td>\n",
       "      <td>1</td>\n",
       "    </tr>\n",
       "  </tbody>\n",
       "</table>\n",
       "<p>600 rows × 2 columns</p>\n",
       "</div>"
      ],
      "text/plain": [
       "    Actual Predicted\n",
       "0        3         3\n",
       "1        3         3\n",
       "2        2         2\n",
       "3        3         3\n",
       "4        1         1\n",
       "..     ...       ...\n",
       "595      2         2\n",
       "596      3         3\n",
       "597      0         0\n",
       "598      3         3\n",
       "599      1         1\n",
       "\n",
       "[600 rows x 2 columns]"
      ]
     },
     "execution_count": 20,
     "metadata": {},
     "output_type": "execute_result"
    }
   ],
   "source": [
    "log_df = pd.DataFrame([y_test.values, logistic_val], index=[['Actual', 'Predicted']])\n",
    "log_df.T"
   ]
  },
  {
   "cell_type": "code",
   "execution_count": 21,
   "id": "cb1a0c7c",
   "metadata": {},
   "outputs": [
    {
     "data": {
      "text/plain": [
       "<AxesSubplot:title={'center':'Confusion Matrix Logistic Regression'}>"
      ]
     },
     "execution_count": 21,
     "metadata": {},
     "output_type": "execute_result"
    },
    {
     "data": {
      "image/png": "[encoded data removed]",
      "text/plain": [
       "<Figure size 720x360 with 2 Axes>"
      ]
     },
     "metadata": {},
     "output_type": "display_data"
    }
   ],
   "source": [
    "fig, ax = plt.subplots(figsize = (10,5))\n",
    "log_con = confusion_matrix(y_test,logistic_val)\n",
    "# When label = (1,0) the value are in structure Tp,Fn,Fp,Tn\n",
    "ax.set_title('Confusion Matrix Logistic Regression')  \n",
    "sb.heatmap(log_con, annot = True,cmap = 'Blues',fmt='g')"
   ]
  },
  {
   "cell_type": "markdown",
   "id": "4f4b1f6f",
   "metadata": {},
   "source": [
    "***CROSS VALIDATION OF LOGISTIC REGRESSION***"
   ]
  },
  {
   "cell_type": "code",
   "execution_count": 22,
   "id": "b644c356",
   "metadata": {},
   "outputs": [
    {
     "name": "stdout",
     "output_type": "stream",
     "text": [
      "F1-Score: 0.962 (0.010)\n"
     ]
    }
   ],
   "source": [
    "names, results=[],[]\n",
    "#cross validation of Logistic regression\n",
    "\n",
    "# evaluate the model\n",
    "cv =RepeatedStratifiedKFold(n_splits=10,n_repeats=3,random_state=1)\n",
    "n_scores1 = cross_val_score(logistic,X,y, scoring='f1_weighted', cv=cv, n_jobs=-1, error_score='raise')\n",
    "\n",
    "results.append(n_scores1)\n",
    "names.append('log')\n",
    "\n",
    "# report performance\n",
    "print('F1-Score: %.3f (%.3f)' % (mean(n_scores1), std(n_scores1)))"
   ]
  },
  {
   "cell_type": "code",
   "execution_count": 23,
   "id": "140c2087",
   "metadata": {},
   "outputs": [
    {
     "name": "stdout",
     "output_type": "stream",
     "text": [
      "F1-Score: 0.963 (0.010)\n"
     ]
    }
   ],
   "source": [
    "names1, results1=[],[]\n",
    "#cross validation of Logistic regression\n",
    "\n",
    "# evaluate the model\n",
    "cv =RepeatedStratifiedKFold(n_splits=10,n_repeats=3,random_state=1)\n",
    "n_scores1a = cross_val_score(logistic,X,y, scoring='accuracy', cv=cv, n_jobs=-1, error_score='raise')\n",
    "\n",
    "results1.append(n_scores1a)\n",
    "names1.append('log')\n",
    "\n",
    "# report performance\n",
    "print('F1-Score: %.3f (%.3f)' % (mean(n_scores1a), std(n_scores1a)))"
   ]
  },
  {
   "cell_type": "code",
   "execution_count": 24,
   "id": "3ed29ec6",
   "metadata": {},
   "outputs": [
    {
     "name": "stdout",
     "output_type": "stream",
     "text": [
      "F1-Score: 0.963 (0.010)\n"
     ]
    }
   ],
   "source": [
    "names2, results2=[],[]\n",
    "#cross validation of Logistic regression\n",
    "\n",
    "# evaluate the model\n",
    "cv =RepeatedStratifiedKFold(n_splits=10,n_repeats=3,random_state=1)\n",
    "n_scores1r = cross_val_score(logistic,X,y, scoring='recall_weighted', cv=cv, n_jobs=-1, error_score='raise')\n",
    "\n",
    "results2.append(n_scores1r)\n",
    "names2.append('log')\n",
    "\n",
    "# report performance\n",
    "print('F1-Score: %.3f (%.3f)' % (mean(n_scores1r), std(n_scores1r)))"
   ]
  },
  {
   "cell_type": "code",
   "execution_count": 25,
   "id": "7f448aa5",
   "metadata": {},
   "outputs": [
    {
     "name": "stdout",
     "output_type": "stream",
     "text": [
      "F1-Score: 0.963 (0.010)\n"
     ]
    }
   ],
   "source": [
    "names3, results3=[],[]\n",
    "#cross validation of Logistic regression\n",
    "\n",
    "# evaluate the model\n",
    "cv =RepeatedStratifiedKFold(n_splits=10,n_repeats=3,random_state=1)\n",
    "n_scores1p = cross_val_score(logistic,X,y, scoring='precision_weighted', cv=cv, n_jobs=-1, error_score='raise')\n",
    "\n",
    "results3.append(n_scores1p)\n",
    "names3.append('log')\n",
    "\n",
    "# report performance\n",
    "print('F1-Score: %.3f (%.3f)' % (mean(n_scores1p), std(n_scores1p)))"
   ]
  },
  {
   "cell_type": "markdown",
   "id": "27f880c1",
   "metadata": {},
   "source": [
    "# NAIVE BAYES CLASSIFICATION"
   ]
  },
  {
   "cell_type": "code",
   "execution_count": 26,
   "id": "f40ad521",
   "metadata": {},
   "outputs": [
    {
     "data": {
      "text/plain": [
       "array([3, 3, 2, 3, 1, 3, 3, 3, 3, 3, 3, 3, 0, 1, 1, 1, 2, 2, 3, 2, 3, 3,\n",
       "       3, 3, 2, 2, 0, 3, 3, 1, 2, 3, 0, 2, 3, 3, 3, 3, 0, 1, 3, 0, 0, 1,\n",
       "       1, 2, 3, 3, 3, 3, 1, 1, 3, 1, 3, 3, 3, 0, 1, 3, 1, 2, 2, 3, 2, 2,\n",
       "       1, 3, 1, 4, 2, 3, 2, 1, 2, 1, 2, 2, 2, 3, 2, 2, 0, 3, 3, 3, 3, 2,\n",
       "       1, 1, 3, 3, 1, 3, 2, 3, 2, 0, 1, 3, 3, 3, 3, 1, 1, 0, 0, 3, 3, 2,\n",
       "       2, 1, 3, 3, 0, 4, 3, 3, 3, 3, 3, 3, 2, 3, 0, 3, 3, 3, 2, 0, 1, 3,\n",
       "       2, 2, 1, 0, 3, 1, 3, 3, 3, 1, 2, 2, 2, 2, 3, 1, 2, 3, 2, 2, 3, 2,\n",
       "       3, 1, 1, 2, 3, 2, 2, 3, 2, 1, 3, 3, 3, 3, 3, 2, 3, 2, 1, 0, 1, 3,\n",
       "       3, 3, 3, 2, 3, 0, 0, 1, 3, 3, 2, 0, 1, 3, 3, 2, 3, 4, 0, 3, 3, 4,\n",
       "       3, 3, 1, 1, 2, 2, 3, 0, 3, 2, 1, 3, 2, 2, 1, 3, 1, 3, 1, 3, 0, 1,\n",
       "       3, 3, 0, 2, 2, 1, 2, 3, 3, 3, 2, 3, 1, 3, 3, 3, 2, 2, 3, 2, 3, 0,\n",
       "       2, 2, 2, 3, 1, 3, 3, 3, 2, 3, 2, 1, 3, 3, 3, 1, 3, 1, 0, 2, 3, 3,\n",
       "       1, 3, 1, 2, 3, 2, 1, 3, 2, 2, 2, 0, 2, 2, 3, 3, 0, 3, 2, 3, 4, 1,\n",
       "       3, 0, 2, 3, 3, 3, 3, 3, 3, 1, 2, 2, 3, 1, 3, 1, 0, 3, 1, 0, 0, 3,\n",
       "       3, 0, 3, 3, 3, 0, 3, 1, 3, 1, 1, 2, 2, 3, 2, 0, 1, 0, 3, 3, 1, 3,\n",
       "       2, 2, 3, 2, 1, 3, 1, 1, 1, 1, 1, 1, 3, 3, 1, 3, 3, 2, 3, 3, 1, 3,\n",
       "       2, 1, 2, 3, 3, 0, 3, 3, 3, 3, 2, 0, 3, 2, 2, 1, 2, 0, 1, 1, 1, 3,\n",
       "       3, 4, 3, 3, 4, 3, 3, 2, 1, 1, 1, 1, 1, 3, 3, 2, 2, 2, 1, 2, 3, 3,\n",
       "       2, 3, 2, 0, 1, 0, 3, 2, 0, 3, 1, 2, 3, 3, 1, 2, 1, 1, 2, 1, 3, 3,\n",
       "       2, 4, 1, 2, 3, 3, 3, 3, 1, 3, 1, 1, 3, 3, 3, 1, 0, 2, 1, 3, 3, 4,\n",
       "       3, 3, 1, 3, 2, 3, 2, 2, 1, 3, 3, 3, 3, 1, 1, 2, 0, 3, 0, 2, 3, 3,\n",
       "       1, 0, 0, 3, 1, 3, 3, 2, 3, 1, 0, 3, 3, 3, 3, 1, 2, 3, 1, 2, 1, 3,\n",
       "       3, 2, 3, 2, 1, 2, 2, 4, 3, 3, 1, 3, 2, 3, 1, 2, 3, 0, 0, 2, 3, 2,\n",
       "       1, 2, 1, 3, 3, 1, 1, 1, 3, 1, 2, 1, 2, 0, 1, 3, 0, 0, 3, 0, 2, 3,\n",
       "       3, 3, 1, 1, 1, 3, 3, 3, 3, 1, 3, 1, 1, 3, 2, 3, 2, 0, 3, 4, 3, 2,\n",
       "       0, 3, 3, 2, 1, 2, 0, 3, 3, 3, 3, 3, 1, 2, 3, 3, 3, 1, 1, 3, 1, 1,\n",
       "       2, 3, 1, 2, 0, 3, 2, 2, 2, 3, 2, 3, 1, 2, 3, 2, 3, 3, 0, 1, 3, 3,\n",
       "       3, 3, 3, 0, 3, 2])"
      ]
     },
     "execution_count": 26,
     "metadata": {},
     "output_type": "execute_result"
    }
   ],
   "source": [
    "naive_bayes = GaussianNB(var_smoothing=0.2848035868435802).fit(X_train, y_train)\n",
    "nb_val = naive_bayes.predict(X_test)\n",
    "nb_val"
   ]
  },
  {
   "cell_type": "code",
   "execution_count": 27,
   "id": "650eaf65",
   "metadata": {},
   "outputs": [
    {
     "name": "stdout",
     "output_type": "stream",
     "text": [
      "Fitting 5 folds for each of 100 candidates, totalling 500 fits\n",
      "GaussianNB(var_smoothing=0.2848035868435802)\n"
     ]
    }
   ],
   "source": [
    "params_NB = {'var_smoothing': np.logspace(0,-9, num=100)}\n",
    "grid2 = GridSearchCV(estimator=naive_bayes,verbose=1, param_grid=params_NB, cv=5, scoring='accuracy')\n",
    "grid2.fit(X_train, y_train)\n",
    "print(grid2.best_estimator_)"
   ]
  },
  {
   "cell_type": "code",
   "execution_count": 28,
   "id": "958c72f4",
   "metadata": {},
   "outputs": [
    {
     "name": "stdout",
     "output_type": "stream",
     "text": [
      "ACCURACY OF TRAIN SET : 0.8508333333333333\n",
      "RECALL SCORE: 0.8508333333333333 \n",
      "F1 SCORE: 0.8510191790562313 \n",
      "PRECISION: 0.8537397058214133\n"
     ]
    }
   ],
   "source": [
    "print(f\"ACCURACY OF TRAIN SET : {naive_bayes.score(X_train, y_train)}\")\n",
    "nbt_recall = recall_score(y_train, naive_bayes.predict(X_train), average='weighted')\n",
    "nbt_f1 = f1_score(y_train, naive_bayes.predict(X_train), average='weighted')\n",
    "nbt_precision = precision_score(y_train, naive_bayes.predict(X_train), average='weighted')\n",
    "print(f\"RECALL SCORE: {nbt_recall} \\nF1 SCORE: {nbt_f1} \\nPRECISION: {nbt_precision}\")"
   ]
  },
  {
   "cell_type": "code",
   "execution_count": 29,
   "id": "b1a5db7a",
   "metadata": {},
   "outputs": [
    {
     "name": "stdout",
     "output_type": "stream",
     "text": [
      "ACCURACY OF TEST SET : 0.9533333333333334\n",
      "RECALL SCORE: 0.81 \n",
      "F1 SCORE: 0.8084838607655594 \n",
      "PRECISION: 0.8140337321542775\n"
     ]
    }
   ],
   "source": [
    "nb_acc = accuracy_score(y_test, logistic_val)\n",
    "print(f\"ACCURACY OF TEST SET : {nb_acc}\")\n",
    "nb_recall = recall_score(y_test, nb_val, average='weighted')\n",
    "nb_f1 = f1_score(y_test, nb_val, average='weighted')\n",
    "nb_precision = precision_score(y_test, nb_val, average='weighted')\n",
    "print(f\"RECALL SCORE: {nb_recall} \\nF1 SCORE: {nb_f1} \\nPRECISION: {nb_precision}\")"
   ]
  },
  {
   "cell_type": "code",
   "execution_count": 30,
   "id": "6ff0f757",
   "metadata": {},
   "outputs": [
    {
     "data": {
      "text/html": [
       "<div>\n",
       "<style scoped>\n",
       "    .dataframe tbody tr th:only-of-type {\n",
       "        vertical-align: middle;\n",
       "    }\n",
       "\n",
       "    .dataframe tbody tr th {\n",
       "        vertical-align: top;\n",
       "    }\n",
       "\n",
       "    .dataframe thead tr th {\n",
       "        text-align: left;\n",
       "    }\n",
       "</style>\n",
       "<table border=\"1\" class=\"dataframe\">\n",
       "  <thead>\n",
       "    <tr>\n",
       "      <th></th>\n",
       "      <th>Actual</th>\n",
       "      <th>Predicted</th>\n",
       "    </tr>\n",
       "  </thead>\n",
       "  <tbody>\n",
       "    <tr>\n",
       "      <th>0</th>\n",
       "      <td>3</td>\n",
       "      <td>3</td>\n",
       "    </tr>\n",
       "    <tr>\n",
       "      <th>1</th>\n",
       "      <td>3</td>\n",
       "      <td>3</td>\n",
       "    </tr>\n",
       "    <tr>\n",
       "      <th>2</th>\n",
       "      <td>2</td>\n",
       "      <td>2</td>\n",
       "    </tr>\n",
       "    <tr>\n",
       "      <th>3</th>\n",
       "      <td>3</td>\n",
       "      <td>3</td>\n",
       "    </tr>\n",
       "    <tr>\n",
       "      <th>4</th>\n",
       "      <td>1</td>\n",
       "      <td>1</td>\n",
       "    </tr>\n",
       "    <tr>\n",
       "      <th>...</th>\n",
       "      <td>...</td>\n",
       "      <td>...</td>\n",
       "    </tr>\n",
       "    <tr>\n",
       "      <th>595</th>\n",
       "      <td>2</td>\n",
       "      <td>3</td>\n",
       "    </tr>\n",
       "    <tr>\n",
       "      <th>596</th>\n",
       "      <td>3</td>\n",
       "      <td>3</td>\n",
       "    </tr>\n",
       "    <tr>\n",
       "      <th>597</th>\n",
       "      <td>0</td>\n",
       "      <td>0</td>\n",
       "    </tr>\n",
       "    <tr>\n",
       "      <th>598</th>\n",
       "      <td>3</td>\n",
       "      <td>3</td>\n",
       "    </tr>\n",
       "    <tr>\n",
       "      <th>599</th>\n",
       "      <td>1</td>\n",
       "      <td>2</td>\n",
       "    </tr>\n",
       "  </tbody>\n",
       "</table>\n",
       "<p>600 rows × 2 columns</p>\n",
       "</div>"
      ],
      "text/plain": [
       "    Actual Predicted\n",
       "0        3         3\n",
       "1        3         3\n",
       "2        2         2\n",
       "3        3         3\n",
       "4        1         1\n",
       "..     ...       ...\n",
       "595      2         3\n",
       "596      3         3\n",
       "597      0         0\n",
       "598      3         3\n",
       "599      1         2\n",
       "\n",
       "[600 rows x 2 columns]"
      ]
     },
     "execution_count": 30,
     "metadata": {},
     "output_type": "execute_result"
    }
   ],
   "source": [
    "nb_df = pd.DataFrame([y_test.values, nb_val], index=[['Actual', 'Predicted']])\n",
    "nb_df.T"
   ]
  },
  {
   "cell_type": "code",
   "execution_count": 31,
   "id": "b5c4c525",
   "metadata": {},
   "outputs": [
    {
     "data": {
      "text/plain": [
       "<AxesSubplot:title={'center':'Confusion Matrix Naive Bayes'}>"
      ]
     },
     "execution_count": 31,
     "metadata": {},
     "output_type": "execute_result"
    },
    {
     "data": {
      "image/png": "[encoded data removed]",
      "text/plain": [
       "<Figure size 720x360 with 2 Axes>"
      ]
     },
     "metadata": {},
     "output_type": "display_data"
    }
   ],
   "source": [
    "fig, ax = plt.subplots(figsize = (10,5))\n",
    "log_con = confusion_matrix(y_test,nb_val)\n",
    "# When label = (1,0) the value are in structure Tp,Fn,Fp,Tn\n",
    "ax.set_title('Confusion Matrix Naive Bayes')  \n",
    "sb.heatmap(log_con, annot = True,cmap = 'Blues',fmt='g')"
   ]
  },
  {
   "cell_type": "markdown",
   "id": "a9db1389",
   "metadata": {},
   "source": [
    "***CROSS VALIDATION OF NAIVE BAYES***"
   ]
  },
  {
   "cell_type": "code",
   "execution_count": 32,
   "id": "edae60b9",
   "metadata": {},
   "outputs": [
    {
     "name": "stdout",
     "output_type": "stream",
     "text": [
      "F1-Score: 0.839 (0.025)\n"
     ]
    }
   ],
   "source": [
    "#cross validation of Naive Bayes\n",
    "\n",
    "# evaluate the model\n",
    "cv =RepeatedStratifiedKFold(n_splits=10,n_repeats=3,random_state=1)\n",
    "n_scores2 = cross_val_score(naive_bayes,X,y, scoring='f1_weighted', cv=cv, n_jobs=-1, error_score='raise')\n",
    "\n",
    "results.append(n_scores2)\n",
    "names.append('nb')\n",
    "\n",
    "# report performance\n",
    "print('F1-Score: %.3f (%.3f)' % (mean(n_scores2), std(n_scores2)))"
   ]
  },
  {
   "cell_type": "code",
   "execution_count": 33,
   "id": "7db905db",
   "metadata": {},
   "outputs": [
    {
     "name": "stdout",
     "output_type": "stream",
     "text": [
      "F1-Score: 0.840 (0.026)\n"
     ]
    }
   ],
   "source": [
    "#cross validation of Naive Bayes\n",
    "\n",
    "# evaluate the model\n",
    "cv =RepeatedStratifiedKFold(n_splits=10,n_repeats=3,random_state=1)\n",
    "n_scores2a = cross_val_score(naive_bayes,X,y, scoring='accuracy', cv=cv, n_jobs=-1, error_score='raise')\n",
    "\n",
    "results1.append(n_scores2a)\n",
    "names1.append('nb')\n",
    "\n",
    "# report performance\n",
    "print('F1-Score: %.3f (%.3f)' % (mean(n_scores2a), std(n_scores2a)))"
   ]
  },
  {
   "cell_type": "code",
   "execution_count": 34,
   "id": "8363755a",
   "metadata": {},
   "outputs": [
    {
     "name": "stdout",
     "output_type": "stream",
     "text": [
      "F1-Score: 0.840 (0.026)\n"
     ]
    }
   ],
   "source": [
    "#cross validation of Naive Bayes\n",
    "\n",
    "# evaluate the model\n",
    "cv =RepeatedStratifiedKFold(n_splits=10,n_repeats=3,random_state=1)\n",
    "n_scores2r = cross_val_score(naive_bayes,X,y, scoring='recall_weighted', cv=cv, n_jobs=-1, error_score='raise')\n",
    "\n",
    "results2.append(n_scores2r)\n",
    "names2.append('nb')\n",
    "\n",
    "# report performance\n",
    "print('F1-Score: %.3f (%.3f)' % (mean(n_scores2r), std(n_scores2r)))"
   ]
  },
  {
   "cell_type": "code",
   "execution_count": 35,
   "id": "51316aaf",
   "metadata": {},
   "outputs": [
    {
     "name": "stdout",
     "output_type": "stream",
     "text": [
      "F1-Score: 0.846 (0.024)\n"
     ]
    }
   ],
   "source": [
    "#cross validation of Naive Bayes\n",
    "\n",
    "# evaluate the model\n",
    "cv =RepeatedStratifiedKFold(n_splits=10,n_repeats=3,random_state=1)\n",
    "n_scores2p = cross_val_score(naive_bayes,X,y, scoring='precision_weighted', cv=cv, n_jobs=-1, error_score='raise')\n",
    "\n",
    "results3.append(n_scores2p)\n",
    "names3.append('nb')\n",
    "\n",
    "# report performance\n",
    "print('F1-Score: %.3f (%.3f)' % (mean(n_scores2p), std(n_scores2p)))"
   ]
  },
  {
   "cell_type": "markdown",
   "id": "fe1767d5",
   "metadata": {},
   "source": [
    "# DECISION TREE CLASSIFIER"
   ]
  },
  {
   "cell_type": "code",
   "execution_count": 36,
   "id": "5c05c52b",
   "metadata": {},
   "outputs": [
    {
     "data": {
      "text/plain": [
       "array([3, 3, 2, 3, 1, 3, 3, 3, 4, 3, 4, 2, 0, 1, 2, 2, 2, 2, 3, 2, 3, 3,\n",
       "       3, 3, 2, 2, 0, 3, 2, 0, 3, 3, 0, 3, 3, 3, 3, 3, 0, 1, 3, 1, 0, 1,\n",
       "       1, 3, 3, 3, 3, 3, 1, 1, 3, 1, 3, 3, 3, 0, 1, 3, 1, 2, 2, 3, 2, 3,\n",
       "       2, 3, 1, 4, 2, 3, 2, 1, 2, 1, 1, 2, 1, 3, 2, 1, 0, 3, 3, 3, 3, 2,\n",
       "       1, 1, 3, 3, 2, 3, 2, 3, 1, 0, 2, 3, 2, 3, 3, 1, 1, 0, 0, 3, 3, 3,\n",
       "       2, 1, 3, 2, 0, 3, 3, 3, 3, 3, 3, 3, 2, 3, 1, 3, 3, 2, 2, 0, 0, 3,\n",
       "       3, 2, 2, 0, 3, 1, 3, 3, 2, 1, 2, 2, 2, 2, 3, 2, 1, 3, 2, 2, 3, 1,\n",
       "       3, 1, 2, 2, 3, 2, 2, 3, 1, 1, 2, 3, 3, 3, 3, 2, 3, 2, 1, 0, 1, 3,\n",
       "       3, 3, 3, 2, 3, 0, 0, 2, 3, 3, 2, 0, 0, 3, 3, 3, 3, 4, 0, 3, 3, 4,\n",
       "       4, 3, 0, 1, 3, 3, 3, 0, 3, 2, 1, 3, 2, 2, 2, 3, 1, 3, 2, 3, 0, 2,\n",
       "       3, 4, 0, 2, 2, 1, 2, 3, 3, 2, 3, 3, 2, 3, 3, 3, 2, 2, 3, 2, 3, 0,\n",
       "       2, 1, 2, 3, 1, 3, 3, 3, 1, 3, 2, 1, 3, 3, 3, 1, 3, 1, 0, 2, 3, 3,\n",
       "       1, 3, 2, 1, 3, 2, 1, 3, 2, 3, 2, 0, 2, 2, 3, 3, 0, 3, 2, 3, 3, 1,\n",
       "       3, 0, 2, 3, 3, 2, 3, 3, 4, 1, 2, 2, 3, 1, 3, 2, 0, 3, 1, 0, 0, 3,\n",
       "       3, 0, 3, 3, 3, 0, 3, 1, 3, 1, 2, 2, 1, 3, 3, 0, 1, 0, 3, 3, 1, 3,\n",
       "       2, 2, 3, 2, 0, 3, 1, 1, 1, 2, 1, 2, 3, 3, 1, 3, 3, 2, 3, 2, 1, 3,\n",
       "       2, 1, 2, 3, 3, 0, 3, 3, 3, 3, 2, 0, 2, 2, 1, 2, 2, 0, 2, 1, 0, 3,\n",
       "       3, 3, 3, 3, 4, 2, 3, 2, 1, 1, 1, 1, 1, 3, 3, 3, 2, 2, 2, 2, 3, 3,\n",
       "       2, 3, 3, 0, 1, 0, 4, 3, 0, 3, 1, 3, 3, 3, 0, 2, 1, 2, 2, 2, 3, 3,\n",
       "       2, 4, 1, 2, 3, 2, 3, 3, 1, 3, 1, 2, 3, 3, 3, 2, 0, 2, 1, 3, 3, 3,\n",
       "       3, 3, 1, 3, 3, 3, 3, 2, 1, 3, 2, 3, 3, 0, 1, 2, 0, 3, 0, 2, 3, 3,\n",
       "       1, 1, 0, 3, 1, 3, 3, 2, 3, 1, 0, 2, 3, 3, 3, 1, 3, 3, 2, 2, 2, 3,\n",
       "       3, 2, 2, 2, 0, 2, 2, 4, 3, 3, 0, 3, 1, 3, 2, 3, 3, 0, 0, 2, 3, 2,\n",
       "       1, 1, 1, 2, 3, 1, 1, 1, 3, 0, 2, 1, 2, 0, 1, 3, 0, 0, 3, 0, 2, 3,\n",
       "       3, 3, 1, 1, 0, 3, 3, 3, 3, 1, 3, 1, 1, 3, 3, 3, 2, 1, 3, 3, 3, 2,\n",
       "       0, 3, 3, 1, 1, 2, 0, 3, 3, 3, 3, 3, 1, 2, 2, 3, 3, 1, 2, 3, 1, 1,\n",
       "       1, 3, 2, 2, 0, 3, 2, 2, 2, 3, 2, 3, 2, 2, 3, 2, 3, 3, 0, 1, 3, 3,\n",
       "       3, 3, 3, 0, 3, 1])"
      ]
     },
     "execution_count": 36,
     "metadata": {},
     "output_type": "execute_result"
    }
   ],
   "source": [
    "decision_tree = DecisionTreeClassifier(max_depth=8, min_samples_leaf=6).fit(X_train, y_train)\n",
    "decision_val = decision_tree.predict(X_test)\n",
    "decision_val"
   ]
  },
  {
   "cell_type": "code",
   "execution_count": 37,
   "id": "451eae8a",
   "metadata": {},
   "outputs": [
    {
     "name": "stdout",
     "output_type": "stream",
     "text": [
      "Fitting 5 folds for each of 475 candidates, totalling 2375 fits\n",
      "DecisionTreeClassifier(max_depth=9, min_samples_leaf=7)\n"
     ]
    }
   ],
   "source": [
    "    params1 = {\n",
    "        'max_depth': list(range(1,20)),\n",
    "        'min_samples_leaf': list(range(5,30,1))\n",
    "    }\n",
    "    grid3 = GridSearchCV(estimator=decision_tree, param_grid=params1, cv=5, verbose = 1, scoring='accuracy')\n",
    "    grid3.fit(X_train, y_train)\n",
    "    print(grid3.best_estimator_)"
   ]
  },
  {
   "cell_type": "code",
   "execution_count": 38,
   "id": "399cecfd",
   "metadata": {},
   "outputs": [
    {
     "name": "stdout",
     "output_type": "stream",
     "text": [
      "ACCURACY OF TRAIN SET : 0.9266666666666666\n",
      "RECALL SCORE: 0.9266666666666666 \n",
      "F1 SCORE: 0.9263899545271737 \n",
      "PRECISION: 0.9264270087365141\n"
     ]
    }
   ],
   "source": [
    "print(f\"ACCURACY OF TRAIN SET : {decision_tree.score(X_train, y_train)}\")\n",
    "dtt_recall = recall_score(y_train, decision_tree.predict(X_train), average='weighted')\n",
    "dtt_f1 = f1_score(y_train, decision_tree.predict(X_train), average='weighted')\n",
    "dtt_precision = precision_score(y_train, decision_tree.predict(X_train), average='weighted')\n",
    "print(f\"RECALL SCORE: {dtt_recall} \\nF1 SCORE: {dtt_f1} \\nPRECISION: {dtt_precision}\")"
   ]
  },
  {
   "cell_type": "code",
   "execution_count": 39,
   "id": "1c6aaf08",
   "metadata": {},
   "outputs": [
    {
     "name": "stdout",
     "output_type": "stream",
     "text": [
      "ACCURACY OF TEST SET : 0.8566666666666667\n",
      "RECALL SCORE: 0.8566666666666667 \n",
      "F1 SCORE: 0.8538482261456583 \n",
      "PRECISION: 0.8532690439066278\n"
     ]
    }
   ],
   "source": [
    "dt_acc = accuracy_score(y_test, decision_val)\n",
    "print(f\"ACCURACY OF TEST SET : {dt_acc}\")\n",
    "dt_recall = recall_score(y_test, decision_val, average='weighted')\n",
    "dt_f1 = f1_score(y_test, decision_val, average='weighted')\n",
    "dt_precision = precision_score(y_test, decision_val, average='weighted')\n",
    "print(f\"RECALL SCORE: {dt_recall} \\nF1 SCORE: {dt_f1} \\nPRECISION: {dt_precision}\")"
   ]
  },
  {
   "cell_type": "code",
   "execution_count": 40,
   "id": "ba20299a",
   "metadata": {},
   "outputs": [
    {
     "data": {
      "text/html": [
       "<div>\n",
       "<style scoped>\n",
       "    .dataframe tbody tr th:only-of-type {\n",
       "        vertical-align: middle;\n",
       "    }\n",
       "\n",
       "    .dataframe tbody tr th {\n",
       "        vertical-align: top;\n",
       "    }\n",
       "\n",
       "    .dataframe thead tr th {\n",
       "        text-align: left;\n",
       "    }\n",
       "</style>\n",
       "<table border=\"1\" class=\"dataframe\">\n",
       "  <thead>\n",
       "    <tr>\n",
       "      <th></th>\n",
       "      <th>Actual</th>\n",
       "      <th>Predicted</th>\n",
       "    </tr>\n",
       "  </thead>\n",
       "  <tbody>\n",
       "    <tr>\n",
       "      <th>0</th>\n",
       "      <td>3</td>\n",
       "      <td>3</td>\n",
       "    </tr>\n",
       "    <tr>\n",
       "      <th>1</th>\n",
       "      <td>3</td>\n",
       "      <td>3</td>\n",
       "    </tr>\n",
       "    <tr>\n",
       "      <th>2</th>\n",
       "      <td>2</td>\n",
       "      <td>2</td>\n",
       "    </tr>\n",
       "    <tr>\n",
       "      <th>3</th>\n",
       "      <td>3</td>\n",
       "      <td>3</td>\n",
       "    </tr>\n",
       "    <tr>\n",
       "      <th>4</th>\n",
       "      <td>1</td>\n",
       "      <td>1</td>\n",
       "    </tr>\n",
       "    <tr>\n",
       "      <th>...</th>\n",
       "      <td>...</td>\n",
       "      <td>...</td>\n",
       "    </tr>\n",
       "    <tr>\n",
       "      <th>595</th>\n",
       "      <td>2</td>\n",
       "      <td>3</td>\n",
       "    </tr>\n",
       "    <tr>\n",
       "      <th>596</th>\n",
       "      <td>3</td>\n",
       "      <td>3</td>\n",
       "    </tr>\n",
       "    <tr>\n",
       "      <th>597</th>\n",
       "      <td>0</td>\n",
       "      <td>0</td>\n",
       "    </tr>\n",
       "    <tr>\n",
       "      <th>598</th>\n",
       "      <td>3</td>\n",
       "      <td>3</td>\n",
       "    </tr>\n",
       "    <tr>\n",
       "      <th>599</th>\n",
       "      <td>1</td>\n",
       "      <td>1</td>\n",
       "    </tr>\n",
       "  </tbody>\n",
       "</table>\n",
       "<p>600 rows × 2 columns</p>\n",
       "</div>"
      ],
      "text/plain": [
       "    Actual Predicted\n",
       "0        3         3\n",
       "1        3         3\n",
       "2        2         2\n",
       "3        3         3\n",
       "4        1         1\n",
       "..     ...       ...\n",
       "595      2         3\n",
       "596      3         3\n",
       "597      0         0\n",
       "598      3         3\n",
       "599      1         1\n",
       "\n",
       "[600 rows x 2 columns]"
      ]
     },
     "execution_count": 40,
     "metadata": {},
     "output_type": "execute_result"
    }
   ],
   "source": [
    "dt_df = pd.DataFrame([y_test.values, decision_val], index=[['Actual', 'Predicted']])\n",
    "dt_df.T"
   ]
  },
  {
   "cell_type": "code",
   "execution_count": 41,
   "id": "df1cd706",
   "metadata": {},
   "outputs": [
    {
     "data": {
      "text/plain": [
       "<AxesSubplot:title={'center':'Confusion Matrix Decision Tree'}>"
      ]
     },
     "execution_count": 41,
     "metadata": {},
     "output_type": "execute_result"
    },
    {
     "data": {
      "image/png": "[encoded data removed]",
      "text/plain": [
       "<Figure size 720x360 with 2 Axes>"
      ]
     },
     "metadata": {},
     "output_type": "display_data"
    }
   ],
   "source": [
    "fig, ax = plt.subplots(figsize = (10,5))\n",
    "log_con = confusion_matrix(y_test,decision_val)\n",
    "# When label = (1,0) the value are in structure Tp,Fn,Fp,Tn\n",
    "ax.set_title('Confusion Matrix Decision Tree')  \n",
    "sb.heatmap(log_con, annot = True,cmap = 'Blues',fmt='g')"
   ]
  },
  {
   "cell_type": "markdown",
   "id": "5f1a48e6",
   "metadata": {},
   "source": [
    "***CROSS VALIDATION OF DECISION TREE***"
   ]
  },
  {
   "cell_type": "code",
   "execution_count": 42,
   "id": "c9dad991",
   "metadata": {},
   "outputs": [
    {
     "name": "stdout",
     "output_type": "stream",
     "text": [
      "F1-Score: 0.851 (0.022)\n"
     ]
    }
   ],
   "source": [
    "# evaluate the model\n",
    "cv =RepeatedStratifiedKFold(n_splits=10,n_repeats=3,random_state=1)\n",
    "n_scores3 = cross_val_score(decision_tree,X,y, scoring='f1_weighted', cv=cv, n_jobs=-1, error_score='raise')\n",
    "\n",
    "results.append(n_scores3)\n",
    "names.append('dt')\n",
    "\n",
    "# report performance\n",
    "print('F1-Score: %.3f (%.3f)' % (mean(n_scores3), std(n_scores3)))"
   ]
  },
  {
   "cell_type": "code",
   "execution_count": 43,
   "id": "4de65a20",
   "metadata": {},
   "outputs": [
    {
     "name": "stdout",
     "output_type": "stream",
     "text": [
      "F1-Score: 0.853 (0.022)\n"
     ]
    }
   ],
   "source": [
    "# evaluate the model\n",
    "cv =RepeatedStratifiedKFold(n_splits=10,n_repeats=3,random_state=1)\n",
    "n_scores3a = cross_val_score(decision_tree,X,y, scoring='accuracy', cv=cv, n_jobs=-1, error_score='raise')\n",
    "\n",
    "results1.append(n_scores3a)\n",
    "names1.append('dt')\n",
    "\n",
    "# report performance\n",
    "print('F1-Score: %.3f (%.3f)' % (mean(n_scores3a), std(n_scores3a)))"
   ]
  },
  {
   "cell_type": "code",
   "execution_count": 44,
   "id": "f25a0170",
   "metadata": {},
   "outputs": [
    {
     "name": "stdout",
     "output_type": "stream",
     "text": [
      "F1-Score: 0.852 (0.022)\n"
     ]
    }
   ],
   "source": [
    "# evaluate the model\n",
    "cv =RepeatedStratifiedKFold(n_splits=10,n_repeats=3,random_state=1)\n",
    "n_scores3r = cross_val_score(decision_tree,X,y, scoring='recall_weighted', cv=cv, n_jobs=-1, error_score='raise')\n",
    "\n",
    "results2.append(n_scores3r)\n",
    "names2.append('dt')\n",
    "\n",
    "# report performance\n",
    "print('F1-Score: %.3f (%.3f)' % (mean(n_scores3r), std(n_scores3r)))"
   ]
  },
  {
   "cell_type": "code",
   "execution_count": 45,
   "id": "617e5ba3",
   "metadata": {},
   "outputs": [
    {
     "name": "stdout",
     "output_type": "stream",
     "text": [
      "F1-Score: 0.856 (0.024)\n"
     ]
    }
   ],
   "source": [
    "# evaluate the model\n",
    "cv =RepeatedStratifiedKFold(n_splits=10,n_repeats=3,random_state=1)\n",
    "n_scores3p = cross_val_score(decision_tree,X,y, scoring='precision_weighted', cv=cv, n_jobs=-1, error_score='raise')\n",
    "\n",
    "results3.append(n_scores3p)\n",
    "names3.append('dt')\n",
    "\n",
    "# report performance\n",
    "print('F1-Score: %.3f (%.3f)' % (mean(n_scores3p), std(n_scores3p)))"
   ]
  },
  {
   "cell_type": "markdown",
   "id": "b04cf8ad",
   "metadata": {},
   "source": [
    "# RANDOM FOREST"
   ]
  },
  {
   "cell_type": "code",
   "execution_count": 46,
   "id": "da2b0bce",
   "metadata": {},
   "outputs": [
    {
     "data": {
      "text/plain": [
       "array([3, 3, 2, 3, 1, 3, 3, 3, 3, 3, 4, 3, 0, 1, 1, 2, 2, 2, 3, 2, 3, 3,\n",
       "       3, 3, 2, 2, 0, 3, 3, 1, 3, 3, 0, 2, 3, 3, 3, 3, 0, 1, 3, 0, 0, 1,\n",
       "       1, 3, 3, 3, 3, 3, 1, 1, 3, 1, 3, 3, 3, 0, 1, 3, 2, 2, 2, 3, 2, 2,\n",
       "       2, 3, 1, 4, 2, 3, 2, 1, 2, 1, 2, 2, 1, 3, 2, 2, 0, 3, 3, 3, 3, 2,\n",
       "       1, 2, 3, 3, 2, 3, 2, 3, 2, 0, 2, 3, 3, 3, 3, 1, 1, 0, 0, 3, 3, 2,\n",
       "       2, 1, 3, 2, 0, 3, 3, 3, 3, 3, 3, 3, 2, 3, 0, 3, 3, 2, 2, 0, 1, 3,\n",
       "       2, 2, 2, 0, 3, 2, 3, 3, 2, 1, 2, 3, 2, 2, 3, 1, 2, 3, 2, 2, 3, 2,\n",
       "       3, 0, 2, 2, 3, 2, 2, 3, 2, 1, 3, 3, 3, 3, 3, 2, 3, 2, 1, 0, 2, 3,\n",
       "       3, 3, 3, 2, 3, 0, 0, 2, 3, 3, 2, 0, 1, 3, 3, 3, 3, 3, 0, 3, 3, 3,\n",
       "       3, 3, 1, 1, 3, 2, 3, 0, 3, 2, 1, 3, 2, 2, 2, 3, 1, 3, 1, 3, 0, 2,\n",
       "       3, 3, 0, 2, 2, 1, 2, 3, 3, 2, 2, 3, 1, 3, 3, 3, 2, 2, 3, 2, 3, 0,\n",
       "       2, 1, 2, 3, 1, 3, 3, 3, 1, 3, 2, 1, 3, 3, 3, 1, 3, 1, 0, 2, 3, 3,\n",
       "       1, 3, 2, 2, 3, 2, 1, 3, 2, 3, 2, 0, 2, 2, 3, 3, 0, 3, 2, 3, 4, 1,\n",
       "       3, 0, 2, 3, 3, 2, 3, 3, 3, 1, 2, 2, 3, 1, 3, 1, 0, 3, 1, 0, 0, 3,\n",
       "       3, 0, 3, 3, 3, 0, 3, 1, 3, 1, 1, 2, 1, 3, 3, 0, 1, 0, 3, 3, 1, 3,\n",
       "       2, 2, 3, 2, 0, 3, 1, 1, 1, 2, 1, 2, 3, 3, 2, 3, 3, 2, 3, 2, 1, 3,\n",
       "       2, 1, 2, 3, 3, 0, 3, 2, 3, 3, 2, 0, 3, 2, 2, 1, 2, 0, 2, 2, 1, 3,\n",
       "       3, 3, 3, 3, 3, 2, 3, 2, 1, 2, 1, 1, 1, 3, 3, 3, 2, 2, 2, 2, 3, 3,\n",
       "       2, 3, 2, 0, 1, 0, 3, 3, 0, 3, 1, 2, 3, 3, 1, 2, 1, 2, 2, 2, 3, 3,\n",
       "       2, 4, 1, 2, 3, 3, 3, 3, 1, 3, 1, 1, 3, 3, 3, 2, 0, 2, 1, 3, 3, 3,\n",
       "       3, 3, 1, 3, 2, 3, 3, 2, 1, 3, 3, 3, 3, 1, 1, 3, 0, 3, 0, 2, 3, 3,\n",
       "       1, 1, 0, 3, 1, 3, 3, 2, 3, 1, 0, 3, 3, 3, 3, 1, 3, 3, 2, 2, 2, 3,\n",
       "       3, 2, 3, 2, 1, 3, 2, 3, 3, 3, 1, 3, 2, 3, 2, 2, 3, 0, 0, 2, 3, 2,\n",
       "       1, 1, 1, 3, 3, 1, 0, 1, 3, 1, 2, 1, 2, 0, 1, 3, 0, 1, 3, 0, 2, 3,\n",
       "       3, 3, 1, 1, 1, 3, 3, 3, 3, 1, 3, 1, 1, 3, 2, 3, 2, 1, 3, 3, 3, 2,\n",
       "       0, 3, 3, 1, 1, 2, 0, 3, 3, 3, 3, 3, 1, 2, 3, 3, 3, 2, 2, 3, 1, 1,\n",
       "       1, 3, 2, 2, 0, 3, 2, 2, 2, 3, 2, 3, 2, 2, 3, 2, 3, 3, 0, 1, 3, 3,\n",
       "       3, 3, 3, 0, 3, 2])"
      ]
     },
     "execution_count": 46,
     "metadata": {},
     "output_type": "execute_result"
    }
   ],
   "source": [
    "random_forest = RandomForestClassifier(max_depth=8, min_samples_leaf=5, n_estimators=30).fit(X_train, y_train)\n",
    "random_val = random_forest.predict(X_test)\n",
    "random_val"
   ]
  },
  {
   "cell_type": "code",
   "execution_count": 47,
   "id": "99f62e11",
   "metadata": {},
   "outputs": [
    {
     "name": "stdout",
     "output_type": "stream",
     "text": [
      "Fitting 5 folds for each of 72 candidates, totalling 360 fits\n",
      "RandomForestClassifier(max_depth=8, min_samples_leaf=5, n_estimators=30)\n"
     ]
    }
   ],
   "source": [
    "    params = {\n",
    "        'max_depth': [1,2,3,4,5,6,7,8],\n",
    "        'min_samples_leaf': [5,10,20],\n",
    "        'n_estimators': [10,25,30]\n",
    "    }\n",
    "    grid4 = GridSearchCV(estimator=random_forest, param_grid=params, cv=5, n_jobs=-1, verbose = 1, scoring='accuracy')\n",
    "    grid4.fit(X_train, y_train)\n",
    "    print(grid4.best_estimator_)"
   ]
  },
  {
   "cell_type": "code",
   "execution_count": 48,
   "id": "d360abb7",
   "metadata": {},
   "outputs": [
    {
     "name": "stdout",
     "output_type": "stream",
     "text": [
      "ACCURACY OF TRAIN SET : 0.9266666666666666\n",
      "RECALL SCORE: 0.9266666666666666 \n",
      "F1 SCORE: 0.9239016524540996 \n",
      "PRECISION: 0.9281858641696105\n"
     ]
    }
   ],
   "source": [
    "print(f\"ACCURACY OF TRAIN SET : {random_forest.score(X_train, y_train)}\")\n",
    "rfgt_recall = recall_score(y_train, random_forest.predict(X_train), average='weighted')\n",
    "rfgt_f1 = f1_score(y_train, random_forest.predict(X_train), average='weighted')\n",
    "rfgt_precision = precision_score(y_train, random_forest.predict(X_train), average='weighted')\n",
    "print(f\"RECALL SCORE: {rfgt_recall} \\nF1 SCORE: {rfgt_f1} \\nPRECISION: {rfgt_precision}\")"
   ]
  },
  {
   "cell_type": "code",
   "execution_count": 49,
   "id": "40cd5998",
   "metadata": {},
   "outputs": [
    {
     "name": "stdout",
     "output_type": "stream",
     "text": [
      "ACCURACY OF TEST SET : 0.87\n",
      "RECALL SCORE: 0.87 \n",
      "F1 SCORE: 0.861429427606602 \n",
      "PRECISION: 0.8674489582389682\n"
     ]
    }
   ],
   "source": [
    "rfg_acc = accuracy_score(y_test, random_val)\n",
    "print(f\"ACCURACY OF TEST SET : {rfg_acc}\")\n",
    "rfg_recall = recall_score(y_test, random_val, average='weighted')\n",
    "rfg_f1 = f1_score(y_test, random_val, average='weighted')\n",
    "rfg_precision = precision_score(y_test, random_val, average='weighted')\n",
    "print(f\"RECALL SCORE: {rfg_recall} \\nF1 SCORE: {rfg_f1} \\nPRECISION: {rfg_precision}\")"
   ]
  },
  {
   "cell_type": "code",
   "execution_count": 50,
   "id": "35b9032e",
   "metadata": {},
   "outputs": [
    {
     "data": {
      "text/html": [
       "<div>\n",
       "<style scoped>\n",
       "    .dataframe tbody tr th:only-of-type {\n",
       "        vertical-align: middle;\n",
       "    }\n",
       "\n",
       "    .dataframe tbody tr th {\n",
       "        vertical-align: top;\n",
       "    }\n",
       "\n",
       "    .dataframe thead tr th {\n",
       "        text-align: left;\n",
       "    }\n",
       "</style>\n",
       "<table border=\"1\" class=\"dataframe\">\n",
       "  <thead>\n",
       "    <tr>\n",
       "      <th></th>\n",
       "      <th>Actual</th>\n",
       "      <th>Predicted</th>\n",
       "    </tr>\n",
       "  </thead>\n",
       "  <tbody>\n",
       "    <tr>\n",
       "      <th>0</th>\n",
       "      <td>3</td>\n",
       "      <td>3</td>\n",
       "    </tr>\n",
       "    <tr>\n",
       "      <th>1</th>\n",
       "      <td>3</td>\n",
       "      <td>3</td>\n",
       "    </tr>\n",
       "    <tr>\n",
       "      <th>2</th>\n",
       "      <td>2</td>\n",
       "      <td>2</td>\n",
       "    </tr>\n",
       "    <tr>\n",
       "      <th>3</th>\n",
       "      <td>3</td>\n",
       "      <td>3</td>\n",
       "    </tr>\n",
       "    <tr>\n",
       "      <th>4</th>\n",
       "      <td>1</td>\n",
       "      <td>1</td>\n",
       "    </tr>\n",
       "    <tr>\n",
       "      <th>...</th>\n",
       "      <td>...</td>\n",
       "      <td>...</td>\n",
       "    </tr>\n",
       "    <tr>\n",
       "      <th>595</th>\n",
       "      <td>2</td>\n",
       "      <td>3</td>\n",
       "    </tr>\n",
       "    <tr>\n",
       "      <th>596</th>\n",
       "      <td>3</td>\n",
       "      <td>3</td>\n",
       "    </tr>\n",
       "    <tr>\n",
       "      <th>597</th>\n",
       "      <td>0</td>\n",
       "      <td>0</td>\n",
       "    </tr>\n",
       "    <tr>\n",
       "      <th>598</th>\n",
       "      <td>3</td>\n",
       "      <td>3</td>\n",
       "    </tr>\n",
       "    <tr>\n",
       "      <th>599</th>\n",
       "      <td>1</td>\n",
       "      <td>2</td>\n",
       "    </tr>\n",
       "  </tbody>\n",
       "</table>\n",
       "<p>600 rows × 2 columns</p>\n",
       "</div>"
      ],
      "text/plain": [
       "    Actual Predicted\n",
       "0        3         3\n",
       "1        3         3\n",
       "2        2         2\n",
       "3        3         3\n",
       "4        1         1\n",
       "..     ...       ...\n",
       "595      2         3\n",
       "596      3         3\n",
       "597      0         0\n",
       "598      3         3\n",
       "599      1         2\n",
       "\n",
       "[600 rows x 2 columns]"
      ]
     },
     "execution_count": 50,
     "metadata": {},
     "output_type": "execute_result"
    }
   ],
   "source": [
    "rfg_df = pd.DataFrame([y_test.values, random_val], index=[['Actual', 'Predicted']])\n",
    "rfg_df.T"
   ]
  },
  {
   "cell_type": "code",
   "execution_count": 88,
   "id": "0d229d40",
   "metadata": {},
   "outputs": [
    {
     "data": {
      "text/plain": [
       "<AxesSubplot:title={'center':'Confusion Matrix Random Forest'}>"
      ]
     },
     "execution_count": 88,
     "metadata": {},
     "output_type": "execute_result"
    },
    {
     "data": {
      "image/png": "[encoded data removed]",
      "text/plain": [
       "<Figure size 720x360 with 2 Axes>"
      ]
     },
     "metadata": {},
     "output_type": "display_data"
    }
   ],
   "source": [
    "fig, ax = plt.subplots(figsize = (10,5))\n",
    "log_con = confusion_matrix(y_test,random_val)\n",
    "# When label = (1,0) the value are in structure Tp,Fn,Fp,Tn\n",
    "ax.set_title('Confusion Matrix Random Forest')  \n",
    "sb.heatmap(log_con, annot = True,cmap = 'Blues',fmt='g')"
   ]
  },
  {
   "cell_type": "markdown",
   "id": "72d828a2",
   "metadata": {},
   "source": [
    "***CROSS VALIDATION OF RANDOM FOREST***"
   ]
  },
  {
   "cell_type": "code",
   "execution_count": 51,
   "id": "f7a65a2f",
   "metadata": {},
   "outputs": [
    {
     "name": "stdout",
     "output_type": "stream",
     "text": [
      "F1-Score: 0.871 (0.016)\n"
     ]
    }
   ],
   "source": [
    "# evaluate the model\n",
    "cv =RepeatedStratifiedKFold(n_splits=10,n_repeats=3,random_state=1)\n",
    "n_scores4 = cross_val_score(random_forest,X,y, scoring='f1_weighted', cv=cv, n_jobs=-1, error_score='raise')\n",
    "\n",
    "results.append(n_scores4)\n",
    "names.append('rfg')\n",
    "\n",
    "# report performance\n",
    "print('F1-Score: %.3f (%.3f)' % (mean(n_scores4), std(n_scores4)))"
   ]
  },
  {
   "cell_type": "code",
   "execution_count": 52,
   "id": "38166d01",
   "metadata": {},
   "outputs": [
    {
     "name": "stdout",
     "output_type": "stream",
     "text": [
      "F1-Score: 0.877 (0.021)\n"
     ]
    }
   ],
   "source": [
    "# evaluate the model\n",
    "cv =RepeatedStratifiedKFold(n_splits=10,n_repeats=3,random_state=1)\n",
    "n_scores4a = cross_val_score(random_forest,X,y, scoring='accuracy', cv=cv, n_jobs=-1, error_score='raise')\n",
    "\n",
    "results1.append(n_scores4a)\n",
    "names1.append('rfg')\n",
    "\n",
    "# report performance\n",
    "print('F1-Score: %.3f (%.3f)' % (mean(n_scores4a), std(n_scores4a)))"
   ]
  },
  {
   "cell_type": "code",
   "execution_count": 53,
   "id": "41da83e2",
   "metadata": {},
   "outputs": [
    {
     "name": "stdout",
     "output_type": "stream",
     "text": [
      "F1-Score: 0.874 (0.017)\n"
     ]
    }
   ],
   "source": [
    "# evaluate the model\n",
    "cv =RepeatedStratifiedKFold(n_splits=10,n_repeats=3,random_state=1)\n",
    "n_scores4r = cross_val_score(random_forest,X,y, scoring='recall_weighted', cv=cv, n_jobs=-1, error_score='raise')\n",
    "\n",
    "results2.append(n_scores4r)\n",
    "names2.append('rfg')\n",
    "\n",
    "# report performance\n",
    "print('F1-Score: %.3f (%.3f)' % (mean(n_scores4r), std(n_scores4r)))"
   ]
  },
  {
   "cell_type": "code",
   "execution_count": 54,
   "id": "8a62125d",
   "metadata": {},
   "outputs": [
    {
     "name": "stdout",
     "output_type": "stream",
     "text": [
      "F1-Score: 0.873 (0.022)\n"
     ]
    }
   ],
   "source": [
    "# evaluate the model\n",
    "cv =RepeatedStratifiedKFold(n_splits=10,n_repeats=3,random_state=1)\n",
    "n_scores4p = cross_val_score(random_forest,X,y, scoring='precision_weighted', cv=cv, n_jobs=-1, error_score='raise')\n",
    "\n",
    "results3.append(n_scores4p)\n",
    "names3.append('rfg')\n",
    "\n",
    "# report performance\n",
    "print('F1-Score: %.3f (%.3f)' % (mean(n_scores4p), std(n_scores4p)))"
   ]
  },
  {
   "cell_type": "markdown",
   "id": "f0e0e943",
   "metadata": {},
   "source": [
    "# KNN"
   ]
  },
  {
   "cell_type": "code",
   "execution_count": 55,
   "id": "558256ed",
   "metadata": {},
   "outputs": [
    {
     "data": {
      "text/plain": [
       "array([3, 3, 2, 3, 1, 3, 3, 3, 3, 3, 3, 2, 0, 0, 1, 2, 2, 1, 3, 2, 3, 3,\n",
       "       3, 3, 2, 2, 0, 3, 3, 1, 3, 3, 0, 2, 3, 3, 3, 3, 1, 1, 3, 0, 0, 1,\n",
       "       0, 3, 3, 3, 3, 3, 1, 1, 3, 2, 3, 3, 3, 0, 1, 3, 1, 2, 2, 3, 3, 3,\n",
       "       2, 3, 1, 4, 3, 3, 2, 1, 2, 1, 2, 2, 1, 3, 2, 1, 0, 3, 3, 3, 3, 2,\n",
       "       2, 2, 3, 3, 2, 3, 2, 3, 1, 0, 2, 3, 3, 3, 3, 1, 1, 0, 0, 3, 3, 3,\n",
       "       2, 1, 3, 2, 1, 3, 3, 3, 3, 3, 3, 3, 2, 3, 0, 3, 3, 3, 2, 0, 1, 3,\n",
       "       2, 2, 2, 0, 3, 2, 3, 3, 2, 1, 2, 3, 2, 3, 3, 1, 2, 3, 2, 1, 3, 2,\n",
       "       3, 1, 2, 2, 3, 2, 2, 3, 1, 1, 3, 3, 3, 3, 3, 2, 3, 2, 2, 0, 2, 3,\n",
       "       3, 3, 3, 3, 3, 0, 0, 1, 3, 3, 3, 0, 1, 3, 3, 2, 3, 4, 0, 3, 3, 3,\n",
       "       3, 3, 0, 1, 3, 2, 3, 0, 3, 2, 1, 3, 2, 2, 2, 3, 1, 3, 2, 3, 0, 2,\n",
       "       3, 3, 0, 2, 2, 1, 2, 3, 3, 3, 2, 3, 1, 3, 3, 3, 1, 2, 3, 2, 3, 0,\n",
       "       2, 1, 2, 3, 2, 3, 3, 3, 1, 3, 1, 1, 3, 3, 3, 1, 3, 1, 0, 2, 3, 3,\n",
       "       2, 3, 2, 1, 3, 2, 1, 3, 2, 3, 2, 0, 2, 2, 3, 3, 0, 3, 2, 3, 4, 1,\n",
       "       3, 0, 2, 3, 3, 2, 3, 3, 3, 1, 2, 3, 3, 0, 3, 1, 1, 2, 2, 0, 1, 3,\n",
       "       3, 0, 3, 3, 3, 0, 3, 1, 3, 1, 2, 2, 1, 3, 2, 1, 1, 0, 3, 3, 1, 3,\n",
       "       2, 2, 3, 2, 0, 3, 1, 1, 1, 2, 1, 2, 3, 3, 2, 3, 3, 2, 3, 3, 1, 3,\n",
       "       2, 1, 2, 3, 3, 0, 3, 2, 3, 3, 2, 0, 3, 1, 2, 1, 2, 0, 1, 2, 1, 3,\n",
       "       3, 3, 3, 3, 3, 2, 3, 2, 1, 2, 1, 2, 1, 3, 3, 3, 2, 2, 2, 2, 3, 3,\n",
       "       1, 3, 3, 1, 1, 0, 3, 3, 0, 3, 1, 2, 3, 3, 1, 2, 1, 1, 2, 2, 2, 3,\n",
       "       1, 3, 1, 2, 3, 3, 3, 3, 1, 3, 1, 1, 3, 3, 3, 2, 0, 2, 1, 3, 3, 3,\n",
       "       3, 3, 1, 3, 3, 3, 3, 2, 1, 3, 2, 3, 3, 1, 1, 3, 0, 3, 0, 2, 3, 3,\n",
       "       1, 0, 0, 3, 1, 3, 3, 2, 3, 1, 0, 3, 3, 3, 3, 1, 3, 3, 2, 2, 2, 3,\n",
       "       3, 2, 3, 2, 1, 3, 2, 3, 3, 3, 0, 3, 2, 3, 1, 2, 3, 0, 0, 2, 3, 2,\n",
       "       1, 1, 2, 3, 3, 1, 1, 1, 3, 0, 2, 1, 2, 0, 1, 3, 0, 0, 3, 1, 2, 3,\n",
       "       3, 3, 1, 1, 0, 3, 3, 3, 3, 1, 3, 1, 1, 3, 2, 3, 2, 0, 3, 3, 3, 3,\n",
       "       0, 3, 3, 1, 1, 2, 1, 3, 3, 3, 3, 3, 1, 2, 3, 3, 3, 1, 1, 3, 1, 1,\n",
       "       1, 3, 1, 2, 0, 3, 2, 2, 2, 3, 2, 3, 2, 2, 3, 2, 3, 3, 0, 1, 3, 3,\n",
       "       3, 2, 3, 0, 3, 1])"
      ]
     },
     "execution_count": 55,
     "metadata": {},
     "output_type": "execute_result"
    }
   ],
   "source": [
    "knn = KNeighborsClassifier(n_neighbors=19).fit(X_train, y_train)\n",
    "knn_val = knn.predict(X_test)\n",
    "knn_val"
   ]
  },
  {
   "cell_type": "code",
   "execution_count": 56,
   "id": "d98c9635",
   "metadata": {},
   "outputs": [
    {
     "name": "stdout",
     "output_type": "stream",
     "text": [
      "Fitting 5 folds for each of 19 candidates, totalling 95 fits\n",
      "KNeighborsClassifier(n_neighbors=19)\n"
     ]
    }
   ],
   "source": [
    "parameters = {'n_neighbors':list(range(1,20))}\n",
    "grid5 = GridSearchCV(estimator=knn, param_grid=parameters, cv=5, n_jobs=-1, verbose = 1, scoring='accuracy')\n",
    "grid5.fit(X_train, y_train)\n",
    "print(grid5.best_estimator_)"
   ]
  },
  {
   "cell_type": "code",
   "execution_count": 57,
   "id": "7915fcaf",
   "metadata": {},
   "outputs": [
    {
     "name": "stdout",
     "output_type": "stream",
     "text": [
      "ACCURACY OF TRAIN SET : 0.9045833333333333\n",
      "RECALL SCORE: 0.9045833333333333 \n",
      "F1 SCORE: 0.9027433775795777 \n",
      "PRECISION: 0.9057788957142884\n"
     ]
    }
   ],
   "source": [
    "print(f\"ACCURACY OF TRAIN SET : {knn.score(X_train, y_train)}\")\n",
    "knnt_recall = recall_score(y_train, knn.predict(X_train), average='weighted')\n",
    "knnt_f1 = f1_score(y_train, knn.predict(X_train), average='weighted')\n",
    "knnt_precision = precision_score(y_train, knn.predict(X_train), average='weighted')\n",
    "print(f\"RECALL SCORE: {knnt_recall} \\nF1 SCORE: {knnt_f1} \\nPRECISION: {knnt_precision}\")"
   ]
  },
  {
   "cell_type": "code",
   "execution_count": 58,
   "id": "08e4fea8",
   "metadata": {},
   "outputs": [
    {
     "name": "stdout",
     "output_type": "stream",
     "text": [
      "ACCURACY OF TEST SET : 0.8666666666666667\n",
      "RECALL SCORE: 0.8666666666666667 \n",
      "F1 SCORE: 0.8571875302637492 \n",
      "PRECISION: 0.8712886176045458\n"
     ]
    }
   ],
   "source": [
    "knn_acc = accuracy_score(y_test, knn_val)\n",
    "print(f\"ACCURACY OF TEST SET : {knn_acc}\")\n",
    "knn_recall = recall_score(y_test, knn_val, average='weighted')\n",
    "knn_f1 = f1_score(y_test, knn_val, average='weighted')\n",
    "knn_precision = precision_score(y_test, knn_val, average='weighted')\n",
    "print(f\"RECALL SCORE: {knn_recall} \\nF1 SCORE: {knn_f1} \\nPRECISION: {knn_precision}\")"
   ]
  },
  {
   "cell_type": "code",
   "execution_count": 59,
   "id": "e5f1ecba",
   "metadata": {},
   "outputs": [
    {
     "data": {
      "text/html": [
       "<div>\n",
       "<style scoped>\n",
       "    .dataframe tbody tr th:only-of-type {\n",
       "        vertical-align: middle;\n",
       "    }\n",
       "\n",
       "    .dataframe tbody tr th {\n",
       "        vertical-align: top;\n",
       "    }\n",
       "\n",
       "    .dataframe thead tr th {\n",
       "        text-align: left;\n",
       "    }\n",
       "</style>\n",
       "<table border=\"1\" class=\"dataframe\">\n",
       "  <thead>\n",
       "    <tr>\n",
       "      <th></th>\n",
       "      <th>Actual</th>\n",
       "      <th>Predicted</th>\n",
       "    </tr>\n",
       "  </thead>\n",
       "  <tbody>\n",
       "    <tr>\n",
       "      <th>0</th>\n",
       "      <td>3</td>\n",
       "      <td>3</td>\n",
       "    </tr>\n",
       "    <tr>\n",
       "      <th>1</th>\n",
       "      <td>3</td>\n",
       "      <td>3</td>\n",
       "    </tr>\n",
       "    <tr>\n",
       "      <th>2</th>\n",
       "      <td>2</td>\n",
       "      <td>2</td>\n",
       "    </tr>\n",
       "    <tr>\n",
       "      <th>3</th>\n",
       "      <td>3</td>\n",
       "      <td>3</td>\n",
       "    </tr>\n",
       "    <tr>\n",
       "      <th>4</th>\n",
       "      <td>1</td>\n",
       "      <td>1</td>\n",
       "    </tr>\n",
       "    <tr>\n",
       "      <th>...</th>\n",
       "      <td>...</td>\n",
       "      <td>...</td>\n",
       "    </tr>\n",
       "    <tr>\n",
       "      <th>595</th>\n",
       "      <td>2</td>\n",
       "      <td>2</td>\n",
       "    </tr>\n",
       "    <tr>\n",
       "      <th>596</th>\n",
       "      <td>3</td>\n",
       "      <td>3</td>\n",
       "    </tr>\n",
       "    <tr>\n",
       "      <th>597</th>\n",
       "      <td>0</td>\n",
       "      <td>0</td>\n",
       "    </tr>\n",
       "    <tr>\n",
       "      <th>598</th>\n",
       "      <td>3</td>\n",
       "      <td>3</td>\n",
       "    </tr>\n",
       "    <tr>\n",
       "      <th>599</th>\n",
       "      <td>1</td>\n",
       "      <td>1</td>\n",
       "    </tr>\n",
       "  </tbody>\n",
       "</table>\n",
       "<p>600 rows × 2 columns</p>\n",
       "</div>"
      ],
      "text/plain": [
       "    Actual Predicted\n",
       "0        3         3\n",
       "1        3         3\n",
       "2        2         2\n",
       "3        3         3\n",
       "4        1         1\n",
       "..     ...       ...\n",
       "595      2         2\n",
       "596      3         3\n",
       "597      0         0\n",
       "598      3         3\n",
       "599      1         1\n",
       "\n",
       "[600 rows x 2 columns]"
      ]
     },
     "execution_count": 59,
     "metadata": {},
     "output_type": "execute_result"
    }
   ],
   "source": [
    "knn_df = pd.DataFrame([y_test.values, knn_val], index=[['Actual', 'Predicted']])\n",
    "knn_df.T"
   ]
  },
  {
   "cell_type": "code",
   "execution_count": 89,
   "id": "1a39affa",
   "metadata": {},
   "outputs": [
    {
     "data": {
      "text/plain": [
       "<AxesSubplot:title={'center':'Confusion Matrix KNN'}>"
      ]
     },
     "execution_count": 89,
     "metadata": {},
     "output_type": "execute_result"
    },
    {
     "data": {
      "image/png": "[encoded data removed]",
      "text/plain": [
       "<Figure size 720x360 with 2 Axes>"
      ]
     },
     "metadata": {},
     "output_type": "display_data"
    }
   ],
   "source": [
    "fig, ax = plt.subplots(figsize = (10,5))\n",
    "log_con = confusion_matrix(y_test,knn_val)\n",
    "# When label = (1,0) the value are in structure Tp,Fn,Fp,Tn\n",
    "ax.set_title('Confusion Matrix KNN')  \n",
    "sb.heatmap(log_con, annot = True,cmap = 'Blues',fmt='g')"
   ]
  },
  {
   "cell_type": "markdown",
   "id": "7303a461",
   "metadata": {},
   "source": [
    "***CROSS VALIDATION OF KNN***"
   ]
  },
  {
   "cell_type": "code",
   "execution_count": 60,
   "id": "29cb6907",
   "metadata": {},
   "outputs": [
    {
     "name": "stdout",
     "output_type": "stream",
     "text": [
      "F1-Score: 0.875 (0.015)\n"
     ]
    }
   ],
   "source": [
    "# evaluate the model\n",
    "cv =RepeatedStratifiedKFold(n_splits=10,n_repeats=3,random_state=1)\n",
    "n_scores5 = cross_val_score(knn,X,y, scoring='f1_weighted', cv=cv, n_jobs=-1, error_score='raise')\n",
    "\n",
    "results.append(n_scores5)\n",
    "names.append('knn')\n",
    "\n",
    "# report performance\n",
    "print('F1-Score: %.3f (%.3f)' % (mean(n_scores5), std(n_scores5)))"
   ]
  },
  {
   "cell_type": "code",
   "execution_count": 61,
   "id": "4080ccd4",
   "metadata": {},
   "outputs": [
    {
     "name": "stdout",
     "output_type": "stream",
     "text": [
      "F1-Score: 0.880 (0.014)\n"
     ]
    }
   ],
   "source": [
    "# evaluate the model\n",
    "cv =RepeatedStratifiedKFold(n_splits=10,n_repeats=3,random_state=1)\n",
    "n_scores5a = cross_val_score(knn,X,y, scoring='accuracy', cv=cv, n_jobs=-1, error_score='raise')\n",
    "\n",
    "results1.append(n_scores5a)\n",
    "names1.append('knn')\n",
    "\n",
    "# report performance\n",
    "print('F1-Score: %.3f (%.3f)' % (mean(n_scores5a), std(n_scores5a)))"
   ]
  },
  {
   "cell_type": "code",
   "execution_count": 62,
   "id": "446077fd",
   "metadata": {},
   "outputs": [
    {
     "name": "stdout",
     "output_type": "stream",
     "text": [
      "F1-Score: 0.880 (0.014)\n"
     ]
    }
   ],
   "source": [
    "# evaluate the model\n",
    "cv =RepeatedStratifiedKFold(n_splits=10,n_repeats=3,random_state=1)\n",
    "n_scores5r = cross_val_score(knn,X,y, scoring='recall_weighted', cv=cv, n_jobs=-1, error_score='raise')\n",
    "\n",
    "results2.append(n_scores5r)\n",
    "names2.append('knn')\n",
    "\n",
    "# report performance\n",
    "print('F1-Score: %.3f (%.3f)' % (mean(n_scores5r), std(n_scores5r)))"
   ]
  },
  {
   "cell_type": "code",
   "execution_count": 63,
   "id": "88d7833f",
   "metadata": {},
   "outputs": [
    {
     "name": "stdout",
     "output_type": "stream",
     "text": [
      "F1-Score: 0.881 (0.014)\n"
     ]
    }
   ],
   "source": [
    "# evaluate the model\n",
    "cv =RepeatedStratifiedKFold(n_splits=10,n_repeats=3,random_state=1)\n",
    "n_scores5p = cross_val_score(knn,X,y, scoring='precision_weighted', cv=cv, n_jobs=-1, error_score='raise')\n",
    "\n",
    "results3.append(n_scores5)\n",
    "names3.append('knn')\n",
    "\n",
    "# report performance\n",
    "print('F1-Score: %.3f (%.3f)' % (mean(n_scores5p), std(n_scores5p)))"
   ]
  },
  {
   "cell_type": "markdown",
   "id": "d0ef0f90",
   "metadata": {},
   "source": [
    "# ADABOOST"
   ]
  },
  {
   "cell_type": "code",
   "execution_count": 64,
   "id": "00e3d877",
   "metadata": {},
   "outputs": [
    {
     "data": {
      "text/plain": [
       "array([3, 3, 2, 3, 1, 3, 3, 3, 3, 3, 3, 2, 0, 1, 1, 2, 2, 1, 3, 2, 3, 3,\n",
       "       3, 3, 2, 2, 0, 3, 3, 1, 3, 3, 0, 2, 3, 3, 3, 3, 0, 1, 3, 1, 0, 1,\n",
       "       1, 3, 3, 3, 3, 3, 1, 1, 3, 1, 3, 3, 3, 0, 1, 3, 2, 2, 2, 3, 2, 3,\n",
       "       2, 3, 1, 4, 2, 3, 2, 1, 2, 1, 2, 2, 1, 3, 2, 2, 0, 3, 3, 3, 3, 2,\n",
       "       1, 1, 3, 3, 2, 3, 2, 3, 2, 0, 2, 3, 3, 3, 3, 1, 1, 0, 0, 3, 3, 2,\n",
       "       2, 1, 3, 2, 0, 4, 3, 3, 3, 3, 3, 3, 2, 3, 0, 3, 3, 2, 2, 0, 1, 3,\n",
       "       2, 2, 2, 0, 2, 2, 3, 3, 2, 1, 2, 3, 2, 3, 3, 1, 2, 3, 2, 2, 2, 2,\n",
       "       3, 0, 2, 2, 3, 2, 2, 3, 2, 1, 2, 3, 3, 3, 3, 2, 3, 2, 1, 0, 2, 3,\n",
       "       3, 3, 3, 3, 3, 0, 0, 2, 3, 3, 2, 0, 1, 3, 3, 3, 3, 3, 0, 3, 3, 4,\n",
       "       3, 3, 1, 1, 3, 2, 3, 0, 3, 2, 2, 3, 2, 2, 2, 3, 1, 3, 1, 3, 0, 2,\n",
       "       3, 3, 0, 2, 1, 1, 2, 3, 3, 2, 3, 3, 1, 3, 3, 3, 2, 2, 3, 2, 3, 0,\n",
       "       2, 2, 2, 3, 1, 3, 3, 3, 1, 3, 2, 1, 3, 3, 3, 1, 3, 1, 0, 1, 3, 3,\n",
       "       1, 3, 2, 1, 3, 2, 1, 3, 2, 3, 2, 0, 2, 2, 2, 3, 0, 3, 2, 3, 4, 1,\n",
       "       3, 0, 2, 3, 3, 2, 3, 3, 3, 1, 2, 2, 3, 0, 3, 1, 1, 2, 1, 0, 0, 3,\n",
       "       3, 0, 3, 3, 3, 0, 3, 1, 3, 1, 2, 2, 1, 3, 3, 0, 1, 0, 3, 3, 1, 3,\n",
       "       2, 2, 3, 2, 0, 3, 0, 1, 1, 2, 1, 2, 3, 3, 2, 3, 3, 2, 3, 2, 1, 3,\n",
       "       2, 1, 2, 3, 3, 0, 3, 3, 3, 3, 2, 0, 3, 2, 2, 2, 2, 0, 2, 2, 1, 3,\n",
       "       3, 3, 3, 3, 3, 2, 3, 1, 1, 1, 1, 1, 1, 3, 3, 3, 2, 2, 2, 2, 3, 3,\n",
       "       1, 3, 3, 0, 1, 0, 3, 3, 0, 3, 1, 2, 3, 3, 1, 2, 1, 2, 2, 2, 3, 3,\n",
       "       2, 4, 1, 2, 3, 3, 3, 3, 1, 3, 1, 1, 3, 3, 3, 2, 0, 2, 1, 3, 3, 3,\n",
       "       3, 3, 1, 3, 3, 3, 3, 2, 1, 3, 3, 3, 3, 0, 1, 3, 0, 3, 0, 2, 3, 3,\n",
       "       1, 1, 0, 3, 1, 3, 3, 2, 3, 1, 0, 3, 3, 3, 3, 1, 3, 3, 2, 2, 2, 3,\n",
       "       3, 2, 3, 2, 1, 2, 2, 3, 3, 3, 1, 3, 2, 3, 2, 2, 3, 0, 0, 2, 3, 2,\n",
       "       1, 1, 1, 3, 3, 1, 0, 1, 3, 1, 2, 1, 2, 0, 1, 3, 0, 0, 3, 0, 2, 3,\n",
       "       3, 3, 1, 1, 1, 3, 3, 3, 3, 1, 3, 1, 1, 3, 3, 3, 2, 0, 3, 4, 3, 2,\n",
       "       0, 3, 3, 1, 1, 2, 0, 3, 3, 3, 3, 3, 1, 2, 3, 3, 3, 2, 2, 3, 1, 1,\n",
       "       1, 3, 2, 2, 0, 3, 2, 2, 2, 3, 2, 3, 2, 2, 3, 2, 3, 3, 0, 1, 3, 3,\n",
       "       3, 3, 3, 0, 3, 2])"
      ]
     },
     "execution_count": 64,
     "metadata": {},
     "output_type": "execute_result"
    }
   ],
   "source": [
    "ada = AdaBoostClassifier(base_estimator=DecisionTreeClassifier(max_depth=10,\n",
    "                                                         min_samples_leaf=10),\n",
    "                   learning_rate=0.1).fit(X_train, y_train)\n",
    "ada_val = ada.predict(X_test)\n",
    "ada_val"
   ]
  },
  {
   "cell_type": "code",
   "execution_count": 65,
   "id": "c2a34d95",
   "metadata": {},
   "outputs": [
    {
     "name": "stdout",
     "output_type": "stream",
     "text": [
      "Fitting 5 folds for each of 40 candidates, totalling 200 fits\n",
      "AdaBoostClassifier(base_estimator=DecisionTreeClassifier(max_depth=10,\n",
      "                                                         min_samples_leaf=10),\n",
      "                   learning_rate=0.1)\n"
     ]
    }
   ],
   "source": [
    "parameters1 = {'base_estimator__max_depth':[i for i in range(2,11,2)],\n",
    "              'base_estimator__min_samples_leaf':[5,10],\n",
    "              'n_estimators':[10,50],\n",
    "              'learning_rate':[0.01,0.1]}\n",
    "grid6 = GridSearchCV(estimator=ada, param_grid=parameters1, cv=5, n_jobs=-1, verbose = 1, scoring='accuracy')\n",
    "grid6.fit(X_train, y_train)\n",
    "print(grid6.best_estimator_)"
   ]
  },
  {
   "cell_type": "code",
   "execution_count": 66,
   "id": "9494d787",
   "metadata": {},
   "outputs": [
    {
     "name": "stdout",
     "output_type": "stream",
     "text": [
      "ACCURACY OF TRAIN SET : 1.0\n",
      "RECALL SCORE: 1.0 \n",
      "F1 SCORE: 1.0 \n",
      "PRECISION: 1.0\n"
     ]
    }
   ],
   "source": [
    "print(f\"ACCURACY OF TRAIN SET : {ada.score(X_train, y_train)}\")\n",
    "adat_recall = recall_score(y_train, ada.predict(X_train), average='weighted')\n",
    "adat_f1 = f1_score(y_train, ada.predict(X_train), average='weighted')\n",
    "adat_precision = precision_score(y_train, ada.predict(X_train), average='weighted')\n",
    "print(f\"RECALL SCORE: {adat_recall} \\nF1 SCORE: {adat_f1} \\nPRECISION: {adat_precision}\")"
   ]
  },
  {
   "cell_type": "code",
   "execution_count": 67,
   "id": "6ff18c8f",
   "metadata": {},
   "outputs": [
    {
     "name": "stdout",
     "output_type": "stream",
     "text": [
      "ACCURACY OF TEST SET : 0.8933333333333333\n",
      "RECALL SCORE: 0.8933333333333333 \n",
      "F1 SCORE: 0.8881772681265555 \n",
      "PRECISION: 0.8959123744811113\n"
     ]
    }
   ],
   "source": [
    "ada_acc = accuracy_score(y_test, ada_val)\n",
    "print(f\"ACCURACY OF TEST SET : {ada_acc}\")\n",
    "ada_recall = recall_score(y_test, ada_val, average='weighted')\n",
    "ada_f1 = f1_score(y_test, ada_val, average='weighted')\n",
    "ada_precision = precision_score(y_test, ada_val, average='weighted')\n",
    "print(f\"RECALL SCORE: {ada_recall} \\nF1 SCORE: {ada_f1} \\nPRECISION: {ada_precision}\")"
   ]
  },
  {
   "cell_type": "code",
   "execution_count": 68,
   "id": "3daa1ac1",
   "metadata": {},
   "outputs": [
    {
     "data": {
      "text/html": [
       "<div>\n",
       "<style scoped>\n",
       "    .dataframe tbody tr th:only-of-type {\n",
       "        vertical-align: middle;\n",
       "    }\n",
       "\n",
       "    .dataframe tbody tr th {\n",
       "        vertical-align: top;\n",
       "    }\n",
       "\n",
       "    .dataframe thead tr th {\n",
       "        text-align: left;\n",
       "    }\n",
       "</style>\n",
       "<table border=\"1\" class=\"dataframe\">\n",
       "  <thead>\n",
       "    <tr>\n",
       "      <th></th>\n",
       "      <th>Actual</th>\n",
       "      <th>Predicted</th>\n",
       "    </tr>\n",
       "  </thead>\n",
       "  <tbody>\n",
       "    <tr>\n",
       "      <th>0</th>\n",
       "      <td>3</td>\n",
       "      <td>3</td>\n",
       "    </tr>\n",
       "    <tr>\n",
       "      <th>1</th>\n",
       "      <td>3</td>\n",
       "      <td>3</td>\n",
       "    </tr>\n",
       "    <tr>\n",
       "      <th>2</th>\n",
       "      <td>2</td>\n",
       "      <td>2</td>\n",
       "    </tr>\n",
       "    <tr>\n",
       "      <th>3</th>\n",
       "      <td>3</td>\n",
       "      <td>3</td>\n",
       "    </tr>\n",
       "    <tr>\n",
       "      <th>4</th>\n",
       "      <td>1</td>\n",
       "      <td>1</td>\n",
       "    </tr>\n",
       "    <tr>\n",
       "      <th>...</th>\n",
       "      <td>...</td>\n",
       "      <td>...</td>\n",
       "    </tr>\n",
       "    <tr>\n",
       "      <th>595</th>\n",
       "      <td>2</td>\n",
       "      <td>3</td>\n",
       "    </tr>\n",
       "    <tr>\n",
       "      <th>596</th>\n",
       "      <td>3</td>\n",
       "      <td>3</td>\n",
       "    </tr>\n",
       "    <tr>\n",
       "      <th>597</th>\n",
       "      <td>0</td>\n",
       "      <td>0</td>\n",
       "    </tr>\n",
       "    <tr>\n",
       "      <th>598</th>\n",
       "      <td>3</td>\n",
       "      <td>3</td>\n",
       "    </tr>\n",
       "    <tr>\n",
       "      <th>599</th>\n",
       "      <td>1</td>\n",
       "      <td>2</td>\n",
       "    </tr>\n",
       "  </tbody>\n",
       "</table>\n",
       "<p>600 rows × 2 columns</p>\n",
       "</div>"
      ],
      "text/plain": [
       "    Actual Predicted\n",
       "0        3         3\n",
       "1        3         3\n",
       "2        2         2\n",
       "3        3         3\n",
       "4        1         1\n",
       "..     ...       ...\n",
       "595      2         3\n",
       "596      3         3\n",
       "597      0         0\n",
       "598      3         3\n",
       "599      1         2\n",
       "\n",
       "[600 rows x 2 columns]"
      ]
     },
     "execution_count": 68,
     "metadata": {},
     "output_type": "execute_result"
    }
   ],
   "source": [
    "ada_df = pd.DataFrame([y_test.values, ada_val], index=[['Actual', 'Predicted']])\n",
    "ada_df.T"
   ]
  },
  {
   "cell_type": "code",
   "execution_count": 90,
   "id": "b99e8c19",
   "metadata": {},
   "outputs": [
    {
     "data": {
      "text/plain": [
       "<AxesSubplot:title={'center':'Confusion Matrix Adaboost'}>"
      ]
     },
     "execution_count": 90,
     "metadata": {},
     "output_type": "execute_result"
    },
    {
     "data": {
      "image/png": "[encoded data removed]",
      "text/plain": [
       "<Figure size 720x360 with 2 Axes>"
      ]
     },
     "metadata": {},
     "output_type": "display_data"
    }
   ],
   "source": [
    "fig, ax = plt.subplots(figsize = (10,5))\n",
    "log_con = confusion_matrix(y_test,ada_val)\n",
    "# When label = (1,0) the value are in structure Tp,Fn,Fp,Tn\n",
    "ax.set_title('Confusion Matrix Adaboost')  \n",
    "sb.heatmap(log_con, annot = True,cmap = 'Blues',fmt='g')"
   ]
  },
  {
   "cell_type": "markdown",
   "id": "c60ec3e7",
   "metadata": {},
   "source": [
    "***CROSS VALIDATION OF ADABOOST***"
   ]
  },
  {
   "cell_type": "code",
   "execution_count": 69,
   "id": "a9996cd9",
   "metadata": {},
   "outputs": [
    {
     "name": "stdout",
     "output_type": "stream",
     "text": [
      "F1-Score: 0.900 (0.019)\n"
     ]
    }
   ],
   "source": [
    "# evaluate the model\n",
    "cv =RepeatedStratifiedKFold(n_splits=10,n_repeats=3,random_state=1)\n",
    "n_scores6 = cross_val_score(ada,X,y, scoring='f1_weighted', cv=cv, n_jobs=-1, error_score='raise')\n",
    "\n",
    "results.append(n_scores6)\n",
    "names.append('ada')\n",
    "\n",
    "# report performance\n",
    "print('F1-Score: %.3f (%.3f)' % (mean(n_scores6), std(n_scores6)))"
   ]
  },
  {
   "cell_type": "code",
   "execution_count": 70,
   "id": "8c2a47b3",
   "metadata": {},
   "outputs": [
    {
     "name": "stdout",
     "output_type": "stream",
     "text": [
      "F1-Score: 0.905 (0.019)\n"
     ]
    }
   ],
   "source": [
    "# evaluate the model\n",
    "cv =RepeatedStratifiedKFold(n_splits=10,n_repeats=3,random_state=1)\n",
    "n_scores6a = cross_val_score(ada,X,y, scoring='accuracy', cv=cv, n_jobs=-1, error_score='raise')\n",
    "\n",
    "results1.append(n_scores6a)\n",
    "names1.append('ada')\n",
    "\n",
    "# report performance\n",
    "print('F1-Score: %.3f (%.3f)' % (mean(n_scores6a), std(n_scores6a)))"
   ]
  },
  {
   "cell_type": "code",
   "execution_count": 71,
   "id": "db022104",
   "metadata": {},
   "outputs": [
    {
     "name": "stdout",
     "output_type": "stream",
     "text": [
      "F1-Score: 0.907 (0.017)\n"
     ]
    }
   ],
   "source": [
    "# evaluate the model\n",
    "cv =RepeatedStratifiedKFold(n_splits=10,n_repeats=3,random_state=1)\n",
    "n_scores6r = cross_val_score(ada,X,y, scoring='recall_weighted', cv=cv, n_jobs=-1, error_score='raise')\n",
    "\n",
    "results2.append(n_scores6r)\n",
    "names2.append('ada')\n",
    "\n",
    "# report performance\n",
    "print('F1-Score: %.3f (%.3f)' % (mean(n_scores6r), std(n_scores6r)))"
   ]
  },
  {
   "cell_type": "code",
   "execution_count": 72,
   "id": "edbec61b",
   "metadata": {},
   "outputs": [
    {
     "name": "stdout",
     "output_type": "stream",
     "text": [
      "F1-Score: 0.906 (0.015)\n"
     ]
    }
   ],
   "source": [
    "# evaluate the model\n",
    "cv =RepeatedStratifiedKFold(n_splits=10,n_repeats=3,random_state=1)\n",
    "n_scores6p = cross_val_score(ada,X,y, scoring='precision_weighted', cv=cv, n_jobs=-1, error_score='raise')\n",
    "\n",
    "results3.append(n_scores6p)\n",
    "names3.append('ada')\n",
    "\n",
    "# report performance\n",
    "print('F1-Score: %.3f (%.3f)' % (mean(n_scores6p), std(n_scores6p)))"
   ]
  },
  {
   "cell_type": "markdown",
   "id": "67a62182",
   "metadata": {},
   "source": [
    "# STACKING"
   ]
  },
  {
   "cell_type": "code",
   "execution_count": 73,
   "id": "2115807e",
   "metadata": {},
   "outputs": [],
   "source": [
    "# get a stacking ensemble of models\n",
    "def get_stacking():\n",
    "    # define the base models\n",
    "    level0 = list()\n",
    "    level0.append(('rfg', RandomForestClassifier(max_depth=8, min_samples_leaf=5, n_estimators=25)))\n",
    "    level0.append(('log', LogisticRegression(C=100.0)))\n",
    "    level0.append(('knn', KNeighborsClassifier(n_neighbors=13)))\n",
    "    level0.append(('cart', DecisionTreeClassifier(max_depth=13, min_samples_leaf=7)))\n",
    "    level0.append(('svm', SVC()))\n",
    "    level0.append(('nb', GaussianNB(var_smoothing=0.2848035868435802)))\n",
    "    # define meta learner model\n",
    "    level1 = GaussianNB(var_smoothing=0.2848035868435802)\n",
    "    # define the stacking ensemble\n",
    "    model_s = StackingClassifier(estimators=level0, final_estimator=level1, cv=10)\n",
    "    return model_s"
   ]
  },
  {
   "cell_type": "code",
   "execution_count": 74,
   "id": "b3b53813",
   "metadata": {},
   "outputs": [
    {
     "data": {
      "text/plain": [
       "array([3, 3, 2, 3, 1, 3, 3, 3, 3, 3, 4, 2, 0, 1, 1, 2, 2, 2, 3, 2, 3, 3,\n",
       "       3, 3, 2, 2, 0, 3, 3, 1, 3, 3, 0, 2, 3, 3, 3, 3, 0, 1, 3, 0, 0, 1,\n",
       "       1, 3, 3, 3, 3, 3, 1, 1, 3, 1, 3, 3, 3, 0, 1, 3, 1, 2, 2, 3, 2, 3,\n",
       "       2, 3, 1, 4, 2, 3, 2, 1, 2, 1, 2, 2, 1, 3, 2, 1, 0, 3, 3, 3, 3, 2,\n",
       "       1, 1, 3, 3, 2, 3, 2, 3, 2, 0, 2, 3, 2, 3, 3, 1, 1, 0, 0, 3, 3, 3,\n",
       "       2, 1, 3, 2, 0, 4, 3, 3, 3, 3, 3, 3, 2, 3, 0, 3, 3, 2, 2, 0, 1, 3,\n",
       "       2, 2, 2, 0, 3, 2, 3, 3, 2, 1, 2, 3, 2, 3, 3, 1, 2, 3, 2, 2, 3, 2,\n",
       "       3, 1, 2, 2, 3, 2, 2, 3, 1, 1, 2, 3, 3, 3, 3, 2, 3, 2, 1, 0, 2, 3,\n",
       "       3, 3, 3, 2, 3, 0, 0, 1, 3, 3, 2, 0, 1, 3, 3, 3, 3, 4, 0, 3, 3, 4,\n",
       "       3, 3, 0, 0, 3, 2, 3, 0, 3, 2, 1, 3, 2, 2, 2, 3, 1, 3, 1, 3, 0, 2,\n",
       "       3, 4, 0, 2, 2, 1, 2, 3, 3, 2, 2, 3, 1, 3, 3, 3, 1, 2, 3, 2, 3, 0,\n",
       "       2, 1, 2, 3, 1, 3, 3, 3, 1, 3, 2, 1, 3, 3, 3, 1, 3, 1, 0, 2, 3, 3,\n",
       "       1, 3, 2, 1, 3, 2, 1, 3, 2, 3, 2, 0, 2, 2, 3, 3, 0, 3, 2, 3, 4, 1,\n",
       "       3, 0, 2, 3, 3, 2, 3, 3, 4, 1, 2, 2, 3, 0, 3, 1, 1, 2, 1, 0, 0, 3,\n",
       "       3, 0, 3, 3, 3, 0, 3, 1, 3, 1, 2, 2, 1, 3, 3, 0, 1, 0, 3, 3, 1, 3,\n",
       "       2, 2, 3, 2, 0, 3, 0, 1, 1, 2, 1, 2, 3, 3, 2, 3, 3, 2, 3, 2, 1, 3,\n",
       "       2, 1, 2, 3, 3, 0, 2, 2, 3, 3, 2, 0, 3, 1, 2, 1, 2, 0, 2, 2, 1, 3,\n",
       "       3, 3, 3, 3, 4, 2, 3, 2, 1, 1, 1, 1, 1, 3, 3, 3, 2, 2, 2, 2, 3, 3,\n",
       "       1, 3, 3, 0, 1, 0, 3, 3, 0, 3, 1, 2, 3, 3, 1, 2, 1, 2, 2, 2, 2, 3,\n",
       "       2, 4, 1, 2, 3, 3, 3, 3, 1, 3, 1, 1, 3, 3, 3, 2, 0, 2, 1, 3, 3, 4,\n",
       "       3, 3, 1, 3, 3, 3, 3, 2, 1, 3, 2, 3, 3, 0, 1, 3, 0, 3, 0, 2, 3, 3,\n",
       "       1, 0, 0, 3, 1, 3, 3, 2, 3, 1, 0, 3, 3, 3, 3, 1, 3, 3, 2, 2, 2, 3,\n",
       "       3, 2, 3, 2, 1, 2, 2, 3, 3, 3, 0, 3, 1, 3, 1, 2, 3, 0, 0, 2, 3, 2,\n",
       "       1, 1, 1, 3, 3, 1, 0, 1, 3, 0, 2, 1, 2, 0, 1, 3, 0, 0, 3, 0, 2, 3,\n",
       "       3, 3, 1, 1, 1, 3, 3, 3, 3, 1, 3, 1, 1, 3, 2, 3, 2, 0, 3, 4, 3, 2,\n",
       "       0, 3, 3, 1, 1, 1, 0, 3, 3, 3, 3, 3, 1, 2, 3, 3, 3, 1, 2, 3, 1, 1,\n",
       "       1, 3, 1, 2, 0, 3, 2, 2, 2, 3, 2, 3, 2, 2, 3, 2, 3, 3, 0, 1, 3, 3,\n",
       "       3, 2, 3, 0, 3, 1])"
      ]
     },
     "execution_count": 74,
     "metadata": {},
     "output_type": "execute_result"
    }
   ],
   "source": [
    "stacking_model = get_stacking().fit(X_train, y_train)\n",
    "stacking_validation = stacking_model.predict(X_test)\n",
    "stacking_validation"
   ]
  },
  {
   "cell_type": "code",
   "execution_count": 75,
   "id": "3d1549c6",
   "metadata": {},
   "outputs": [
    {
     "name": "stdout",
     "output_type": "stream",
     "text": [
      "ACCURACY OF TRAIN SET : 0.9720833333333333\n",
      "RECALL SCORE: 0.9720833333333333 \n",
      "F1 SCORE: 0.9718198353183137 \n",
      "PRECISION: 0.972199328672212\n"
     ]
    }
   ],
   "source": [
    "print(f\"ACCURACY OF TRAIN SET : {stacking_model.score(X_train, y_train)}\")\n",
    "stat_recall = recall_score(y_train, stacking_model.predict(X_train), average='weighted')\n",
    "stat_f1 = f1_score(y_train, stacking_model.predict(X_train), average='weighted')\n",
    "stat_precision = precision_score(y_train, stacking_model.predict(X_train), average='weighted')\n",
    "print(f\"RECALL SCORE: {stat_recall} \\nF1 SCORE: {stat_f1} \\nPRECISION: {stat_precision}\")"
   ]
  },
  {
   "cell_type": "code",
   "execution_count": 76,
   "id": "3e3a0b10",
   "metadata": {},
   "outputs": [
    {
     "name": "stdout",
     "output_type": "stream",
     "text": [
      "ACCURACY OF TEST SET: 0.9316666666666666\n",
      "RECALL SCORE: 0.9316666666666666 \n",
      "F1 SCORE: 0.9301401178369517 \n",
      "PRECISION: 0.9315825434568313\n"
     ]
    }
   ],
   "source": [
    "stack_acc = accuracy_score(y_test, stacking_validation)\n",
    "print(f\"ACCURACY OF TEST SET: {stack_acc}\")\n",
    "stack_recall = recall_score(y_test, stacking_validation, average='weighted')\n",
    "stack_f1 = f1_score(y_test, stacking_validation, average='weighted')\n",
    "stack_precision = precision_score(y_test, stacking_validation, average='weighted')\n",
    "print(f\"RECALL SCORE: {stack_recall} \\nF1 SCORE: {stack_f1} \\nPRECISION: {stack_precision}\")"
   ]
  },
  {
   "cell_type": "code",
   "execution_count": 77,
   "id": "228d5da0",
   "metadata": {},
   "outputs": [
    {
     "data": {
      "text/html": [
       "<div>\n",
       "<style scoped>\n",
       "    .dataframe tbody tr th:only-of-type {\n",
       "        vertical-align: middle;\n",
       "    }\n",
       "\n",
       "    .dataframe tbody tr th {\n",
       "        vertical-align: top;\n",
       "    }\n",
       "\n",
       "    .dataframe thead tr th {\n",
       "        text-align: left;\n",
       "    }\n",
       "</style>\n",
       "<table border=\"1\" class=\"dataframe\">\n",
       "  <thead>\n",
       "    <tr>\n",
       "      <th></th>\n",
       "      <th>Actual</th>\n",
       "      <th>Predicted</th>\n",
       "    </tr>\n",
       "  </thead>\n",
       "  <tbody>\n",
       "    <tr>\n",
       "      <th>0</th>\n",
       "      <td>3</td>\n",
       "      <td>3</td>\n",
       "    </tr>\n",
       "    <tr>\n",
       "      <th>1</th>\n",
       "      <td>3</td>\n",
       "      <td>3</td>\n",
       "    </tr>\n",
       "    <tr>\n",
       "      <th>2</th>\n",
       "      <td>2</td>\n",
       "      <td>2</td>\n",
       "    </tr>\n",
       "    <tr>\n",
       "      <th>3</th>\n",
       "      <td>3</td>\n",
       "      <td>3</td>\n",
       "    </tr>\n",
       "    <tr>\n",
       "      <th>4</th>\n",
       "      <td>1</td>\n",
       "      <td>1</td>\n",
       "    </tr>\n",
       "    <tr>\n",
       "      <th>...</th>\n",
       "      <td>...</td>\n",
       "      <td>...</td>\n",
       "    </tr>\n",
       "    <tr>\n",
       "      <th>595</th>\n",
       "      <td>2</td>\n",
       "      <td>2</td>\n",
       "    </tr>\n",
       "    <tr>\n",
       "      <th>596</th>\n",
       "      <td>3</td>\n",
       "      <td>3</td>\n",
       "    </tr>\n",
       "    <tr>\n",
       "      <th>597</th>\n",
       "      <td>0</td>\n",
       "      <td>0</td>\n",
       "    </tr>\n",
       "    <tr>\n",
       "      <th>598</th>\n",
       "      <td>3</td>\n",
       "      <td>3</td>\n",
       "    </tr>\n",
       "    <tr>\n",
       "      <th>599</th>\n",
       "      <td>1</td>\n",
       "      <td>1</td>\n",
       "    </tr>\n",
       "  </tbody>\n",
       "</table>\n",
       "<p>600 rows × 2 columns</p>\n",
       "</div>"
      ],
      "text/plain": [
       "    Actual Predicted\n",
       "0        3         3\n",
       "1        3         3\n",
       "2        2         2\n",
       "3        3         3\n",
       "4        1         1\n",
       "..     ...       ...\n",
       "595      2         2\n",
       "596      3         3\n",
       "597      0         0\n",
       "598      3         3\n",
       "599      1         1\n",
       "\n",
       "[600 rows x 2 columns]"
      ]
     },
     "execution_count": 77,
     "metadata": {},
     "output_type": "execute_result"
    }
   ],
   "source": [
    "stack_df = pd.DataFrame([y_test.values, stacking_validation], index=[['Actual', 'Predicted']])\n",
    "stack_df.T"
   ]
  },
  {
   "cell_type": "code",
   "execution_count": 91,
   "id": "3d5c54b2",
   "metadata": {},
   "outputs": [
    {
     "data": {
      "text/plain": [
       "<AxesSubplot:title={'center':'Confusion Matrix Stacking'}>"
      ]
     },
     "execution_count": 91,
     "metadata": {},
     "output_type": "execute_result"
    },
    {
     "data": {
      "image/png": "[encoded data removed]",
      "text/plain": [
       "<Figure size 720x360 with 2 Axes>"
      ]
     },
     "metadata": {},
     "output_type": "display_data"
    }
   ],
   "source": [
    "fig, ax = plt.subplots(figsize = (10,5))\n",
    "log_con = confusion_matrix(y_test,stacking_validation)\n",
    "# When label = (1,0) the value are in structure Tp,Fn,Fp,Tn\n",
    "ax.set_title('Confusion Matrix Stacking')  \n",
    "sb.heatmap(log_con, annot = True,cmap = 'Blues',fmt='g')"
   ]
  },
  {
   "cell_type": "markdown",
   "id": "dd160bfb",
   "metadata": {},
   "source": [
    "***CROSS VALIDATION OF STACKING***"
   ]
  },
  {
   "cell_type": "code",
   "execution_count": 78,
   "id": "890eae2b",
   "metadata": {},
   "outputs": [
    {
     "name": "stdout",
     "output_type": "stream",
     "text": [
      "F1-Score: 0.948 (0.012)\n"
     ]
    }
   ],
   "source": [
    "# evaluate the model\n",
    "cv =RepeatedStratifiedKFold(n_splits=10,n_repeats=3,random_state=1)\n",
    "n_scores7 = cross_val_score(stacking_model,X,y, scoring='f1_weighted', cv=cv, n_jobs=-1, error_score='raise')\n",
    "\n",
    "results.append(n_scores7)\n",
    "names.append('stacking')\n",
    "\n",
    "# report performance\n",
    "print('F1-Score: %.3f (%.3f)' % (mean(n_scores7), std(n_scores7)))"
   ]
  },
  {
   "cell_type": "code",
   "execution_count": 79,
   "id": "e10eb848",
   "metadata": {},
   "outputs": [
    {
     "name": "stdout",
     "output_type": "stream",
     "text": [
      "F1-Score: 0.949 (0.012)\n"
     ]
    }
   ],
   "source": [
    "# evaluate the model\n",
    "cv =RepeatedStratifiedKFold(n_splits=10,n_repeats=3,random_state=1)\n",
    "n_scores7a = cross_val_score(stacking_model,X,y, scoring='accuracy', cv=cv, n_jobs=-1, error_score='raise')\n",
    "\n",
    "results1.append(n_scores7a)\n",
    "names1.append('stacking')\n",
    "\n",
    "# report performance\n",
    "print('F1-Score: %.3f (%.3f)' % (mean(n_scores7a), std(n_scores7a)))"
   ]
  },
  {
   "cell_type": "code",
   "execution_count": 80,
   "id": "2450354d",
   "metadata": {},
   "outputs": [
    {
     "name": "stdout",
     "output_type": "stream",
     "text": [
      "F1-Score: 0.949 (0.012)\n"
     ]
    }
   ],
   "source": [
    "# evaluate the model\n",
    "cv =RepeatedStratifiedKFold(n_splits=10,n_repeats=3,random_state=1)\n",
    "n_scores7r = cross_val_score(stacking_model,X,y, scoring='recall_weighted', cv=cv, n_jobs=-1, error_score='raise')\n",
    "\n",
    "results2.append(n_scores7r)\n",
    "names2.append('stacking')\n",
    "\n",
    "# report performance\n",
    "print('F1-Score: %.3f (%.3f)' % (mean(n_scores7r), std(n_scores7r)))"
   ]
  },
  {
   "cell_type": "code",
   "execution_count": 81,
   "id": "bbf62835",
   "metadata": {},
   "outputs": [
    {
     "name": "stdout",
     "output_type": "stream",
     "text": [
      "F1-Score: 0.950 (0.012)\n"
     ]
    }
   ],
   "source": [
    "# evaluate the model\n",
    "cv =RepeatedStratifiedKFold(n_splits=10,n_repeats=3,random_state=1)\n",
    "n_scores7p = cross_val_score(stacking_model,X,y, scoring='precision_weighted', cv=cv, n_jobs=-1, error_score='raise')\n",
    "\n",
    "results3.append(n_scores7p)\n",
    "names3.append('stacking')\n",
    "\n",
    "# report performance\n",
    "print('F1-Score: %.3f (%.3f)' % (mean(n_scores7p), std(n_scores7p)))"
   ]
  },
  {
   "cell_type": "markdown",
   "id": "eb849517",
   "metadata": {},
   "source": [
    "# VISUALIZATIONS OF CROSS VALIDATIONS"
   ]
  },
  {
   "cell_type": "code",
   "execution_count": 82,
   "id": "594082ef",
   "metadata": {},
   "outputs": [
    {
     "data": {
      "image/png": "[encoded data removed]",
      "text/plain": [
       "<Figure size 1080x576 with 1 Axes>"
      ]
     },
     "metadata": {},
     "output_type": "display_data"
    }
   ],
   "source": [
    " #plot model performance for comparison\n",
    "plt.figure(figsize=(15,8))\n",
    "plt.title('CROSS VALIDATED F1 SCORE')\n",
    "plt.boxplot(results, labels=names, showmeans=True)\n",
    "plt.show()"
   ]
  },
  {
   "cell_type": "code",
   "execution_count": 83,
   "id": "e68af1be",
   "metadata": {},
   "outputs": [
    {
     "data": {
      "image/png": "[encoded data removed]",
      "text/plain": [
       "<Figure size 1080x576 with 1 Axes>"
      ]
     },
     "metadata": {},
     "output_type": "display_data"
    }
   ],
   "source": [
    " #plot model performance for comparison\n",
    "plt.figure(figsize=(15,8))\n",
    "plt.title('CROSS VALIDATED ACCURACY SCORE')\n",
    "plt.boxplot(results1, labels=names, showmeans=True)\n",
    "plt.show()"
   ]
  },
  {
   "cell_type": "code",
   "execution_count": 84,
   "id": "2fe0d250",
   "metadata": {},
   "outputs": [
    {
     "data": {
      "image/png": "[encoded data removed]",
      "text/plain": [
       "<Figure size 1080x576 with 1 Axes>"
      ]
     },
     "metadata": {},
     "output_type": "display_data"
    }
   ],
   "source": [
    " #plot model performance for comparison\n",
    "plt.figure(figsize=(15,8))\n",
    "plt.title('CROSS VALIDATED RECALL SCORE')\n",
    "plt.boxplot(results2, labels=names, showmeans=True)\n",
    "plt.show()"
   ]
  },
  {
   "cell_type": "code",
   "execution_count": 85,
   "id": "4f8217e0",
   "metadata": {},
   "outputs": [
    {
     "data": {
      "image/png": "[encoded data removed]",
      "text/plain": [
       "<Figure size 1080x576 with 1 Axes>"
      ]
     },
     "metadata": {},
     "output_type": "display_data"
    }
   ],
   "source": [
    " #plot model performance for comparison\n",
    "plt.figure(figsize=(15,8))\n",
    "plt.title('CROSS VALIDATED PRECISION SCORE')\n",
    "plt.boxplot(results3, labels=names, showmeans=True)\n",
    "plt.show()"
   ]
  },
  {
   "cell_type": "code",
   "execution_count": 86,
   "id": "9edd4aed",
   "metadata": {},
   "outputs": [],
   "source": [
    "accu = [str(round((100*i),1))+' %' for i in [logistic_acc, nb_acc, dt_acc, rfg_acc, knn_acc, ada_acc, stack_acc]]\n",
    "f1 = [str(round((100*i),1))+' %' for i in [log_f1, nb_f1, dt_f1, rfg_f1, knn_f1, ada_f1, stack_f1]]\n",
    "re = [str(round((100*i),1))+' %' for i in [log_recall, nb_recall, dt_recall, rfg_recall, knn_recall, ada_recall, stack_recall]]\n",
    "precision = [str(round((100*i),1))+' %' for i in [log_precision, nb_precision, dt_precision, rfg_precision, knn_precision, ada_precision, stack_precision]]\n",
    "crF = [str(round((100*np.mean(i)),1))+' %' for i in results]\n",
    "crA = [str(round((100*np.mean(i)),1))+' %' for i in results1]\n",
    "crR = [str(round((100*np.mean(i)),1))+' %' for i in results2]\n",
    "crP = [str(round((100*np.mean(i)),1))+' %' for i in results3]"
   ]
  },
  {
   "cell_type": "code",
   "execution_count": 87,
   "id": "d89af404",
   "metadata": {},
   "outputs": [
    {
     "data": {
      "text/html": [
       "<div>\n",
       "<style scoped>\n",
       "    .dataframe tbody tr th:only-of-type {\n",
       "        vertical-align: middle;\n",
       "    }\n",
       "\n",
       "    .dataframe tbody tr th {\n",
       "        vertical-align: top;\n",
       "    }\n",
       "\n",
       "    .dataframe thead th {\n",
       "        text-align: right;\n",
       "    }\n",
       "</style>\n",
       "<table border=\"1\" class=\"dataframe\">\n",
       "  <thead>\n",
       "    <tr style=\"text-align: right;\">\n",
       "      <th></th>\n",
       "      <th>Logistic</th>\n",
       "      <th>Naive Bayes</th>\n",
       "      <th>Decision Tree</th>\n",
       "      <th>Random Forest</th>\n",
       "      <th>KNN</th>\n",
       "      <th>ADA Boost</th>\n",
       "      <th>Stacking</th>\n",
       "    </tr>\n",
       "  </thead>\n",
       "  <tbody>\n",
       "    <tr>\n",
       "      <th>Accuracy</th>\n",
       "      <td>95.3 %</td>\n",
       "      <td>95.3 %</td>\n",
       "      <td>85.7 %</td>\n",
       "      <td>87.0 %</td>\n",
       "      <td>86.7 %</td>\n",
       "      <td>89.3 %</td>\n",
       "      <td>93.2 %</td>\n",
       "    </tr>\n",
       "    <tr>\n",
       "      <th>F1 Score</th>\n",
       "      <td>95.3 %</td>\n",
       "      <td>80.8 %</td>\n",
       "      <td>85.4 %</td>\n",
       "      <td>86.1 %</td>\n",
       "      <td>85.7 %</td>\n",
       "      <td>88.8 %</td>\n",
       "      <td>93.0 %</td>\n",
       "    </tr>\n",
       "    <tr>\n",
       "      <th>Recall</th>\n",
       "      <td>95.3 %</td>\n",
       "      <td>81.0 %</td>\n",
       "      <td>85.7 %</td>\n",
       "      <td>87.0 %</td>\n",
       "      <td>86.7 %</td>\n",
       "      <td>89.3 %</td>\n",
       "      <td>93.2 %</td>\n",
       "    </tr>\n",
       "    <tr>\n",
       "      <th>Precision</th>\n",
       "      <td>95.4 %</td>\n",
       "      <td>81.4 %</td>\n",
       "      <td>85.3 %</td>\n",
       "      <td>86.7 %</td>\n",
       "      <td>87.1 %</td>\n",
       "      <td>89.6 %</td>\n",
       "      <td>93.2 %</td>\n",
       "    </tr>\n",
       "    <tr>\n",
       "      <th>Cross_validated_F1</th>\n",
       "      <td>96.2 %</td>\n",
       "      <td>83.9 %</td>\n",
       "      <td>85.1 %</td>\n",
       "      <td>87.1 %</td>\n",
       "      <td>87.5 %</td>\n",
       "      <td>90.0 %</td>\n",
       "      <td>94.8 %</td>\n",
       "    </tr>\n",
       "    <tr>\n",
       "      <th>Cross_validated_Accuracy</th>\n",
       "      <td>96.3 %</td>\n",
       "      <td>84.0 %</td>\n",
       "      <td>85.3 %</td>\n",
       "      <td>87.7 %</td>\n",
       "      <td>88.0 %</td>\n",
       "      <td>90.5 %</td>\n",
       "      <td>94.9 %</td>\n",
       "    </tr>\n",
       "    <tr>\n",
       "      <th>Cross_validated_Recall</th>\n",
       "      <td>96.3 %</td>\n",
       "      <td>84.0 %</td>\n",
       "      <td>85.2 %</td>\n",
       "      <td>87.4 %</td>\n",
       "      <td>88.0 %</td>\n",
       "      <td>90.7 %</td>\n",
       "      <td>94.9 %</td>\n",
       "    </tr>\n",
       "    <tr>\n",
       "      <th>Cross_validated_Precision</th>\n",
       "      <td>96.3 %</td>\n",
       "      <td>84.6 %</td>\n",
       "      <td>85.6 %</td>\n",
       "      <td>87.3 %</td>\n",
       "      <td>87.5 %</td>\n",
       "      <td>90.6 %</td>\n",
       "      <td>95.0 %</td>\n",
       "    </tr>\n",
       "  </tbody>\n",
       "</table>\n",
       "</div>"
      ],
      "text/plain": [
       "                          Logistic Naive Bayes Decision Tree Random Forest  \\\n",
       "Accuracy                    95.3 %      95.3 %        85.7 %        87.0 %   \n",
       "F1 Score                    95.3 %      80.8 %        85.4 %        86.1 %   \n",
       "Recall                      95.3 %      81.0 %        85.7 %        87.0 %   \n",
       "Precision                   95.4 %      81.4 %        85.3 %        86.7 %   \n",
       "Cross_validated_F1          96.2 %      83.9 %        85.1 %        87.1 %   \n",
       "Cross_validated_Accuracy    96.3 %      84.0 %        85.3 %        87.7 %   \n",
       "Cross_validated_Recall      96.3 %      84.0 %        85.2 %        87.4 %   \n",
       "Cross_validated_Precision   96.3 %      84.6 %        85.6 %        87.3 %   \n",
       "\n",
       "                              KNN ADA Boost Stacking  \n",
       "Accuracy                   86.7 %    89.3 %   93.2 %  \n",
       "F1 Score                   85.7 %    88.8 %   93.0 %  \n",
       "Recall                     86.7 %    89.3 %   93.2 %  \n",
       "Precision                  87.1 %    89.6 %   93.2 %  \n",
       "Cross_validated_F1         87.5 %    90.0 %   94.8 %  \n",
       "Cross_validated_Accuracy   88.0 %    90.5 %   94.9 %  \n",
       "Cross_validated_Recall     88.0 %    90.7 %   94.9 %  \n",
       "Cross_validated_Precision  87.5 %    90.6 %   95.0 %  "
      ]
     },
     "execution_count": 87,
     "metadata": {},
     "output_type": "execute_result"
    }
   ],
   "source": [
    "eva = pd.DataFrame([accu,f1,re,precision,crF, crA, crR, crP], columns=['Logistic', \n",
    "                                                    'Naive Bayes', \n",
    "                                                    'Decision Tree', \n",
    "                                                    'Random Forest', \n",
    "                                                    'KNN', \n",
    "                                                    'ADA Boost', \n",
    "                                                    'Stacking'], index=['Accuracy', \n",
    "                                                                        'F1 Score', \n",
    "                                                                        'Recall', \n",
    "                                                                        'Precision', \n",
    "                                                                        'Cross_validated_F1', \n",
    "                                                                        'Cross_validated_Accuracy', \n",
    "                                                                        'Cross_validated_Recall', \n",
    "                                                                        'Cross_validated_Precision'])\n",
    "eva"
   ]
  },
  {
   "cell_type": "markdown",
   "id": "710bf727",
   "metadata": {},
   "source": [
    "FROM THE VISUALIZATION IT CAN BE CLEARLY SEEN ***LOGISTIC REGRESSION*** GIVES THE BETTER RESULTS THAN THE OTHER ALGORITHMS WITH **ACCURACY = 96.3 %** **[F1 = 96.2%, RECALL = 96.3%, PRECISION = 96.3%]**. AND IN TERMS OF ACCURACY AND EVALUATION METRICS ***STACKING CLASSIFIER*** SEEMS TO HAVE SECOND HIGHEST **ACCURACY = 95.0 %** AND EVALUATION METRICS **[F1 = 94.8%, RECALL = 94.9%, PRECISION = 94.9%]** ON COMPARISON WITH OTHER ALGORITHMS."
   ]
  },
  {
   "cell_type": "markdown",
   "id": "a4abb6a5",
   "metadata": {},
   "source": [
    "***STACKING*** GIVES A GOOD RESULT NEXT TO LOGISTIC REGRESSION HOWEVER THE ACCURACY AND OTHER EVALUATION METRICS FOR BOTH CLASSIFIERS IS QUIET SAME ON COMARISON WHICH COMES ROUGHLY AROUND ***95 to 96 %***"
   ]
  },
  {
   "cell_type": "code",
   "execution_count": null,
   "id": "8ec313b7",
   "metadata": {},
   "outputs": [],
   "source": []
  }
 ],
 "metadata": {
  "kernelspec": {
   "display_name": "Python 3 (ipykernel)",
   "language": "python",
   "name": "python3"
  },
  "language_info": {
   "codemirror_mode": {
    "name": "ipython",
    "version": 3
   },
   "file_extension": ".py",
   "mimetype": "text/x-python",
   "name": "python",
   "nbconvert_exporter": "python",
   "pygments_lexer": "ipython3",
   "version": "3.9.7"
  }
 },
 "nbformat": 4,
 "nbformat_minor": 5
}
